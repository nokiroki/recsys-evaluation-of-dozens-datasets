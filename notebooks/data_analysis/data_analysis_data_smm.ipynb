{
 "cells": [
  {
   "cell_type": "code",
   "execution_count": 1,
   "id": "0afb9140-7ea9-4194-a28e-cd984a68cc4f",
   "metadata": {},
   "outputs": [],
   "source": [
    "import numpy as np\n",
    "import pandas as pd\n",
    "\n",
    "import matplotlib.pyplot as plt\n",
    "import seaborn as sns\n",
    "\n",
    "plt.style.use('ggplot')"
   ]
  },
  {
   "cell_type": "code",
   "execution_count": 6,
   "id": "c04fab6c-4e8b-4c6f-9642-44345a90c2ba",
   "metadata": {},
   "outputs": [],
   "source": [
    "df = pd.read_parquet('../../data/data_smm/smm-event.parquet')"
   ]
  },
  {
   "cell_type": "code",
   "execution_count": 7,
   "id": "31d8e921-ac0f-46db-bffa-2c5d5fb3b528",
   "metadata": {},
   "outputs": [
    {
     "data": {
      "text/html": [
       "<div>\n",
       "<style scoped>\n",
       "    .dataframe tbody tr th:only-of-type {\n",
       "        vertical-align: middle;\n",
       "    }\n",
       "\n",
       "    .dataframe tbody tr th {\n",
       "        vertical-align: top;\n",
       "    }\n",
       "\n",
       "    .dataframe thead th {\n",
       "        text-align: right;\n",
       "    }\n",
       "</style>\n",
       "<table border=\"1\" class=\"dataframe\">\n",
       "  <thead>\n",
       "    <tr style=\"text-align: right;\">\n",
       "      <th></th>\n",
       "      <th>user_id</th>\n",
       "      <th>datetime</th>\n",
       "      <th>event</th>\n",
       "      <th>item_id</th>\n",
       "      <th>category_id</th>\n",
       "      <th>price</th>\n",
       "    </tr>\n",
       "  </thead>\n",
       "  <tbody>\n",
       "    <tr>\n",
       "      <th>0</th>\n",
       "      <td>1199174</td>\n",
       "      <td>2023-02-13 03:12:19.131</td>\n",
       "      <td>2</td>\n",
       "      <td>1861088</td>\n",
       "      <td>5395</td>\n",
       "      <td>-0.042062</td>\n",
       "    </tr>\n",
       "    <tr>\n",
       "      <th>1</th>\n",
       "      <td>3124963</td>\n",
       "      <td>2023-02-13 09:38:55.674</td>\n",
       "      <td>2</td>\n",
       "      <td>2084441</td>\n",
       "      <td>1531</td>\n",
       "      <td>0.079817</td>\n",
       "    </tr>\n",
       "    <tr>\n",
       "      <th>2</th>\n",
       "      <td>2106055</td>\n",
       "      <td>2023-02-13 08:26:05.004</td>\n",
       "      <td>2</td>\n",
       "      <td>2586689</td>\n",
       "      <td>9294</td>\n",
       "      <td>-0.038990</td>\n",
       "    </tr>\n",
       "    <tr>\n",
       "      <th>3</th>\n",
       "      <td>4169844</td>\n",
       "      <td>2023-02-13 16:55:08.470</td>\n",
       "      <td>2</td>\n",
       "      <td>2586689</td>\n",
       "      <td>9294</td>\n",
       "      <td>-0.038990</td>\n",
       "    </tr>\n",
       "    <tr>\n",
       "      <th>4</th>\n",
       "      <td>7472260</td>\n",
       "      <td>2023-02-13 03:30:13.093</td>\n",
       "      <td>2</td>\n",
       "      <td>2586689</td>\n",
       "      <td>9294</td>\n",
       "      <td>-0.038990</td>\n",
       "    </tr>\n",
       "    <tr>\n",
       "      <th>...</th>\n",
       "      <td>...</td>\n",
       "      <td>...</td>\n",
       "      <td>...</td>\n",
       "      <td>...</td>\n",
       "      <td>...</td>\n",
       "      <td>...</td>\n",
       "    </tr>\n",
       "    <tr>\n",
       "      <th>196644015</th>\n",
       "      <td>6406462</td>\n",
       "      <td>2023-04-02 16:45:42.712</td>\n",
       "      <td>2</td>\n",
       "      <td>2687047</td>\n",
       "      <td>6206</td>\n",
       "      <td>-0.041476</td>\n",
       "    </tr>\n",
       "    <tr>\n",
       "      <th>196644016</th>\n",
       "      <td>6406462</td>\n",
       "      <td>2023-04-02 16:45:42.323</td>\n",
       "      <td>2</td>\n",
       "      <td>2687047</td>\n",
       "      <td>6206</td>\n",
       "      <td>-0.041476</td>\n",
       "    </tr>\n",
       "    <tr>\n",
       "      <th>196644017</th>\n",
       "      <td>8726613</td>\n",
       "      <td>2023-04-02 09:41:37.348</td>\n",
       "      <td>2</td>\n",
       "      <td>1244056</td>\n",
       "      <td>9295</td>\n",
       "      <td>-0.030982</td>\n",
       "    </tr>\n",
       "    <tr>\n",
       "      <th>196644018</th>\n",
       "      <td>8726613</td>\n",
       "      <td>2023-04-02 09:41:39.692</td>\n",
       "      <td>2</td>\n",
       "      <td>1244056</td>\n",
       "      <td>9295</td>\n",
       "      <td>-0.030982</td>\n",
       "    </tr>\n",
       "    <tr>\n",
       "      <th>196644019</th>\n",
       "      <td>6888547</td>\n",
       "      <td>2023-04-02 12:56:12.449</td>\n",
       "      <td>2</td>\n",
       "      <td>1340625</td>\n",
       "      <td>6206</td>\n",
       "      <td>-0.041575</td>\n",
       "    </tr>\n",
       "  </tbody>\n",
       "</table>\n",
       "<p>196644020 rows × 6 columns</p>\n",
       "</div>"
      ],
      "text/plain": [
       "           user_id                datetime  event  item_id  category_id  \\\n",
       "0          1199174 2023-02-13 03:12:19.131      2  1861088         5395   \n",
       "1          3124963 2023-02-13 09:38:55.674      2  2084441         1531   \n",
       "2          2106055 2023-02-13 08:26:05.004      2  2586689         9294   \n",
       "3          4169844 2023-02-13 16:55:08.470      2  2586689         9294   \n",
       "4          7472260 2023-02-13 03:30:13.093      2  2586689         9294   \n",
       "...            ...                     ...    ...      ...          ...   \n",
       "196644015  6406462 2023-04-02 16:45:42.712      2  2687047         6206   \n",
       "196644016  6406462 2023-04-02 16:45:42.323      2  2687047         6206   \n",
       "196644017  8726613 2023-04-02 09:41:37.348      2  1244056         9295   \n",
       "196644018  8726613 2023-04-02 09:41:39.692      2  1244056         9295   \n",
       "196644019  6888547 2023-04-02 12:56:12.449      2  1340625         6206   \n",
       "\n",
       "              price  \n",
       "0         -0.042062  \n",
       "1          0.079817  \n",
       "2         -0.038990  \n",
       "3         -0.038990  \n",
       "4         -0.038990  \n",
       "...             ...  \n",
       "196644015 -0.041476  \n",
       "196644016 -0.041476  \n",
       "196644017 -0.030982  \n",
       "196644018 -0.030982  \n",
       "196644019 -0.041575  \n",
       "\n",
       "[196644020 rows x 6 columns]"
      ]
     },
     "execution_count": 7,
     "metadata": {},
     "output_type": "execute_result"
    }
   ],
   "source": [
    "df"
   ]
  },
  {
   "cell_type": "code",
   "execution_count": 8,
   "id": "4725ae6e",
   "metadata": {},
   "outputs": [
    {
     "data": {
      "text/html": [
       "<div>\n",
       "<style scoped>\n",
       "    .dataframe tbody tr th:only-of-type {\n",
       "        vertical-align: middle;\n",
       "    }\n",
       "\n",
       "    .dataframe tbody tr th {\n",
       "        vertical-align: top;\n",
       "    }\n",
       "\n",
       "    .dataframe thead th {\n",
       "        text-align: right;\n",
       "    }\n",
       "</style>\n",
       "<table border=\"1\" class=\"dataframe\">\n",
       "  <thead>\n",
       "    <tr style=\"text-align: right;\">\n",
       "      <th></th>\n",
       "      <th>user_id</th>\n",
       "      <th>datetime</th>\n",
       "      <th>event</th>\n",
       "      <th>item_id</th>\n",
       "      <th>category_id</th>\n",
       "      <th>price</th>\n",
       "    </tr>\n",
       "  </thead>\n",
       "  <tbody>\n",
       "    <tr>\n",
       "      <th>0</th>\n",
       "      <td>4238206</td>\n",
       "      <td>2023-01-15 00:00:00.708</td>\n",
       "      <td>2</td>\n",
       "      <td>1657627</td>\n",
       "      <td>3251</td>\n",
       "      <td>-0.040133</td>\n",
       "    </tr>\n",
       "    <tr>\n",
       "      <th>1</th>\n",
       "      <td>5840465</td>\n",
       "      <td>2023-01-15 00:00:01.050</td>\n",
       "      <td>2</td>\n",
       "      <td>3319685</td>\n",
       "      <td>4842</td>\n",
       "      <td>-0.028571</td>\n",
       "    </tr>\n",
       "    <tr>\n",
       "      <th>2</th>\n",
       "      <td>3020753</td>\n",
       "      <td>2023-01-15 00:00:01.075</td>\n",
       "      <td>2</td>\n",
       "      <td>445772</td>\n",
       "      <td>7154</td>\n",
       "      <td>-0.042539</td>\n",
       "    </tr>\n",
       "    <tr>\n",
       "      <th>3</th>\n",
       "      <td>5840465</td>\n",
       "      <td>2023-01-15 00:00:01.124</td>\n",
       "      <td>2</td>\n",
       "      <td>3319685</td>\n",
       "      <td>4842</td>\n",
       "      <td>-0.028571</td>\n",
       "    </tr>\n",
       "    <tr>\n",
       "      <th>4</th>\n",
       "      <td>8706401</td>\n",
       "      <td>2023-01-15 00:00:01.400</td>\n",
       "      <td>2</td>\n",
       "      <td>3375657</td>\n",
       "      <td>4765</td>\n",
       "      <td>-0.038886</td>\n",
       "    </tr>\n",
       "    <tr>\n",
       "      <th>...</th>\n",
       "      <td>...</td>\n",
       "      <td>...</td>\n",
       "      <td>...</td>\n",
       "      <td>...</td>\n",
       "      <td>...</td>\n",
       "      <td>...</td>\n",
       "    </tr>\n",
       "    <tr>\n",
       "      <th>196644015</th>\n",
       "      <td>6408588</td>\n",
       "      <td>2023-05-14 20:59:57.000</td>\n",
       "      <td>0</td>\n",
       "      <td>1502672</td>\n",
       "      <td>567</td>\n",
       "      <td>-0.042137</td>\n",
       "    </tr>\n",
       "    <tr>\n",
       "      <th>196644016</th>\n",
       "      <td>6408588</td>\n",
       "      <td>2023-05-14 20:59:57.000</td>\n",
       "      <td>0</td>\n",
       "      <td>3387658</td>\n",
       "      <td>4476</td>\n",
       "      <td>-0.042365</td>\n",
       "    </tr>\n",
       "    <tr>\n",
       "      <th>196644017</th>\n",
       "      <td>7884399</td>\n",
       "      <td>2023-05-14 20:59:57.000</td>\n",
       "      <td>0</td>\n",
       "      <td>2203728</td>\n",
       "      <td>7259</td>\n",
       "      <td>-0.041292</td>\n",
       "    </tr>\n",
       "    <tr>\n",
       "      <th>196644018</th>\n",
       "      <td>6408588</td>\n",
       "      <td>2023-05-14 20:59:57.000</td>\n",
       "      <td>0</td>\n",
       "      <td>1939121</td>\n",
       "      <td>4476</td>\n",
       "      <td>-0.042564</td>\n",
       "    </tr>\n",
       "    <tr>\n",
       "      <th>196644019</th>\n",
       "      <td>3104807</td>\n",
       "      <td>2023-05-14 20:59:58.000</td>\n",
       "      <td>0</td>\n",
       "      <td>93943</td>\n",
       "      <td>6338</td>\n",
       "      <td>-0.037250</td>\n",
       "    </tr>\n",
       "  </tbody>\n",
       "</table>\n",
       "<p>196644020 rows × 6 columns</p>\n",
       "</div>"
      ],
      "text/plain": [
       "           user_id                datetime  event  item_id  category_id  \\\n",
       "0          4238206 2023-01-15 00:00:00.708      2  1657627         3251   \n",
       "1          5840465 2023-01-15 00:00:01.050      2  3319685         4842   \n",
       "2          3020753 2023-01-15 00:00:01.075      2   445772         7154   \n",
       "3          5840465 2023-01-15 00:00:01.124      2  3319685         4842   \n",
       "4          8706401 2023-01-15 00:00:01.400      2  3375657         4765   \n",
       "...            ...                     ...    ...      ...          ...   \n",
       "196644015  6408588 2023-05-14 20:59:57.000      0  1502672          567   \n",
       "196644016  6408588 2023-05-14 20:59:57.000      0  3387658         4476   \n",
       "196644017  7884399 2023-05-14 20:59:57.000      0  2203728         7259   \n",
       "196644018  6408588 2023-05-14 20:59:57.000      0  1939121         4476   \n",
       "196644019  3104807 2023-05-14 20:59:58.000      0    93943         6338   \n",
       "\n",
       "              price  \n",
       "0         -0.040133  \n",
       "1         -0.028571  \n",
       "2         -0.042539  \n",
       "3         -0.028571  \n",
       "4         -0.038886  \n",
       "...             ...  \n",
       "196644015 -0.042137  \n",
       "196644016 -0.042365  \n",
       "196644017 -0.041292  \n",
       "196644018 -0.042564  \n",
       "196644019 -0.037250  \n",
       "\n",
       "[196644020 rows x 6 columns]"
      ]
     },
     "execution_count": 8,
     "metadata": {},
     "output_type": "execute_result"
    }
   ],
   "source": [
    "df.sort_values(\"datetime\", ignore_index=True)"
   ]
  },
  {
   "cell_type": "code",
   "execution_count": 12,
   "id": "be8d2380",
   "metadata": {},
   "outputs": [
    {
     "data": {
      "text/plain": [
       "count    1.966440e+08\n",
       "mean     3.529221e-09\n",
       "std      9.999806e-01\n",
       "min     -4.296196e-02\n",
       "25%     -4.222129e-02\n",
       "50%     -3.823952e-02\n",
       "75%     -1.666540e-02\n",
       "max      9.852566e+03\n",
       "Name: price, dtype: float64"
      ]
     },
     "execution_count": 12,
     "metadata": {},
     "output_type": "execute_result"
    }
   ],
   "source": [
    "df[\"price\"].describe()"
   ]
  },
  {
   "cell_type": "code",
   "execution_count": 9,
   "id": "b12d5066-d5e7-496b-aca4-20aa83528223",
   "metadata": {},
   "outputs": [
    {
     "data": {
      "text/plain": [
       "2730776"
      ]
     },
     "execution_count": 9,
     "metadata": {},
     "output_type": "execute_result"
    }
   ],
   "source": [
    "df['user_id'].nunique()"
   ]
  },
  {
   "cell_type": "code",
   "execution_count": 10,
   "id": "90a04d75-6ee3-431b-a7d2-644b50870472",
   "metadata": {},
   "outputs": [
    {
     "data": {
      "text/plain": [
       "3562321"
      ]
     },
     "execution_count": 10,
     "metadata": {},
     "output_type": "execute_result"
    }
   ],
   "source": [
    "df['item_id'].nunique()"
   ]
  },
  {
   "cell_type": "code",
   "execution_count": 11,
   "id": "416b1cb1",
   "metadata": {},
   "outputs": [
    {
     "data": {
      "text/plain": [
       "10001"
      ]
     },
     "execution_count": 11,
     "metadata": {},
     "output_type": "execute_result"
    }
   ],
   "source": [
    "df['category_id'].nunique()"
   ]
  },
  {
   "cell_type": "code",
   "execution_count": 13,
   "id": "1d4d8765-7f2e-4cb0-8f08-e181237530be",
   "metadata": {},
   "outputs": [
    {
     "data": {
      "text/plain": [
       "array([2, 0, 3, 1], dtype=int32)"
      ]
     },
     "execution_count": 13,
     "metadata": {},
     "output_type": "execute_result"
    }
   ],
   "source": [
    "df['event'].unique()"
   ]
  },
  {
   "cell_type": "code",
   "execution_count": 5,
   "id": "50b3c7ef-b377-48d9-908c-6a2b230f21a2",
   "metadata": {},
   "outputs": [
    {
     "name": "stdout",
     "output_type": "stream",
     "text": [
      "Number of the unique users - 2730776.\n",
      "Number of the unique items - 3562321.\n",
      "Number of the unique categories - 10001.\n"
     ]
    }
   ],
   "source": [
    "print(\n",
    "    f\"Number of the unique users - {df['user_id'].nunique()}.\\n\"\n",
    "    f\"Number of the unique items - {df['item_id'].nunique()}.\\n\"\n",
    "    f\"Number of the unique categories - {df['category_id'].nunique()}.\"\n",
    ")"
   ]
  },
  {
   "cell_type": "code",
   "execution_count": 6,
   "id": "5587c0d9-1813-46c6-8a5e-aabb1ed2bb74",
   "metadata": {},
   "outputs": [
    {
     "data": {
      "image/png": "[encoded data removed]",
      "text/plain": [
       "<Figure size 200x400 with 1 Axes>"
      ]
     },
     "metadata": {},
     "output_type": "display_data"
    }
   ],
   "source": [
    "plt.figure(figsize=(2, 4))\n",
    "sns.boxplot(df.groupby('user_id')['item_id'].count().values)\n",
    "plt.yscale('log')\n",
    "plt.title('Users');"
   ]
  },
  {
   "cell_type": "code",
   "execution_count": 7,
   "id": "bd8dd5e9-6d5f-478d-8d59-0374759d36bb",
   "metadata": {},
   "outputs": [
    {
     "data": {
      "image/png": "[encoded data removed]",
      "text/plain": [
       "<Figure size 200x400 with 1 Axes>"
      ]
     },
     "metadata": {},
     "output_type": "display_data"
    }
   ],
   "source": [
    "plt.figure(figsize=(2, 4))\n",
    "sns.boxplot(df.groupby('item_id')['user_id'].count().values)\n",
    "plt.yscale('log')\n",
    "plt.title('Items');"
   ]
  },
  {
   "cell_type": "code",
   "execution_count": 9,
   "id": "745e35e6-a5ed-4e6b-bfa9-979ea84c9b48",
   "metadata": {},
   "outputs": [
    {
     "data": {
      "image/png": "[encoded data removed]",
      "text/plain": [
       "<Figure size 200x400 with 1 Axes>"
      ]
     },
     "metadata": {},
     "output_type": "display_data"
    }
   ],
   "source": [
    "plt.figure(figsize=(2, 4))\n",
    "sns.boxplot(df.groupby('category_id')['user_id'].count().values)\n",
    "plt.yscale('log')\n",
    "plt.title('Items');"
   ]
  },
  {
   "cell_type": "code",
   "execution_count": 10,
   "id": "12f729a9-3b2d-4c97-ad7d-77db9f3e7dd5",
   "metadata": {},
   "outputs": [
    {
     "data": {
      "image/png": "[encoded data removed]",
      "text/plain": [
       "<Figure size 400x600 with 1 Axes>"
      ]
     },
     "metadata": {},
     "output_type": "display_data"
    }
   ],
   "source": [
    "plt.figure(figsize=(4, 6))\n",
    "sns.boxplot(df.groupby('user_id')['category_id'].nunique().values)\n",
    "plt.title('Unique categories for each user');"
   ]
  },
  {
   "cell_type": "code",
   "execution_count": null,
   "id": "4a5badbd-c3f0-4438-9b00-91762d035514",
   "metadata": {},
   "outputs": [],
   "source": []
  }
 ],
 "metadata": {
  "kernelspec": {
   "display_name": "Python 3 (ipykernel)",
   "language": "python",
   "name": "python3"
  },
  "language_info": {
   "codemirror_mode": {
    "name": "ipython",
    "version": 3
   },
   "file_extension": ".py",
   "mimetype": "text/x-python",
   "name": "python",
   "nbconvert_exporter": "python",
   "pygments_lexer": "ipython3",
   "version": "3.9.17"
  }
 },
 "nbformat": 4,
 "nbformat_minor": 5
}
