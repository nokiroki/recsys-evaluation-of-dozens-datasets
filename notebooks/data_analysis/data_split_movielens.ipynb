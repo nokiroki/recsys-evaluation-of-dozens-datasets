{
 "cells": [
  {
   "cell_type": "code",
   "execution_count": 1,
   "metadata": {},
   "outputs": [],
   "source": [
    "import os, sys\n",
    "dir2 = os.path.abspath('')\n",
    "dir1 = os.path.dirname(dir2)\n",
    "if not dir1 in sys.path:\n",
    "    sys.path.append(dir1)\n",
    "os.chdir('../..')"
   ]
  },
  {
   "cell_type": "code",
   "execution_count": 2,
   "metadata": {},
   "outputs": [],
   "source": [
    "import os\n",
    "\n",
    "from hydra import compose, initialize\n",
    "\n",
    "import matplotlib.pyplot as plt\n",
    "import numpy as np\n",
    "import pandas as pd\n",
    "import seaborn as sns\n",
    "\n",
    "plt.style.use(\"ggplot\")\n",
    "from scipy.sparse import coo_matrix, save_npz\n",
    "\n",
    "from src.preprocessing import ClassicDataset\n",
    "from src.utils.metrics import run_all_metrics, coverage\n",
    "from src.utils.processing import data_split"
   ]
  },
  {
   "cell_type": "code",
   "execution_count": 3,
   "metadata": {},
   "outputs": [],
   "source": [
    "with initialize(config_path='../../config/dataset', version_base=None):\n",
    "    cfg_data = compose(config_name='movielense')"
   ]
  },
  {
   "attachments": {},
   "cell_type": "markdown",
   "metadata": {},
   "source": [
    "#### Load data"
   ]
  },
  {
   "cell_type": "code",
   "execution_count": 4,
   "metadata": {},
   "outputs": [],
   "source": [
    "ratings = pd.read_csv(os.path.join(cfg_data['data_src'], cfg_data['ratings_file']))"
   ]
  },
  {
   "cell_type": "code",
   "execution_count": 5,
   "metadata": {},
   "outputs": [
    {
     "name": "stdout",
     "output_type": "stream",
     "text": [
      "Number of unique users: 138493\n",
      "Number of unique movies: 26744\n"
     ]
    }
   ],
   "source": [
    "# nubmer of unique user Ids:\n",
    "print(\"Number of unique users:\", ratings.userId.nunique())\n",
    "\n",
    "# nubmer of unique user Ids:\n",
    "print(\"Number of unique movies:\", ratings.movieId.nunique())"
   ]
  },
  {
   "cell_type": "code",
   "execution_count": 6,
   "metadata": {},
   "outputs": [
    {
     "name": "stdout",
     "output_type": "stream",
     "text": [
      "Preprocess data with the following parameters:\n",
      "- Minimum item ratings:  100\n",
      "- Minimum user ratings:  40\n",
      "- Positive threshold:  3.5\n"
     ]
    }
   ],
   "source": [
    "print(\"Preprocess data with the following parameters:\")\n",
    "print(\"- Minimum item ratings: \", cfg_data['min_item_ratings'])\n",
    "print(\"- Minimum user ratings: \", cfg_data['min_user_ratings'])\n",
    "print(\"- Positive threshold: \", cfg_data['positive_threshold'])"
   ]
  },
  {
   "cell_type": "code",
   "execution_count": 7,
   "metadata": {},
   "outputs": [],
   "source": [
    "ds = ClassicDataset(ratings)\n",
    "ds.prepare(cfg_data)\n",
    "ratings = ds.prepared_data"
   ]
  },
  {
   "cell_type": "code",
   "execution_count": 8,
   "metadata": {},
   "outputs": [
    {
     "name": "stdout",
     "output_type": "stream",
     "text": [
      "Number of unique users after preprocessing: 71775\n",
      "Number of unique movies after preprocessing: 6625\n"
     ]
    }
   ],
   "source": [
    "# nubmer of unique user Ids:\n",
    "print(\"Number of unique users after preprocessing:\", ratings.userId.nunique())\n",
    "\n",
    "# nubmer of unique user Ids:\n",
    "print(\"Number of unique movies after preprocessing:\", ratings.movieId.nunique())"
   ]
  },
  {
   "cell_type": "code",
   "execution_count": 9,
   "metadata": {},
   "outputs": [],
   "source": [
    "# Extract some parameters\n",
    "user_col = cfg_data[\"user_column\"]\n",
    "item_col = cfg_data[\"item_column\"]\n",
    "rating_col = cfg_data[\"rating_column\"]\n",
    "date_col = cfg_data[\"date_column\"]\n",
    "weighted = cfg_data[\"weighted\"]\n",
    "\n",
    "splitting_conf = cfg_data[\"splitting\"]\n",
    "train_size = splitting_conf[\"train_size\"]\n",
    "val_size = splitting_conf[\"val_size\"]\n",
    "test_size = splitting_conf[\"test_size\"]"
   ]
  },
  {
   "attachments": {},
   "cell_type": "markdown",
   "metadata": {},
   "source": [
    "### 80/10/10 Train/val/test split based on timestapm of all dataset"
   ]
  },
  {
   "cell_type": "code",
   "execution_count": 10,
   "metadata": {},
   "outputs": [
    {
     "name": "stdout",
     "output_type": "stream",
     "text": [
      "DataFrame with 80% percentile:\n",
      "(8423069, 5)\n",
      "DataFrame with 10% percentile:\n",
      "(1052884, 5)\n",
      "DataFrame with last 10% percentile:\n",
      "(1052884, 5)\n"
     ]
    }
   ],
   "source": [
    "# Temporal splitting\n",
    "ratings.sort_values(date_col, inplace=True)\n",
    "date_at_val_percentile = ratings[date_col].quantile(1 - val_size - test_size)\n",
    "date_at_test_percentile = ratings[date_col].quantile(1 - test_size)\n",
    "\n",
    "train_set = ratings[ratings[date_col] <= date_at_val_percentile]\n",
    "val_set = ratings[\n",
    "    (ratings[date_col] > date_at_val_percentile)\n",
    "    & (ratings[date_col] <= date_at_test_percentile)\n",
    "]\n",
    "test_set = ratings[ratings[date_col] > date_at_test_percentile]\n",
    "\n",
    "# Display the three DataFrames\n",
    "print(\"DataFrame with 80% percentile:\")\n",
    "print(train_set.shape)\n",
    "\n",
    "print(\"DataFrame with 10% percentile:\")\n",
    "print(val_set.shape)\n",
    "\n",
    "print(\"DataFrame with last 10% percentile:\")\n",
    "print(test_set.shape)"
   ]
  },
  {
   "cell_type": "code",
   "execution_count": 11,
   "metadata": {},
   "outputs": [
    {
     "name": "stdout",
     "output_type": "stream",
     "text": [
      "Fraction of unique users in train_set: 0.82\n",
      "Fraction of unique users in val_set: 0.16\n",
      "Fraction of unique users in test_set: 0.15\n"
     ]
    }
   ],
   "source": [
    "# Calculate the number of unique user ratings in the initial dataset\n",
    "total_unique_ratings = ratings[user_col].nunique()\n",
    "\n",
    "# Calculate the number of unique user ratings in the df_80_percentile DataFrame\n",
    "unique_train_set = train_set[user_col].nunique()\n",
    "fraction_train_set = unique_train_set / total_unique_ratings\n",
    "\n",
    "# Calculate the number of unique user ratings in the df_10_percentile DataFrame\n",
    "unique_dev_set = val_set[user_col].nunique()\n",
    "fraction_dev_set = unique_dev_set / total_unique_ratings\n",
    "\n",
    "# Calculate the number of unique user ratings in the df_last_10_percentile DataFrame\n",
    "unique_test_set = test_set[user_col].nunique()\n",
    "fraction_test_set = unique_test_set / total_unique_ratings\n",
    "\n",
    "# Display the fractions\n",
    "print(\"Fraction of unique users in train_set: {:.2f}\".format(fraction_train_set))\n",
    "print(\"Fraction of unique users in val_set: {:.2f}\".format(fraction_dev_set))\n",
    "print(\"Fraction of unique users in test_set: {:.2f}\".format(fraction_test_set))"
   ]
  },
  {
   "cell_type": "code",
   "execution_count": 12,
   "metadata": {},
   "outputs": [
    {
     "name": "stdout",
     "output_type": "stream",
     "text": [
      "Fraction of Cold Users val set: 0.58\n",
      "Fraction of Cold Users test set: 0.73\n"
     ]
    }
   ],
   "source": [
    "# Get the set of unique user IDs in train_set, dev_set, test_set\n",
    "original_set = set(ratings[user_col].unique())\n",
    "users_train_set = set(train_set[user_col].unique())\n",
    "users_val_set = set(val_set[user_col].unique())\n",
    "users_test_set = set(test_set[user_col].unique())\n",
    "\n",
    "# Calculate the set difference between users_dev_set, users_test_set and users_train_set\n",
    "users_only_in_val_set = users_val_set - users_train_set\n",
    "users_only_in_test_set = users_test_set - users_train_set\n",
    "\n",
    "# Calculate the fraction of users in users_dev_set, users_test_set but not in users_train_set\n",
    "fraction_users_only_in_val_set = len(users_only_in_val_set) / len(users_val_set)\n",
    "fraction_users_only_in_test_set = len(users_only_in_test_set) / len(users_test_set)\n",
    "\n",
    "# Display the fraction\n",
    "print(\"Fraction of Cold Users val set: {:.2f}\".format(fraction_users_only_in_val_set))\n",
    "print(\"Fraction of Cold Users test set: {:.2f}\".format(fraction_users_only_in_test_set))"
   ]
  },
  {
   "cell_type": "code",
   "execution_count": 13,
   "metadata": {},
   "outputs": [
    {
     "name": "stdout",
     "output_type": "stream",
     "text": [
      "Fraction of Cold Items val set: 0.05\n",
      "Fraction of Cold Items test set: 0.08\n"
     ]
    }
   ],
   "source": [
    "# Get the set of unique user IDs in train_set, dev_set, test_set\n",
    "original_set = set(ratings[item_col].unique())\n",
    "items_train_set = set(train_set[item_col].unique())\n",
    "items_val_set = set(val_set[item_col].unique())\n",
    "items_test_set = set(test_set[item_col].unique())\n",
    "\n",
    "# Calculate the set difference between users_dev_set, users_test_set and users_train_set\n",
    "items_only_in_val_set = items_val_set - items_train_set\n",
    "items_only_in_test_set = items_test_set - items_train_set\n",
    "\n",
    "# Calculate the fraction of users in users_dev_set, users_test_set but not in users_train_set\n",
    "fraction_items_only_in_val_set = len(items_only_in_val_set) / len(items_val_set)\n",
    "fraction_items_only_in_test_set = len(items_only_in_test_set) / len(items_test_set)\n",
    "\n",
    "# Display the fraction\n",
    "print(\"Fraction of Cold Items val set: {:.2f}\".format(fraction_items_only_in_val_set))\n",
    "print(\"Fraction of Cold Items test set: {:.2f}\".format(fraction_items_only_in_test_set))"
   ]
  },
  {
   "cell_type": "code",
   "execution_count": 14,
   "metadata": {},
   "outputs": [],
   "source": [
    "# Filter out rows in test set that have users, items not present in train and val sets\n",
    "train_users = set(train_set[user_col])\n",
    "train_items = set(train_set[item_col])\n",
    "val_set = val_set[\n",
    "    val_set[user_col].isin(train_users) & val_set[item_col].isin(train_items)\n",
    "]\n",
    "test_set = test_set[\n",
    "    test_set[user_col].isin(train_users) & test_set[item_col].isin(train_items)\n",
    "]"
   ]
  },
  {
   "cell_type": "code",
   "execution_count": 15,
   "metadata": {},
   "outputs": [
    {
     "name": "stdout",
     "output_type": "stream",
     "text": [
      "Percentage of initial data in filtered val set: 1.66 %\n",
      "Percentage of initial data in filtered test set: 0.85 %\n"
     ]
    }
   ],
   "source": [
    "print(\"Percentage of initial data in filtered val set: {:.2f} %\".format(val_set.shape[0] / ratings.shape[0] * 100))\n",
    "print(\"Percentage of initial data in filtered test set: {:.2f} %\".format(test_set.shape[0] / ratings.shape[0] * 100))"
   ]
  },
  {
   "attachments": {},
   "cell_type": "markdown",
   "metadata": {},
   "source": [
    "#### Resulting Rates distribution in train/val/test sets"
   ]
  },
  {
   "cell_type": "code",
   "execution_count": 16,
   "metadata": {},
   "outputs": [
    {
     "data": {
      "image/png": "[encoded data removed]",
      "text/plain": [
       "<Figure size 1200x400 with 3 Axes>"
      ]
     },
     "metadata": {},
     "output_type": "display_data"
    }
   ],
   "source": [
    "# Create a figure and subplots with 1 row and 3 columns\n",
    "fig, axs = plt.subplots(1, 3, figsize=(12, 4))\n",
    "\n",
    "# Plot for the test set\n",
    "sns.boxplot(data=np.log10(train_set[user_col].value_counts()).values, ax=axs[0])\n",
    "axs[0].set_ylabel(\"Rates, 10^x\")\n",
    "axs[0].set_title(\"Train Set\")\n",
    "\n",
    "# Plot for the dev set\n",
    "sns.boxplot(data=np.log10(val_set[user_col].value_counts()).values, ax=axs[1])\n",
    "axs[1].set_title(\"Dev Set\")\n",
    "\n",
    "# Plot for the train set\n",
    "sns.boxplot(data=np.log10(test_set[user_col].value_counts()).values, ax=axs[2])\n",
    "axs[2].set_title(\"Test Set\")\n",
    "\n",
    "plt.tight_layout()\n",
    "plt.show()"
   ]
  },
  {
   "attachments": {},
   "cell_type": "markdown",
   "metadata": {},
   "source": [
    "## 80/10/10 Train/dev/test random split"
   ]
  },
  {
   "cell_type": "code",
   "execution_count": 17,
   "metadata": {},
   "outputs": [],
   "source": [
    "random_state = np.random.RandomState()\n",
    "random_index = random_state.random_sample(len(ratings))\n",
    "train_index = random_index < train_size\n",
    "val_index = (train_size <= random_index) & (\n",
    "    random_index < train_size + val_size\n",
    ")\n",
    "test_index = random_index >= train_size + val_size\n",
    "\n",
    "train_set = ratings[train_index]\n",
    "val_set = ratings[val_index]\n",
    "test_set = ratings[test_index]"
   ]
  },
  {
   "cell_type": "code",
   "execution_count": 18,
   "metadata": {},
   "outputs": [
    {
     "name": "stdout",
     "output_type": "stream",
     "text": [
      "Fraction of unique users in train_set: 1.00\n",
      "Fraction of unique users in val_set: 1.00\n",
      "Fraction of unique users in test_set: 1.00\n"
     ]
    }
   ],
   "source": [
    "# Calculate the number of unique user ratings in the initial dataset\n",
    "total_unique_ratings = ratings[user_col].nunique()\n",
    "\n",
    "# Calculate the number of unique user ratings in the df_80_percentile DataFrame\n",
    "unique_train_set = train_set[user_col].nunique()\n",
    "fraction_train_set = unique_train_set / total_unique_ratings\n",
    "\n",
    "# Calculate the number of unique user ratings in the df_10_percentile DataFrame\n",
    "unique_dev_set = val_set[user_col].nunique()\n",
    "fraction_dev_set = unique_dev_set / total_unique_ratings\n",
    "\n",
    "# Calculate the number of unique user ratings in the df_last_10_percentile DataFrame\n",
    "unique_test_set = test_set[user_col].nunique()\n",
    "fraction_test_set = unique_test_set / total_unique_ratings\n",
    "\n",
    "# Display the fractions\n",
    "print(\"Fraction of unique users in train_set: {:.2f}\".format(fraction_train_set))\n",
    "print(\"Fraction of unique users in val_set: {:.2f}\".format(fraction_dev_set))\n",
    "print(\"Fraction of unique users in test_set: {:.2f}\".format(fraction_test_set))"
   ]
  },
  {
   "cell_type": "code",
   "execution_count": 19,
   "metadata": {},
   "outputs": [
    {
     "name": "stdout",
     "output_type": "stream",
     "text": [
      "Fraction of Cold Users val set: 0.00\n",
      "Fraction of Cold Users test set: 0.00\n"
     ]
    }
   ],
   "source": [
    "# Get the set of unique user IDs in train_set, dev_set, test_set\n",
    "original_set = set(ratings[user_col].unique())\n",
    "users_train_set = set(train_set[user_col].unique())\n",
    "users_val_set = set(val_set[user_col].unique())\n",
    "users_test_set = set(test_set[user_col].unique())\n",
    "\n",
    "# Calculate the set difference between users_dev_set, users_test_set and users_train_set\n",
    "users_only_in_val_set = users_val_set - users_train_set\n",
    "users_only_in_test_set = users_test_set - users_train_set\n",
    "\n",
    "# Calculate the fraction of users in users_dev_set, users_test_set but not in users_train_set\n",
    "fraction_users_only_in_val_set = len(users_only_in_val_set) / len(users_val_set)\n",
    "fraction_users_only_in_test_set = len(users_only_in_test_set) / len(users_test_set)\n",
    "\n",
    "# Display the fraction\n",
    "print(\"Fraction of Cold Users val set: {:.2f}\".format(fraction_users_only_in_val_set))\n",
    "print(\"Fraction of Cold Users test set: {:.2f}\".format(fraction_users_only_in_test_set))"
   ]
  },
  {
   "cell_type": "code",
   "execution_count": 20,
   "metadata": {},
   "outputs": [
    {
     "name": "stdout",
     "output_type": "stream",
     "text": [
      "Fraction of Cold Items val set: 0.00\n",
      "Fraction of Cold Items test set: 0.00\n"
     ]
    }
   ],
   "source": [
    "# Get the set of unique user IDs in train_set, dev_set, test_set\n",
    "original_set = set(ratings[item_col].unique())\n",
    "items_train_set = set(train_set[item_col].unique())\n",
    "items_val_set = set(val_set[item_col].unique())\n",
    "items_test_set = set(test_set[item_col].unique())\n",
    "\n",
    "# Calculate the set difference between users_dev_set, users_test_set and users_train_set\n",
    "items_only_in_val_set = items_val_set - items_train_set\n",
    "items_only_in_test_set = items_test_set - items_train_set\n",
    "\n",
    "# Calculate the fraction of users in users_dev_set, users_test_set but not in users_train_set\n",
    "fraction_items_only_in_val_set = len(items_only_in_val_set) / len(items_val_set)\n",
    "fraction_items_only_in_test_set = len(items_only_in_test_set) / len(items_test_set)\n",
    "\n",
    "# Display the fraction\n",
    "print(\"Fraction of Cold Items val set: {:.2f}\".format(fraction_items_only_in_val_set))\n",
    "print(\"Fraction of Cold Items test set: {:.2f}\".format(fraction_items_only_in_test_set))"
   ]
  },
  {
   "cell_type": "code",
   "execution_count": 21,
   "metadata": {},
   "outputs": [],
   "source": [
    "# Filter out rows in test set that have users, items not present in train and val sets\n",
    "train_users = set(train_set[user_col])\n",
    "train_items = set(train_set[item_col])\n",
    "val_set = val_set[\n",
    "    val_set[user_col].isin(train_users) & val_set[item_col].isin(train_items)\n",
    "]\n",
    "test_set = test_set[\n",
    "    test_set[user_col].isin(train_users) & test_set[item_col].isin(train_items)\n",
    "]"
   ]
  },
  {
   "cell_type": "code",
   "execution_count": 22,
   "metadata": {},
   "outputs": [
    {
     "name": "stdout",
     "output_type": "stream",
     "text": [
      "Percentage of initial data in filtered val set: 9.99 %\n",
      "Percentage of initial data in filtered test set: 9.99 %\n"
     ]
    }
   ],
   "source": [
    "print(\"Percentage of initial data in filtered val set: {:.2f} %\".format(val_set.shape[0] / ratings.shape[0] * 100))\n",
    "print(\"Percentage of initial data in filtered test set: {:.2f} %\".format(test_set.shape[0] / ratings.shape[0] * 100))"
   ]
  },
  {
   "attachments": {},
   "cell_type": "markdown",
   "metadata": {},
   "source": [
    "#### Resulting Rates distribution in train/val/test sets"
   ]
  },
  {
   "cell_type": "code",
   "execution_count": 23,
   "metadata": {},
   "outputs": [
    {
     "data": {
      "image/png": "[encoded data removed]",
      "text/plain": [
       "<Figure size 1200x400 with 3 Axes>"
      ]
     },
     "metadata": {},
     "output_type": "display_data"
    }
   ],
   "source": [
    "# Create a figure and subplots with 1 row and 3 columns\n",
    "fig, axs = plt.subplots(1, 3, figsize=(12, 4))\n",
    "\n",
    "# Plot for the test set\n",
    "sns.boxplot(data=np.log10(train_set[user_col].value_counts()).values, ax=axs[0])\n",
    "axs[0].set_ylabel(\"Rates, 10^x\")\n",
    "axs[0].set_title(\"Train Set\")\n",
    "\n",
    "# Plot for the dev set\n",
    "sns.boxplot(data=np.log10(val_set[user_col].value_counts()).values, ax=axs[1])\n",
    "axs[1].set_title(\"Dev Set\")\n",
    "\n",
    "# Plot for the train set\n",
    "sns.boxplot(data=np.log10(test_set[user_col].value_counts()).values, ax=axs[2])\n",
    "axs[2].set_title(\"Test Set\")\n",
    "\n",
    "plt.tight_layout()\n",
    "plt.show()"
   ]
  }
 ],
 "metadata": {
  "kernelspec": {
   "display_name": "sber-recsys",
   "language": "python",
   "name": "python3"
  },
  "language_info": {
   "codemirror_mode": {
    "name": "ipython",
    "version": 3
   },
   "file_extension": ".py",
   "mimetype": "text/x-python",
   "name": "python",
   "nbconvert_exporter": "python",
   "pygments_lexer": "ipython3",
   "version": "3.10.6"
  },
  "orig_nbformat": 4
 },
 "nbformat": 4,
 "nbformat_minor": 2
}
