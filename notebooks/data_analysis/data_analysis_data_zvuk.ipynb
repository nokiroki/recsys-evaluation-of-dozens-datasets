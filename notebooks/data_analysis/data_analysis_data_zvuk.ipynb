{
 "cells": [
  {
   "cell_type": "code",
   "execution_count": 1,
   "metadata": {},
   "outputs": [],
   "source": [
    "import numpy as np\n",
    "import pandas as pd\n",
    "\n",
    "import matplotlib.pyplot as plt\n",
    "import seaborn as sns"
   ]
  },
  {
   "cell_type": "code",
   "execution_count": 5,
   "metadata": {},
   "outputs": [],
   "source": [
    "df = pd.read_parquet(\"../../data/data_zvuk/zvuk.real_duration.parquet\")"
   ]
  },
  {
   "cell_type": "code",
   "execution_count": 6,
   "metadata": {},
   "outputs": [
    {
     "data": {
      "text/html": [
       "<div>\n",
       "<style scoped>\n",
       "    .dataframe tbody tr th:only-of-type {\n",
       "        vertical-align: middle;\n",
       "    }\n",
       "\n",
       "    .dataframe tbody tr th {\n",
       "        vertical-align: top;\n",
       "    }\n",
       "\n",
       "    .dataframe thead th {\n",
       "        text-align: right;\n",
       "    }\n",
       "</style>\n",
       "<table border=\"1\" class=\"dataframe\">\n",
       "  <thead>\n",
       "    <tr style=\"text-align: right;\">\n",
       "      <th></th>\n",
       "      <th>user_id</th>\n",
       "      <th>session_id</th>\n",
       "      <th>datetime</th>\n",
       "      <th>track_id</th>\n",
       "      <th>play_duration</th>\n",
       "    </tr>\n",
       "  </thead>\n",
       "  <tbody>\n",
       "    <tr>\n",
       "      <th>0</th>\n",
       "      <td>1938823</td>\n",
       "      <td>2200336</td>\n",
       "      <td>2023-03-18 11:43:57.856</td>\n",
       "      <td>1242546</td>\n",
       "      <td>23.999992</td>\n",
       "    </tr>\n",
       "    <tr>\n",
       "      <th>1</th>\n",
       "      <td>1938823</td>\n",
       "      <td>2200336</td>\n",
       "      <td>2023-03-18 11:43:58.114</td>\n",
       "      <td>145031</td>\n",
       "      <td>2.000000</td>\n",
       "    </tr>\n",
       "    <tr>\n",
       "      <th>2</th>\n",
       "      <td>1938823</td>\n",
       "      <td>2200336</td>\n",
       "      <td>2023-03-18 11:45:12.932</td>\n",
       "      <td>145031</td>\n",
       "      <td>34.000000</td>\n",
       "    </tr>\n",
       "    <tr>\n",
       "      <th>3</th>\n",
       "      <td>1938823</td>\n",
       "      <td>2200336</td>\n",
       "      <td>2023-03-18 11:45:27.808</td>\n",
       "      <td>1501837</td>\n",
       "      <td>18.000000</td>\n",
       "    </tr>\n",
       "    <tr>\n",
       "      <th>4</th>\n",
       "      <td>1938823</td>\n",
       "      <td>2200336</td>\n",
       "      <td>2023-03-18 11:45:42.891</td>\n",
       "      <td>1402020</td>\n",
       "      <td>2.000000</td>\n",
       "    </tr>\n",
       "  </tbody>\n",
       "</table>\n",
       "</div>"
      ],
      "text/plain": [
       "   user_id  session_id                datetime  track_id  play_duration\n",
       "0  1938823     2200336 2023-03-18 11:43:57.856   1242546      23.999992\n",
       "1  1938823     2200336 2023-03-18 11:43:58.114    145031       2.000000\n",
       "2  1938823     2200336 2023-03-18 11:45:12.932    145031      34.000000\n",
       "3  1938823     2200336 2023-03-18 11:45:27.808   1501837      18.000000\n",
       "4  1938823     2200336 2023-03-18 11:45:42.891   1402020       2.000000"
      ]
     },
     "execution_count": 6,
     "metadata": {},
     "output_type": "execute_result"
    }
   ],
   "source": [
    "df.head()"
   ]
  },
  {
   "cell_type": "code",
   "execution_count": 7,
   "metadata": {},
   "outputs": [
    {
     "data": {
      "text/html": [
       "<div>\n",
       "<style scoped>\n",
       "    .dataframe tbody tr th:only-of-type {\n",
       "        vertical-align: middle;\n",
       "    }\n",
       "\n",
       "    .dataframe tbody tr th {\n",
       "        vertical-align: top;\n",
       "    }\n",
       "\n",
       "    .dataframe thead th {\n",
       "        text-align: right;\n",
       "    }\n",
       "</style>\n",
       "<table border=\"1\" class=\"dataframe\">\n",
       "  <thead>\n",
       "    <tr style=\"text-align: right;\">\n",
       "      <th></th>\n",
       "      <th>user_id</th>\n",
       "      <th>session_id</th>\n",
       "      <th>datetime</th>\n",
       "      <th>track_id</th>\n",
       "      <th>play_duration</th>\n",
       "    </tr>\n",
       "  </thead>\n",
       "  <tbody>\n",
       "    <tr>\n",
       "      <th>0</th>\n",
       "      <td>6486258</td>\n",
       "      <td>3524541</td>\n",
       "      <td>2023-01-15 00:00:00.074</td>\n",
       "      <td>1064749</td>\n",
       "      <td>201.000000</td>\n",
       "    </tr>\n",
       "    <tr>\n",
       "      <th>1</th>\n",
       "      <td>5491677</td>\n",
       "      <td>4094387</td>\n",
       "      <td>2023-01-15 00:00:00.084</td>\n",
       "      <td>1224941</td>\n",
       "      <td>172.000000</td>\n",
       "    </tr>\n",
       "    <tr>\n",
       "      <th>2</th>\n",
       "      <td>6808990</td>\n",
       "      <td>7143886</td>\n",
       "      <td>2023-01-15 00:00:00.107</td>\n",
       "      <td>243163</td>\n",
       "      <td>199.000000</td>\n",
       "    </tr>\n",
       "    <tr>\n",
       "      <th>3</th>\n",
       "      <td>1586491</td>\n",
       "      <td>3406957</td>\n",
       "      <td>2023-01-15 00:00:00.468</td>\n",
       "      <td>41338</td>\n",
       "      <td>216.000000</td>\n",
       "    </tr>\n",
       "    <tr>\n",
       "      <th>4</th>\n",
       "      <td>7515726</td>\n",
       "      <td>4868792</td>\n",
       "      <td>2023-01-15 00:00:00.607</td>\n",
       "      <td>1097153</td>\n",
       "      <td>110.000000</td>\n",
       "    </tr>\n",
       "    <tr>\n",
       "      <th>...</th>\n",
       "      <td>...</td>\n",
       "      <td>...</td>\n",
       "      <td>...</td>\n",
       "      <td>...</td>\n",
       "      <td>...</td>\n",
       "    </tr>\n",
       "    <tr>\n",
       "      <th>244673546</th>\n",
       "      <td>7994202</td>\n",
       "      <td>10935073</td>\n",
       "      <td>2023-05-14 20:59:59.089</td>\n",
       "      <td>444873</td>\n",
       "      <td>93.000000</td>\n",
       "    </tr>\n",
       "    <tr>\n",
       "      <th>244673547</th>\n",
       "      <td>5028900</td>\n",
       "      <td>4602971</td>\n",
       "      <td>2023-05-14 20:59:59.735</td>\n",
       "      <td>493125</td>\n",
       "      <td>13.999992</td>\n",
       "    </tr>\n",
       "    <tr>\n",
       "      <th>244673548</th>\n",
       "      <td>8056611</td>\n",
       "      <td>1469042</td>\n",
       "      <td>2023-05-14 20:59:59.942</td>\n",
       "      <td>974941</td>\n",
       "      <td>2.999992</td>\n",
       "    </tr>\n",
       "    <tr>\n",
       "      <th>244673549</th>\n",
       "      <td>8056611</td>\n",
       "      <td>1469042</td>\n",
       "      <td>2023-05-14 20:59:59.988</td>\n",
       "      <td>974941</td>\n",
       "      <td>-1.000008</td>\n",
       "    </tr>\n",
       "    <tr>\n",
       "      <th>244673550</th>\n",
       "      <td>4903978</td>\n",
       "      <td>624656</td>\n",
       "      <td>2023-05-14 20:59:59.994</td>\n",
       "      <td>965614</td>\n",
       "      <td>242.000000</td>\n",
       "    </tr>\n",
       "  </tbody>\n",
       "</table>\n",
       "<p>244673551 rows × 5 columns</p>\n",
       "</div>"
      ],
      "text/plain": [
       "           user_id  session_id                datetime  track_id  \\\n",
       "0          6486258     3524541 2023-01-15 00:00:00.074   1064749   \n",
       "1          5491677     4094387 2023-01-15 00:00:00.084   1224941   \n",
       "2          6808990     7143886 2023-01-15 00:00:00.107    243163   \n",
       "3          1586491     3406957 2023-01-15 00:00:00.468     41338   \n",
       "4          7515726     4868792 2023-01-15 00:00:00.607   1097153   \n",
       "...            ...         ...                     ...       ...   \n",
       "244673546  7994202    10935073 2023-05-14 20:59:59.089    444873   \n",
       "244673547  5028900     4602971 2023-05-14 20:59:59.735    493125   \n",
       "244673548  8056611     1469042 2023-05-14 20:59:59.942    974941   \n",
       "244673549  8056611     1469042 2023-05-14 20:59:59.988    974941   \n",
       "244673550  4903978      624656 2023-05-14 20:59:59.994    965614   \n",
       "\n",
       "           play_duration  \n",
       "0             201.000000  \n",
       "1             172.000000  \n",
       "2             199.000000  \n",
       "3             216.000000  \n",
       "4             110.000000  \n",
       "...                  ...  \n",
       "244673546      93.000000  \n",
       "244673547      13.999992  \n",
       "244673548       2.999992  \n",
       "244673549      -1.000008  \n",
       "244673550     242.000000  \n",
       "\n",
       "[244673551 rows x 5 columns]"
      ]
     },
     "execution_count": 7,
     "metadata": {},
     "output_type": "execute_result"
    }
   ],
   "source": [
    "df.sort_values(\"datetime\", ignore_index=True)"
   ]
  },
  {
   "cell_type": "code",
   "execution_count": 8,
   "metadata": {},
   "outputs": [
    {
     "data": {
      "text/plain": [
       "user_id         382790\n",
       "session_id    12598314\n",
       "track_id       1506950\n",
       "dtype: int64"
      ]
     },
     "execution_count": 8,
     "metadata": {},
     "output_type": "execute_result"
    }
   ],
   "source": [
    "df[[\"user_id\", \"session_id\", \"track_id\"]].nunique()"
   ]
  },
  {
   "cell_type": "code",
   "execution_count": 25,
   "metadata": {},
   "outputs": [],
   "source": [
    "df = df[df.play_duration > 60]"
   ]
  },
  {
   "cell_type": "code",
   "execution_count": 26,
   "metadata": {},
   "outputs": [
    {
     "data": {
      "text/plain": [
       "user_id         350781\n",
       "session_id    11086760\n",
       "track_id       1220940\n",
       "dtype: int64"
      ]
     },
     "execution_count": 26,
     "metadata": {},
     "output_type": "execute_result"
    }
   ],
   "source": [
    "df[[\"user_id\", \"session_id\", \"track_id\"]].nunique()"
   ]
  },
  {
   "cell_type": "code",
   "execution_count": 27,
   "metadata": {},
   "outputs": [
    {
     "name": "stdout",
     "output_type": "stream",
     "text": [
      "<class 'pandas.core.frame.DataFrame'>\n",
      "Int64Index: 128229767 entries, 16 to 244673550\n",
      "Data columns (total 6 columns):\n",
      " #   Column                Dtype         \n",
      "---  ------                -----         \n",
      " 0   user_id               int32         \n",
      " 1   session_id            int32         \n",
      " 2   datetime              datetime64[ns]\n",
      " 3   track_id              int32         \n",
      " 4   play_duration         float32       \n",
      " 5   scaled_play_duration  float32       \n",
      "dtypes: datetime64[ns](1), float32(2), int32(3)\n",
      "memory usage: 4.3 GB\n"
     ]
    }
   ],
   "source": [
    "df.info()"
   ]
  },
  {
   "cell_type": "code",
   "execution_count": 28,
   "metadata": {},
   "outputs": [
    {
     "data": {
      "text/plain": [
       "count    1.282298e+08\n",
       "mean     1.846051e+02\n",
       "std      6.228223e+01\n",
       "min      6.100000e+01\n",
       "25%      1.430000e+02\n",
       "50%      1.840000e+02\n",
       "75%      2.220000e+02\n",
       "max      3.500000e+02\n",
       "Name: play_duration, dtype: float64"
      ]
     },
     "execution_count": 28,
     "metadata": {},
     "output_type": "execute_result"
    }
   ],
   "source": [
    "df[\"play_duration\"].describe()"
   ]
  },
  {
   "cell_type": "code",
   "execution_count": 29,
   "metadata": {},
   "outputs": [
    {
     "data": {
      "text/plain": [
       "<Axes: xlabel='play_duration', ylabel='Count'>"
      ]
     },
     "execution_count": 29,
     "metadata": {},
     "output_type": "execute_result"
    },
    {
     "data": {
      "image/png": "[encoded data removed]",
      "text/plain": [
       "<Figure size 640x480 with 1 Axes>"
      ]
     },
     "metadata": {},
     "output_type": "display_data"
    }
   ],
   "source": [
    "to_plot = df[\"play_duration\"].sample(100000)\n",
    "sns.histplot(to_plot, kde=True)"
   ]
  },
  {
   "cell_type": "code",
   "execution_count": 30,
   "metadata": {},
   "outputs": [],
   "source": [
    "x_min = df[\"play_duration\"].min()\n",
    "x_max = df[\"play_duration\"].max()\n",
    "df[\"scaled_play_duration\"] = (df[\"play_duration\"] - x_min) / (x_max - x_min)\n",
    "df[\"scaled_play_duration\"] *= 5"
   ]
  },
  {
   "cell_type": "code",
   "execution_count": 31,
   "metadata": {},
   "outputs": [
    {
     "data": {
      "text/plain": [
       "count    1.282298e+08\n",
       "mean     2.138491e+00\n",
       "std      1.077547e+00\n",
       "min      0.000000e+00\n",
       "25%      1.418685e+00\n",
       "50%      2.128028e+00\n",
       "75%      2.785467e+00\n",
       "max      5.000000e+00\n",
       "Name: scaled_play_duration, dtype: float64"
      ]
     },
     "execution_count": 31,
     "metadata": {},
     "output_type": "execute_result"
    }
   ],
   "source": [
    "df[\"scaled_play_duration\"].describe()"
   ]
  },
  {
   "cell_type": "code",
   "execution_count": 32,
   "metadata": {},
   "outputs": [
    {
     "data": {
      "text/plain": [
       "<Axes: xlabel='scaled_play_duration', ylabel='Count'>"
      ]
     },
     "execution_count": 32,
     "metadata": {},
     "output_type": "execute_result"
    },
    {
     "data": {
      "image/png": "[encoded data removed]",
      "text/plain": [
       "<Figure size 640x480 with 1 Axes>"
      ]
     },
     "metadata": {},
     "output_type": "display_data"
    }
   ],
   "source": [
    "to_plot = df[\"scaled_play_duration\"].sample(100000)\n",
    "sns.histplot(to_plot, kde=True)"
   ]
  },
  {
   "cell_type": "code",
   "execution_count": 33,
   "metadata": {},
   "outputs": [
    {
     "data": {
      "text/html": [
       "<div>\n",
       "<style scoped>\n",
       "    .dataframe tbody tr th:only-of-type {\n",
       "        vertical-align: middle;\n",
       "    }\n",
       "\n",
       "    .dataframe tbody tr th {\n",
       "        vertical-align: top;\n",
       "    }\n",
       "\n",
       "    .dataframe thead th {\n",
       "        text-align: right;\n",
       "    }\n",
       "</style>\n",
       "<table border=\"1\" class=\"dataframe\">\n",
       "  <thead>\n",
       "    <tr style=\"text-align: right;\">\n",
       "      <th></th>\n",
       "      <th>user_id</th>\n",
       "      <th>session_id</th>\n",
       "      <th>datetime</th>\n",
       "      <th>track_id</th>\n",
       "      <th>play_duration</th>\n",
       "      <th>scaled_play_duration</th>\n",
       "    </tr>\n",
       "  </thead>\n",
       "  <tbody>\n",
       "    <tr>\n",
       "      <th>16</th>\n",
       "      <td>4669961</td>\n",
       "      <td>2070579</td>\n",
       "      <td>2023-02-15 01:15:07.362</td>\n",
       "      <td>1024676</td>\n",
       "      <td>334.0</td>\n",
       "      <td>4.723184</td>\n",
       "    </tr>\n",
       "    <tr>\n",
       "      <th>17</th>\n",
       "      <td>4669961</td>\n",
       "      <td>2070579</td>\n",
       "      <td>2023-02-15 01:15:07.367</td>\n",
       "      <td>1353716</td>\n",
       "      <td>142.0</td>\n",
       "      <td>1.401384</td>\n",
       "    </tr>\n",
       "    <tr>\n",
       "      <th>18</th>\n",
       "      <td>4669961</td>\n",
       "      <td>2070579</td>\n",
       "      <td>2023-02-15 01:15:07.371</td>\n",
       "      <td>667979</td>\n",
       "      <td>203.0</td>\n",
       "      <td>2.456748</td>\n",
       "    </tr>\n",
       "    <tr>\n",
       "      <th>19</th>\n",
       "      <td>4669961</td>\n",
       "      <td>2070579</td>\n",
       "      <td>2023-02-15 01:15:07.374</td>\n",
       "      <td>554027</td>\n",
       "      <td>229.0</td>\n",
       "      <td>2.906574</td>\n",
       "    </tr>\n",
       "    <tr>\n",
       "      <th>20</th>\n",
       "      <td>4669961</td>\n",
       "      <td>2070579</td>\n",
       "      <td>2023-02-15 01:15:07.377</td>\n",
       "      <td>305326</td>\n",
       "      <td>134.0</td>\n",
       "      <td>1.262976</td>\n",
       "    </tr>\n",
       "  </tbody>\n",
       "</table>\n",
       "</div>"
      ],
      "text/plain": [
       "    user_id  session_id                datetime  track_id  play_duration  \\\n",
       "16  4669961     2070579 2023-02-15 01:15:07.362   1024676          334.0   \n",
       "17  4669961     2070579 2023-02-15 01:15:07.367   1353716          142.0   \n",
       "18  4669961     2070579 2023-02-15 01:15:07.371    667979          203.0   \n",
       "19  4669961     2070579 2023-02-15 01:15:07.374    554027          229.0   \n",
       "20  4669961     2070579 2023-02-15 01:15:07.377    305326          134.0   \n",
       "\n",
       "    scaled_play_duration  \n",
       "16              4.723184  \n",
       "17              1.401384  \n",
       "18              2.456748  \n",
       "19              2.906574  \n",
       "20              1.262976  "
      ]
     },
     "execution_count": 33,
     "metadata": {},
     "output_type": "execute_result"
    }
   ],
   "source": [
    "df.head()"
   ]
  },
  {
   "cell_type": "code",
   "execution_count": 34,
   "metadata": {},
   "outputs": [],
   "source": [
    "df.drop(columns=[\"session_id\", \"play_duration\"], inplace=True)"
   ]
  },
  {
   "cell_type": "code",
   "execution_count": 35,
   "metadata": {},
   "outputs": [],
   "source": [
    "df[\"repeats\"] = df.groupby([\"user_id\", \"track_id\"])[\"datetime\"].transform(\"count\")\n",
    "df.drop_duplicates([\"user_id\", \"track_id\"], inplace=True, keep=\"last\")"
   ]
  },
  {
   "cell_type": "code",
   "execution_count": 36,
   "metadata": {},
   "outputs": [
    {
     "data": {
      "text/html": [
       "<div>\n",
       "<style scoped>\n",
       "    .dataframe tbody tr th:only-of-type {\n",
       "        vertical-align: middle;\n",
       "    }\n",
       "\n",
       "    .dataframe tbody tr th {\n",
       "        vertical-align: top;\n",
       "    }\n",
       "\n",
       "    .dataframe thead th {\n",
       "        text-align: right;\n",
       "    }\n",
       "</style>\n",
       "<table border=\"1\" class=\"dataframe\">\n",
       "  <thead>\n",
       "    <tr style=\"text-align: right;\">\n",
       "      <th></th>\n",
       "      <th>user_id</th>\n",
       "      <th>datetime</th>\n",
       "      <th>scaled_play_duration</th>\n",
       "      <th>repeats</th>\n",
       "    </tr>\n",
       "  </thead>\n",
       "  <tbody>\n",
       "    <tr>\n",
       "      <th>0.60</th>\n",
       "      <td>4.0</td>\n",
       "      <td>4.0</td>\n",
       "      <td>4.0</td>\n",
       "      <td>4.0</td>\n",
       "    </tr>\n",
       "    <tr>\n",
       "      <th>0.61</th>\n",
       "      <td>4.0</td>\n",
       "      <td>4.0</td>\n",
       "      <td>4.0</td>\n",
       "      <td>4.0</td>\n",
       "    </tr>\n",
       "    <tr>\n",
       "      <th>0.62</th>\n",
       "      <td>4.0</td>\n",
       "      <td>4.0</td>\n",
       "      <td>4.0</td>\n",
       "      <td>4.0</td>\n",
       "    </tr>\n",
       "    <tr>\n",
       "      <th>0.63</th>\n",
       "      <td>5.0</td>\n",
       "      <td>5.0</td>\n",
       "      <td>5.0</td>\n",
       "      <td>5.0</td>\n",
       "    </tr>\n",
       "    <tr>\n",
       "      <th>0.64</th>\n",
       "      <td>5.0</td>\n",
       "      <td>5.0</td>\n",
       "      <td>5.0</td>\n",
       "      <td>5.0</td>\n",
       "    </tr>\n",
       "    <tr>\n",
       "      <th>0.65</th>\n",
       "      <td>5.0</td>\n",
       "      <td>5.0</td>\n",
       "      <td>5.0</td>\n",
       "      <td>5.0</td>\n",
       "    </tr>\n",
       "    <tr>\n",
       "      <th>0.66</th>\n",
       "      <td>5.0</td>\n",
       "      <td>5.0</td>\n",
       "      <td>5.0</td>\n",
       "      <td>5.0</td>\n",
       "    </tr>\n",
       "    <tr>\n",
       "      <th>0.67</th>\n",
       "      <td>6.0</td>\n",
       "      <td>6.0</td>\n",
       "      <td>6.0</td>\n",
       "      <td>6.0</td>\n",
       "    </tr>\n",
       "    <tr>\n",
       "      <th>0.68</th>\n",
       "      <td>6.0</td>\n",
       "      <td>6.0</td>\n",
       "      <td>6.0</td>\n",
       "      <td>6.0</td>\n",
       "    </tr>\n",
       "    <tr>\n",
       "      <th>0.69</th>\n",
       "      <td>6.0</td>\n",
       "      <td>6.0</td>\n",
       "      <td>6.0</td>\n",
       "      <td>6.0</td>\n",
       "    </tr>\n",
       "  </tbody>\n",
       "</table>\n",
       "</div>"
      ],
      "text/plain": [
       "      user_id  datetime  scaled_play_duration  repeats\n",
       "0.60      4.0       4.0                   4.0      4.0\n",
       "0.61      4.0       4.0                   4.0      4.0\n",
       "0.62      4.0       4.0                   4.0      4.0\n",
       "0.63      5.0       5.0                   5.0      5.0\n",
       "0.64      5.0       5.0                   5.0      5.0\n",
       "0.65      5.0       5.0                   5.0      5.0\n",
       "0.66      5.0       5.0                   5.0      5.0\n",
       "0.67      6.0       6.0                   6.0      6.0\n",
       "0.68      6.0       6.0                   6.0      6.0\n",
       "0.69      6.0       6.0                   6.0      6.0"
      ]
     },
     "execution_count": 36,
     "metadata": {},
     "output_type": "execute_result"
    }
   ],
   "source": [
    "df.groupby(\"track_id\").count().quantile(np.arange(.6, .7, .01))"
   ]
  },
  {
   "cell_type": "code",
   "execution_count": 37,
   "metadata": {},
   "outputs": [
    {
     "data": {
      "text/plain": [
       "0.90     5.0\n",
       "0.91     5.0\n",
       "0.92     6.0\n",
       "0.93     7.0\n",
       "0.94     8.0\n",
       "0.95     9.0\n",
       "0.96    11.0\n",
       "0.97    13.0\n",
       "0.98    17.0\n",
       "0.99    26.0\n",
       "Name: repeats, dtype: float64"
      ]
     },
     "execution_count": 37,
     "metadata": {},
     "output_type": "execute_result"
    }
   ],
   "source": [
    "df[\"repeats\"].quantile(np.arange(.9, 1., .01))"
   ]
  },
  {
   "cell_type": "code",
   "execution_count": 38,
   "metadata": {},
   "outputs": [
    {
     "data": {
      "image/png": "[encoded data removed]",
      "text/plain": [
       "<Figure size 400x800 with 1 Axes>"
      ]
     },
     "metadata": {},
     "output_type": "display_data"
    }
   ],
   "source": [
    "plt.figure(figsize=(4, 8), dpi=100)\n",
    "sns.boxplot(df[\"repeats\"].values)\n",
    "plt.yscale(\"log\")"
   ]
  },
  {
   "cell_type": "code",
   "execution_count": 39,
   "metadata": {},
   "outputs": [],
   "source": [
    "df.reset_index(drop=True, inplace=True)"
   ]
  },
  {
   "cell_type": "code",
   "execution_count": 40,
   "metadata": {},
   "outputs": [
    {
     "data": {
      "text/plain": [
       "(count    350781.000000\n",
       " mean        136.982556\n",
       " std         249.511374\n",
       " min           1.000000\n",
       " 25%          12.000000\n",
       " 50%          51.000000\n",
       " 75%         156.000000\n",
       " max       10772.000000\n",
       " Name: track_id, dtype: float64,\n",
       " count    1.220940e+06\n",
       " mean     3.935564e+01\n",
       " std      3.994727e+02\n",
       " min      1.000000e+00\n",
       " 25%      1.000000e+00\n",
       " 50%      3.000000e+00\n",
       " 75%      9.000000e+00\n",
       " max      6.799600e+04\n",
       " Name: user_id, dtype: float64)"
      ]
     },
     "execution_count": 40,
     "metadata": {},
     "output_type": "execute_result"
    }
   ],
   "source": [
    "user_lens = df.groupby(\"user_id\")[\"track_id\"].count()\n",
    "item_lens = df.groupby(\"track_id\")[\"user_id\"].count()\n",
    "\n",
    "user_lens.describe(), item_lens.describe()"
   ]
  },
  {
   "cell_type": "code",
   "execution_count": 41,
   "metadata": {},
   "outputs": [
    {
     "data": {
      "image/png": "[encoded data removed]",
      "text/plain": [
       "<Figure size 2500x1500 with 2 Axes>"
      ]
     },
     "metadata": {},
     "output_type": "display_data"
    }
   ],
   "source": [
    "plt.figure(figsize=(10, 6), dpi=250)\n",
    "plt.subplot(1, 2, 1)\n",
    "sns.boxplot(user_lens.values)\n",
    "plt.yscale(\"log\")\n",
    "plt.subplot(1, 2, 2)\n",
    "sns.boxplot(item_lens.values);\n",
    "plt.yscale(\"log\")"
   ]
  },
  {
   "cell_type": "code",
   "execution_count": null,
   "metadata": {},
   "outputs": [],
   "source": []
  }
 ],
 "metadata": {
  "kernelspec": {
   "display_name": "base",
   "language": "python",
   "name": "python3"
  },
  "language_info": {
   "codemirror_mode": {
    "name": "ipython",
    "version": 3
   },
   "file_extension": ".py",
   "mimetype": "text/x-python",
   "name": "python",
   "nbconvert_exporter": "python",
   "pygments_lexer": "ipython3",
   "version": "3.9.17"
  },
  "orig_nbformat": 4
 },
 "nbformat": 4,
 "nbformat_minor": 2
}
