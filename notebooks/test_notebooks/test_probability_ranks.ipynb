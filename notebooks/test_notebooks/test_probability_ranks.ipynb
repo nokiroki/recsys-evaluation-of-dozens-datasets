{
 "cells": [
  {
   "cell_type": "code",
   "execution_count": 1,
   "id": "908be844",
   "metadata": {},
   "outputs": [],
   "source": [
    "import numpy as np"
   ]
  },
  {
   "cell_type": "markdown",
   "id": "b3ce2a54",
   "metadata": {},
   "source": [
    "# Input metrics parameters"
   ]
  },
  {
   "cell_type": "code",
   "execution_count": 15,
   "id": "cf7d6d11",
   "metadata": {},
   "outputs": [],
   "source": [
    "metrics = [[0.12, 0.04], [0.54, 0.14], [0.14, 0.02], [0.31, 0.4]]\n",
    "\n",
    "new_metric = [0.32, 0.09]"
   ]
  },
  {
   "cell_type": "markdown",
   "id": "5977861f",
   "metadata": {},
   "source": [
    "## Fixed new metric"
   ]
  },
  {
   "cell_type": "code",
   "execution_count": 22,
   "id": "6e1cfa23",
   "metadata": {},
   "outputs": [
    {
     "name": "stdout",
     "output_type": "stream",
     "text": [
      "Mean rank: 2.59, std: 0.5673623181001713\n"
     ]
    }
   ],
   "source": [
    "n = 100\n",
    "output_ranks = []\n",
    "for i in range(n):\n",
    "    ranks = []\n",
    "    ranks.append(new_metric[0])\n",
    "    for x in metrics:\n",
    "        ranks.append(np.random.normal(x[0], x[1]))\n",
    "    output_ranks.append(np.array(ranks).argsort().argsort()[0])\n",
    "print(f\"Mean rank: {np.mean(output_ranks)}, std: {np.std(output_ranks)}\")"
   ]
  },
  {
   "cell_type": "markdown",
   "id": "bcb13d6d",
   "metadata": {},
   "source": [
    "## Random new metric"
   ]
  },
  {
   "cell_type": "code",
   "execution_count": 23,
   "id": "8beff9ac",
   "metadata": {},
   "outputs": [
    {
     "name": "stdout",
     "output_type": "stream",
     "text": [
      "Mean rank: 2.51, std: 0.6081940479813988\n"
     ]
    }
   ],
   "source": [
    "n = 100\n",
    "output_ranks = []\n",
    "for i in range(n):\n",
    "    ranks = []\n",
    "    ranks.append(np.random.normal(new_metric[0], new_metric[1]))\n",
    "    for x in metrics:\n",
    "        ranks.append(np.random.normal(x[0], x[1]))\n",
    "    output_ranks.append(np.array(ranks).argsort().argsort()[0])\n",
    "print(f\"Mean rank: {np.mean(output_ranks)}, std: {np.std(output_ranks)}\")"
   ]
  }
 ],
 "metadata": {
  "kernelspec": {
   "display_name": "Python 3 (ipykernel)",
   "language": "python",
   "name": "python3"
  },
  "language_info": {
   "codemirror_mode": {
    "name": "ipython",
    "version": 3
   },
   "file_extension": ".py",
   "mimetype": "text/x-python",
   "name": "python",
   "nbconvert_exporter": "python",
   "pygments_lexer": "ipython3",
   "version": "3.9.16"
  }
 },
 "nbformat": 4,
 "nbformat_minor": 5
}
