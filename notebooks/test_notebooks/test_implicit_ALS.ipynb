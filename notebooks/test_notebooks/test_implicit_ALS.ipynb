{
 "cells": [
  {
   "cell_type": "code",
   "execution_count": 1,
   "metadata": {},
   "outputs": [],
   "source": [
    "import os, sys\n",
    "dir2 = os.path.abspath('')\n",
    "dir1 = os.path.dirname(dir2)\n",
    "if not dir1 in sys.path:\n",
    "    sys.path.append(dir1)\n",
    "os.chdir('../..')\n",
    "\n",
    "os.environ[\"OMP_NUM_THREADS\"] = \"4\""
   ]
  },
  {
   "cell_type": "code",
   "execution_count": 2,
   "metadata": {},
   "outputs": [
    {
     "name": "stderr",
     "output_type": "stream",
     "text": [
      "2023-12-03 18:24:02.587798: E external/local_xla/xla/stream_executor/cuda/cuda_dnn.cc:9261] Unable to register cuDNN factory: Attempting to register factory for plugin cuDNN when one has already been registered\n",
      "2023-12-03 18:24:02.587844: E external/local_xla/xla/stream_executor/cuda/cuda_fft.cc:607] Unable to register cuFFT factory: Attempting to register factory for plugin cuFFT when one has already been registered\n",
      "2023-12-03 18:24:02.589376: E external/local_xla/xla/stream_executor/cuda/cuda_blas.cc:1515] Unable to register cuBLAS factory: Attempting to register factory for plugin cuBLAS when one has already been registered\n",
      "2023-12-03 18:24:02.596555: I tensorflow/core/platform/cpu_feature_guard.cc:182] This TensorFlow binary is optimized to use available CPU instructions in performance-critical operations.\n",
      "To enable the following instructions: AVX2 FMA, in other operations, rebuild TensorFlow with the appropriate compiler flags.\n",
      "2023-12-03 18:24:03.447962: W tensorflow/compiler/tf2tensorrt/utils/py_utils.cc:38] TF-TRT Warning: Could not find TensorRT\n",
      "/home/user/conda/envs/recsys/lib/python3.9/site-packages/tqdm/auto.py:21: TqdmWarning: IProgress not found. Please update jupyter and ipywidgets. See https://ipywidgets.readthedocs.io/en/stable/user_install.html\n",
      "  from .autonotebook import tqdm as notebook_tqdm\n"
     ]
    }
   ],
   "source": [
    "from pathlib import Path\n",
    "\n",
    "from hydra import compose, initialize\n",
    "\n",
    "import pandas as pd\n",
    "import torch \n",
    "import numpy as np \n",
    "\n",
    "from src.models.implicit import ImplicitBench\n",
    "from src.preprocessing import ClassicDataset\n",
    "from src.utils.logging import get_logger\n",
    "from src.utils.processing import save_results, train_test_split, pandas_to_sparse\n",
    "from src.utils.metrics import run_all_metrics, coverage\n",
    "from src.utils.processing import pandas_to_aggregate\n",
    "logger = get_logger(name=__name__)\n",
    "\n",
    "%load_ext autoreload\n",
    "%autoreload 2"
   ]
  },
  {
   "cell_type": "code",
   "execution_count": 3,
   "metadata": {},
   "outputs": [],
   "source": [
    "from implicit.evaluation import ranking_metrics_at_k"
   ]
  },
  {
   "cell_type": "code",
   "execution_count": 4,
   "metadata": {},
   "outputs": [],
   "source": [
    "with initialize(config_path='../../config', version_base=None):\n",
    "    cfg = compose(config_name='config')"
   ]
  },
  {
   "cell_type": "code",
   "execution_count": 27,
   "metadata": {},
   "outputs": [
    {
     "data": {
      "text/plain": [
       "userId                    57\n",
       "itemId                    40\n",
       "rating                     5\n",
       "timestamp          977935034\n",
       "implicit_rating            1\n",
       "Name: (57, 4983), dtype: int64"
      ]
     },
     "execution_count": 27,
     "metadata": {},
     "output_type": "execute_result"
    }
   ],
   "source": [
    "data_train.groupby('userId').apply(lambda x: x).iloc[56]"
   ]
  },
  {
   "cell_type": "code",
   "execution_count": 28,
   "metadata": {},
   "outputs": [],
   "source": [
    "def save_to_file(df, filename):\n",
    "    with open(filename, 'w') as file:\n",
    "        for user_id, group in df[df['implicit_rating'] == 1].groupby('userId'):\n",
    "            items = ' '.join(group['itemId'].astype(str))\n",
    "            line = f\"{user_id} {items}\\n\"\n",
    "            file.write(line)\n",
    "\n",
    "# Saving the data\n",
    "save_to_file(data_train, 'train.txt')\n",
    "save_to_file(data_test, 'test.txt')"
   ]
  },
  {
   "cell_type": "code",
   "execution_count": 6,
   "metadata": {},
   "outputs": [
    {
     "name": "stderr",
     "output_type": "stream",
     "text": [
      "[I 2023-12-03 18:25:44,393] A new study created in memory with name: no-name-585f38a0-a729-4e45-ba2b-069b0914e831\n",
      "100%|██████████| 100/100 [00:00<00:00, 275.31it/s, train_auc=0.00%, skipped=19.57%]\n",
      "[I 2023-12-03 18:25:44,860] Trial 0 finished with value: 0.008262504004631148 and parameters: {'factors': 105, 'iterations': 100, 'regularization': 0.4570563099801455, 'learning_rate': 0.06026718993550663}. Best is trial 0 with value: 0.008262504004631148.\n",
      "100%|██████████| 20/20 [00:00<00:00, 234.43it/s, train_auc=91.30%, skipped=19.47%]\n",
      "[I 2023-12-03 18:25:45,018] Trial 1 finished with value: 0.05659942036359312 and parameters: {'factors': 70, 'iterations': 20, 'regularization': 0.00019517224641449495, 'learning_rate': 0.08675143843171859}. Best is trial 1 with value: 0.05659942036359312.\n",
      "100%|██████████| 75/75 [00:00<00:00, 178.90it/s, train_auc=89.32%, skipped=19.55%]\n",
      "[I 2023-12-03 18:25:45,515] Trial 2 finished with value: 0.04018141566098731 and parameters: {'factors': 140, 'iterations': 75, 'regularization': 0.00012674255898937226, 'learning_rate': 0.09702107536403744}. Best is trial 1 with value: 0.05659942036359312.\n",
      "100%|██████████| 30/30 [00:00<00:00, 120.34it/s, train_auc=85.88%, skipped=19.53%]\n",
      "[I 2023-12-03 18:25:45,845] Trial 3 finished with value: 0.08325271386404952 and parameters: {'factors': 175, 'iterations': 30, 'regularization': 0.0008111941985431928, 'learning_rate': 0.01915704647548995}. Best is trial 3 with value: 0.08325271386404952.\n",
      "100%|██████████| 55/55 [00:00<00:00, 189.25it/s, train_auc=90.29%, skipped=19.51%]\n",
      "[I 2023-12-03 18:25:46,212] Trial 4 finished with value: 0.06033883515055243 and parameters: {'factors': 95, 'iterations': 55, 'regularization': 0.01444525102276306, 'learning_rate': 0.029831684879606152}. Best is trial 3 with value: 0.08325271386404952.\n",
      "100%|██████████| 20/20 [00:00<00:00, 146.06it/s, train_auc=87.70%, skipped=19.52%]\n",
      "[I 2023-12-03 18:25:46,426] Trial 5 finished with value: 0.07395126485847503 and parameters: {'factors': 140, 'iterations': 20, 'regularization': 0.0028888383623653178, 'learning_rate': 0.03726982248607548}. Best is trial 3 with value: 0.08325271386404952.\n",
      "100%|██████████| 80/80 [00:00<00:00, 188.93it/s, train_auc=97.70%, skipped=19.48%]\n",
      "[I 2023-12-03 18:25:46,925] Trial 6 finished with value: 0.04287096871180694 and parameters: {'factors': 120, 'iterations': 80, 'regularization': 0.0009962513222055108, 'learning_rate': 0.051909209402947555}. Best is trial 3 with value: 0.08325271386404952.\n",
      "100%|██████████| 10/10 [00:00<00:00, 124.76it/s, train_auc=58.76%, skipped=19.50%]\n",
      "[I 2023-12-03 18:25:47,086] Trial 7 finished with value: 0.09860115025875872 and parameters: {'factors': 140, 'iterations': 10, 'regularization': 0.10907475835157694, 'learning_rate': 0.017881888245041864}. Best is trial 7 with value: 0.09860115025875872.\n",
      "100%|██████████| 100/100 [00:00<00:00, 219.34it/s, train_auc=0.00%, skipped=19.48%]\n",
      "[I 2023-12-03 18:25:47,612] Trial 8 finished with value: 0.04997703285968307 and parameters: {'factors': 60, 'iterations': 100, 'regularization': 6.732248920775331, 'learning_rate': 0.08103133746352965}. Best is trial 7 with value: 0.09860115025875872.\n",
      "100%|██████████| 15/15 [00:00<00:00, 151.86it/s, train_auc=57.63%, skipped=19.47%]\n",
      "[I 2023-12-03 18:25:47,783] Trial 9 finished with value: 0.0001749961361131146 and parameters: {'factors': 95, 'iterations': 15, 'regularization': 0.2637333993381525, 'learning_rate': 0.04457509688022053}. Best is trial 7 with value: 0.09860115025875872.\n",
      "100%|██████████| 45/45 [00:00<00:00, 115.51it/s, train_auc=57.44%, skipped=19.41%]\n",
      "[I 2023-12-03 18:25:48,273] Trial 10 finished with value: 0.10049217191799253 and parameters: {'factors': 195, 'iterations': 45, 'regularization': 0.03892116421572734, 'learning_rate': 0.0027782256858671223}. Best is trial 10 with value: 0.10049217191799253.\n",
      "100%|██████████| 45/45 [00:00<00:00, 118.21it/s, train_auc=56.19%, skipped=19.50%]\n",
      "[I 2023-12-03 18:25:48,753] Trial 11 finished with value: 0.10227580170032767 and parameters: {'factors': 195, 'iterations': 45, 'regularization': 0.05449280398972821, 'learning_rate': 0.0021676039626176077}. Best is trial 11 with value: 0.10227580170032767.\n",
      "100%|██████████| 45/45 [00:00<00:00, 116.52it/s, train_auc=55.85%, skipped=19.47%]\n",
      "[I 2023-12-03 18:25:49,238] Trial 12 finished with value: 0.09995158829946536 and parameters: {'factors': 200, 'iterations': 45, 'regularization': 0.020955026662931035, 'learning_rate': 0.0018599249458292515}. Best is trial 11 with value: 0.10227580170032767.\n",
      "100%|██████████| 40/40 [00:00<00:00, 114.99it/s, train_auc=55.89%, skipped=19.60%]\n",
      "[I 2023-12-03 18:25:49,687] Trial 13 finished with value: 0.10055330296030832 and parameters: {'factors': 200, 'iterations': 40, 'regularization': 0.04736125522047846, 'learning_rate': 0.002079650711148216}. Best is trial 11 with value: 0.10227580170032767.\n",
      "100%|██████████| 40/40 [00:00<00:00, 124.73it/s, train_auc=85.35%, skipped=19.47%]\n",
      "[I 2023-12-03 18:25:50,107] Trial 14 finished with value: 0.08168296226159277 and parameters: {'factors': 175, 'iterations': 40, 'regularization': 0.006659674896061765, 'learning_rate': 0.015265035504437731}. Best is trial 11 with value: 0.10227580170032767.\n",
      "100%|██████████| 60/60 [00:00<00:00, 128.51it/s, train_auc=71.08%, skipped=19.37%]\n",
      "[I 2023-12-03 18:25:50,675] Trial 15 finished with value: 0.09536399451813386 and parameters: {'factors': 170, 'iterations': 60, 'regularization': 0.05515412718973565, 'learning_rate': 0.0055052349720352035}. Best is trial 11 with value: 0.10227580170032767.\n",
      "100%|██████████| 60/60 [00:00<00:00, 126.33it/s, train_auc=0.07%, skipped=19.46%] \n",
      "[I 2023-12-03 18:25:51,247] Trial 16 finished with value: 0.005131476891789355 and parameters: {'factors': 165, 'iterations': 60, 'regularization': 0.7238489000691383, 'learning_rate': 0.02348676215343697}. Best is trial 11 with value: 0.10227580170032767.\n",
      "100%|██████████| 30/30 [00:00<00:00, 118.58it/s, train_auc=62.04%, skipped=19.57%]\n",
      "[I 2023-12-03 18:25:51,605] Trial 17 finished with value: 0.08821478928128179 and parameters: {'factors': 190, 'iterations': 30, 'regularization': 0.1457782754756413, 'learning_rate': 0.011194108668170442}. Best is trial 11 with value: 0.10227580170032767.\n",
      "100%|██████████| 70/70 [00:00<00:00, 171.74it/s, train_auc=95.35%, skipped=19.45%]\n",
      "[I 2023-12-03 18:25:52,109] Trial 18 finished with value: 0.05967283582646126 and parameters: {'factors': 155, 'iterations': 70, 'regularization': 0.010110667966085687, 'learning_rate': 0.03169368548345453}. Best is trial 11 with value: 0.10227580170032767.\n",
      "100%|██████████| 35/35 [00:00<00:00, 125.93it/s, train_auc=55.34%, skipped=19.51%]\n",
      "[I 2023-12-03 18:25:52,490] Trial 19 finished with value: 0.10007707497022562 and parameters: {'factors': 185, 'iterations': 35, 'regularization': 0.06886726632495134, 'learning_rate': 0.0011679883466987995}. Best is trial 11 with value: 0.10227580170032767.\n",
      "100%|██████████| 50/50 [00:00<00:00, 173.74it/s, train_auc=0.97%, skipped=19.58%] \n",
      "[I 2023-12-03 18:25:52,870] Trial 20 finished with value: 0.0011044902068723275 and parameters: {'factors': 155, 'iterations': 50, 'regularization': 0.7790712408926588, 'learning_rate': 0.013144752836954664}. Best is trial 11 with value: 0.10227580170032767.\n",
      "100%|██████████| 45/45 [00:00<00:00, 116.49it/s, train_auc=55.48%, skipped=19.53%]\n",
      "[I 2023-12-03 18:25:53,358] Trial 21 finished with value: 0.09971531032123584 and parameters: {'factors': 195, 'iterations': 45, 'regularization': 0.0525458948734796, 'learning_rate': 0.001199421619498247}. Best is trial 11 with value: 0.10227580170032767.\n",
      "100%|██████████| 30/30 [00:00<00:00, 117.63it/s, train_auc=76.08%, skipped=19.49%]\n",
      "[I 2023-12-03 18:25:53,714] Trial 22 finished with value: 0.09429290636977575 and parameters: {'factors': 190, 'iterations': 30, 'regularization': 0.02744064721776297, 'learning_rate': 0.01133631414573433}. Best is trial 11 with value: 0.10227580170032767.\n",
      "100%|██████████| 65/65 [00:00<00:00, 119.38it/s, train_auc=85.41%, skipped=19.50%]\n",
      "[I 2023-12-03 18:25:54,359] Trial 23 finished with value: 0.06802593986077063 and parameters: {'factors': 200, 'iterations': 65, 'regularization': 0.03640252168097719, 'learning_rate': 0.022677108105567056}. Best is trial 11 with value: 0.10227580170032767.\n",
      "100%|██████████| 50/50 [00:00<00:00, 126.11it/s, train_auc=82.40%, skipped=19.48%]\n",
      "[I 2023-12-03 18:25:54,852] Trial 24 finished with value: 0.0991086513499627 and parameters: {'factors': 180, 'iterations': 50, 'regularization': 0.0067849761837443096, 'learning_rate': 0.008422527561059798}. Best is trial 11 with value: 0.10227580170032767.\n",
      "100%|██████████| 40/40 [00:00<00:00, 124.95it/s, train_auc=61.79%, skipped=19.48%]\n",
      "[I 2023-12-03 18:25:55,263] Trial 25 finished with value: 0.08464797345743855 and parameters: {'factors': 160, 'iterations': 40, 'regularization': 0.15826528611711288, 'learning_rate': 0.008558029757317526}. Best is trial 11 with value: 0.10227580170032767.\n",
      "100%|██████████| 35/35 [00:00<00:00, 112.17it/s, train_auc=85.67%, skipped=19.52%]\n",
      "[I 2023-12-03 18:25:55,676] Trial 26 finished with value: 0.0715210884241441 and parameters: {'factors': 200, 'iterations': 35, 'regularization': 0.02076829004160828, 'learning_rate': 0.026260790388386312}. Best is trial 11 with value: 0.10227580170032767.\n",
      "100%|██████████| 85/85 [00:00<00:00, 122.85it/s, train_auc=81.48%, skipped=19.63%]\n",
      "[I 2023-12-03 18:25:56,468] Trial 27 finished with value: 0.06538613841905215 and parameters: {'factors': 185, 'iterations': 85, 'regularization': 0.07386646872134879, 'learning_rate': 0.018062501163911553}. Best is trial 11 with value: 0.10227580170032767.\n",
      "100%|██████████| 50/50 [00:00<00:00, 122.55it/s, train_auc=78.15%, skipped=19.44%]\n",
      "[I 2023-12-03 18:25:56,976] Trial 28 finished with value: 0.09400114219356857 and parameters: {'factors': 170, 'iterations': 50, 'regularization': 0.031112882541953723, 'learning_rate': 0.007899998289322079}. Best is trial 11 with value: 0.10227580170032767.\n",
      "100%|██████████| 25/25 [00:00<00:00, 167.82it/s, train_auc=18.06%, skipped=19.45%]\n",
      "[I 2023-12-03 18:25:57,220] Trial 29 finished with value: 0.0004858293851571408 and parameters: {'factors': 125, 'iterations': 25, 'regularization': 0.417906651438989, 'learning_rate': 0.03812488258763107}. Best is trial 11 with value: 0.10227580170032767.\n",
      "100%|██████████| 40/40 [00:00<00:00, 168.98it/s, train_auc=84.97%, skipped=19.47%]\n",
      "[I 2023-12-03 18:25:57,548] Trial 30 finished with value: 0.08336991240330684 and parameters: {'factors': 150, 'iterations': 40, 'regularization': 0.012209760277868494, 'learning_rate': 0.016544470118145846}. Best is trial 11 with value: 0.10227580170032767.\n",
      "100%|██████████| 35/35 [00:00<00:00, 118.64it/s, train_auc=55.59%, skipped=19.37%]\n",
      "[I 2023-12-03 18:25:57,940] Trial 31 finished with value: 0.1010953069005854 and parameters: {'factors': 185, 'iterations': 35, 'regularization': 0.07937861347550705, 'learning_rate': 0.0019054651540107831}. Best is trial 11 with value: 0.10227580170032767.\n",
      "100%|██████████| 45/45 [00:00<00:00, 124.67it/s, train_auc=55.53%, skipped=19.51%]\n",
      "[I 2023-12-03 18:25:58,400] Trial 32 finished with value: 0.10013376137546655 and parameters: {'factors': 190, 'iterations': 45, 'regularization': 0.1747661845915741, 'learning_rate': 0.0012476213272750772}. Best is trial 11 with value: 0.10227580170032767.\n",
      "100%|██████████| 55/55 [00:00<00:00, 124.70it/s, train_auc=65.37%, skipped=19.45%]\n",
      "[I 2023-12-03 18:25:58,939] Trial 33 finished with value: 0.07294869656958888 and parameters: {'factors': 180, 'iterations': 55, 'regularization': 0.0981290190376813, 'learning_rate': 0.006947170349019901}. Best is trial 11 with value: 0.10227580170032767.\n",
      "100%|██████████| 25/25 [00:00<00:00, 113.60it/s, train_auc=73.15%, skipped=19.58%]\n",
      "[I 2023-12-03 18:25:59,256] Trial 34 finished with value: 0.09371601453247365 and parameters: {'factors': 200, 'iterations': 25, 'regularization': 0.03730194636363523, 'learning_rate': 0.01235384137353439}. Best is trial 11 with value: 0.10227580170032767.\n",
      "100%|██████████| 35/35 [00:00<00:00, 122.42it/s, train_auc=80.15%, skipped=19.50%]\n",
      "[I 2023-12-03 18:25:59,642] Trial 35 finished with value: 0.07672400355521804 and parameters: {'factors': 180, 'iterations': 35, 'regularization': 0.06224723706759688, 'learning_rate': 0.021421772178977845}. Best is trial 11 with value: 0.10227580170032767.\n",
      "100%|██████████| 25/25 [00:00<00:00, 121.91it/s, train_auc=57.95%, skipped=19.46%]\n",
      "[I 2023-12-03 18:25:59,961] Trial 36 finished with value: 0.034117038025180665 and parameters: {'factors': 190, 'iterations': 25, 'regularization': 0.28567276012898024, 'learning_rate': 0.005576427799373229}. Best is trial 11 with value: 0.10227580170032767.\n",
      "100%|██████████| 40/40 [00:00<00:00, 194.18it/s, train_auc=85.42%, skipped=19.52%]\n",
      "[I 2023-12-03 18:26:00,554] Trial 37 finished with value: 0.08398548449880927 and parameters: {'factors': 85, 'iterations': 40, 'regularization': 0.0036896593634991445, 'learning_rate': 0.015498267313631854}. Best is trial 11 with value: 0.10227580170032767.\n",
      "100%|██████████| 55/55 [00:00<00:00, 185.82it/s, train_auc=88.15%, skipped=19.40%]\n",
      "[I 2023-12-03 18:26:00,956] Trial 38 finished with value: 0.06613158793837536 and parameters: {'factors': 110, 'iterations': 55, 'regularization': 0.019436402404374387, 'learning_rate': 0.024529776356273222}. Best is trial 11 with value: 0.10227580170032767.\n",
      "100%|██████████| 20/20 [00:00<00:00, 159.03it/s, train_auc=79.49%, skipped=19.46%]\n",
      "[I 2023-12-03 18:26:01,179] Trial 39 finished with value: 0.09471533983609286 and parameters: {'factors': 145, 'iterations': 20, 'regularization': 0.013638130999830113, 'learning_rate': 0.018342951212370267}. Best is trial 11 with value: 0.10227580170032767.\n",
      "100%|██████████| 45/45 [00:00<00:00, 112.36it/s, train_auc=56.57%, skipped=19.62%]\n"
     ]
    },
    {
     "name": "stdout",
     "output_type": "stream",
     "text": [
      "Precision@k     0.175290\n",
      "Recall@K        0.047983\n",
      "MAP@K           0.106967\n",
      "nDCG@k          0.180551\n",
      "MRR@k           0.308453\n",
      "HitRate@k       0.576756\n",
      "Coverage@K      0.033600\n",
      "Time_fit        0.434715\n",
      "Time_predict    0.013176\n",
      "Name: 10, dtype: float64\n"
     ]
    }
   ],
   "source": [
    "implicit_name: str = cfg['library']['name']\n",
    "cfg_data = cfg['dataset']\n",
    "cfg_model = cfg['library']['implicit_model']\n",
    "\n",
    "# split data into samples\n",
    "dataset_folder = Path('/'.join((\"preproc_data\", cfg_data[\"name\"])))\n",
    "\n",
    "dataset = ClassicDataset()\n",
    "dataset.prepare(cfg_data)\n",
    "\n",
    "if (\n",
    "    dataset_folder.joinpath(\"train.parquet\").exists() and\n",
    "    dataset_folder.joinpath(\"test.parquet\").exists()\n",
    "):\n",
    "    data_train = pd.read_parquet(dataset_folder.joinpath(\"train.parquet\"))\n",
    "    data_test = pd.read_parquet(dataset_folder.joinpath(\"test.parquet\"))\n",
    "else:\n",
    "    data_train, data_test = train_test_split(\n",
    "        dataset.prepared_data,\n",
    "        test_size=cfg_data[\"splitting\"][\"test_size\"],\n",
    "        splitting_type=cfg_data[\"splitting\"][\"strategy\"],\n",
    "    )\n",
    "    data_train.to_parquet(dataset_folder.joinpath(\"train.parquet\"))\n",
    "    data_test.to_parquet(dataset_folder.joinpath(\"test.parquet\"))\n",
    "\n",
    "shape = (\n",
    "    data_train[\"userId\"].max() + 1,\n",
    "    data_train[\"itemId\"].max() + 1,\n",
    ")\n",
    "\n",
    "train_interactions_sparse, train_weights_sparse = pandas_to_sparse(\n",
    "    data_train,\n",
    "    weighted=True,\n",
    "    shape=shape\n",
    ")\n",
    "test_interactions_sparse, _ = pandas_to_sparse(\n",
    "    data_test,\n",
    "    weighted=False,\n",
    "    shape=shape\n",
    ")\n",
    "\n",
    "model_folder = dataset_folder.joinpath(implicit_name, cfg_model[\"name\"])\n",
    "\n",
    "if cfg_model[\"saved_model\"]:\n",
    "    implicit = ImplicitBench.initialize_saved_model(\n",
    "        model_folder.joinpath(cfg_model[\"saved_model_name\"])\n",
    "    )\n",
    "else:\n",
    "    implicit = None\n",
    "if implicit is None:\n",
    "    if cfg_model[\"enable_optimization\"]:\n",
    "        data_train_opt, data_val = train_test_split(\n",
    "            data_train,\n",
    "            test_size=cfg_data[\"splitting\"][\"val_size\"],\n",
    "            splitting_type=cfg_data[\"splitting\"][\"strategy\"],\n",
    "        )\n",
    "        train_opt_interactions_sparse, train_opt_weights_sparse = pandas_to_sparse(\n",
    "            data_train_opt,\n",
    "            weighted=True,\n",
    "            shape=shape\n",
    "        )\n",
    "        val_interactions_sparse, _ = pandas_to_sparse(\n",
    "            data_val,\n",
    "            weighted=False,\n",
    "            shape=shape\n",
    "        )\n",
    "        implicit = ImplicitBench.initialize_with_optimization(\n",
    "            cfg_model[\"name\"],\n",
    "            cfg_model[\"optuna_optimizer\"],\n",
    "            train_opt_interactions_sparse,\n",
    "            train_opt_weights_sparse,\n",
    "            data_val\n",
    "        )\n",
    "        was_optimized = True\n",
    "    else:\n",
    "        implicit = ImplicitBench.initialize_with_params(\n",
    "            cfg_model[\"name\"], cfg_model[\"model\"]\n",
    "        )\n",
    "        was_optimized = False\n",
    "    implicit.fit(train_interactions_sparse, train_weights_sparse, **cfg_model['learning'])\n",
    "    implicit.save_model(model_folder)\n",
    "\n",
    "test_userids = np.sort(data_test.userId.unique())\n",
    "top_100_items = implicit.recommend_k(k=100, userids=test_userids)\n",
    "\n",
    "metrics = run_all_metrics(top_100_items, pandas_to_aggregate(data_test), [5, 10, 20, 100])\n",
    "coverage_metrics = []\n",
    "for k in (5, 10, 20, 100):\n",
    "    coverage_metrics.append(coverage(top_100_items, train_interactions_sparse.shape[1], k))\n",
    "\n",
    "metrics_df = pd.DataFrame(metrics, index=[5, 10, 20, 100], columns=(\n",
    "    'Precision@k', 'Recall@K', 'MAP@K', 'nDCG@k', 'MRR@k', 'HitRate@k'\n",
    "))\n",
    "metrics_df['Coverage@K'] = coverage_metrics\n",
    "\n",
    "metrics_df['Time_fit'] = implicit.learning_time\n",
    "metrics_df['Time_predict'] = implicit.predict_time\n",
    "\n",
    "print(metrics_df.loc[10])"
   ]
  },
  {
   "cell_type": "code",
   "execution_count": 6,
   "metadata": {},
   "outputs": [
    {
     "name": "stderr",
     "output_type": "stream",
     "text": [
      "100%|██████████| 1944/1944 [00:00<00:00, 540805.66it/s]\n"
     ]
    },
    {
     "data": {
      "text/plain": [
       "{'precision': 0.0003439972480220158,\n",
       " 'map': 7.001600365797896e-05,\n",
       " 'ndcg': 0.0001696676511234754,\n",
       " 'auc': 0.49965949506582036}"
      ]
     },
     "execution_count": 6,
     "metadata": {},
     "output_type": "execute_result"
    }
   ],
   "source": [
    "ranking_metrics_at_k(implicit.model, train_interactions_sparse, test_interactions_sparse, K=10)"
   ]
  },
  {
   "cell_type": "code",
   "execution_count": 7,
   "metadata": {},
   "outputs": [
    {
     "name": "stderr",
     "output_type": "stream",
     "text": [
      "100%|██████████| 1944/1944 [00:00<00:00, 641217.91it/s]\n"
     ]
    },
    {
     "data": {
      "text/plain": [
       "{'precision': 0.0003439972480220158,\n",
       " 'map': 7.001600365797896e-05,\n",
       " 'ndcg': 0.0001696676511234754,\n",
       " 'auc': 0.49965949506582036}"
      ]
     },
     "execution_count": 7,
     "metadata": {},
     "output_type": "execute_result"
    }
   ],
   "source": [
    "ranking_metrics_at_k(implicit.model, train_interactions_sparse, test_interactions_sparse, K=10)"
   ]
  },
  {
   "cell_type": "code",
   "execution_count": 8,
   "metadata": {},
   "outputs": [
    {
     "name": "stdout",
     "output_type": "stream",
     "text": [
      "Precision@k     0.000109\n",
      "Recall@K        0.000067\n",
      "MAP@K           0.000070\n",
      "nDCG@k          0.000170\n",
      "MRR@k           0.000643\n",
      "HitRate@k       0.001029\n",
      "Coverage@K      0.013688\n",
      "Time_fit        0.318789\n",
      "Time_predict    0.035809\n",
      "Name: 10, dtype: float64\n"
     ]
    }
   ],
   "source": [
    "print(metrics_df.loc[10])"
   ]
  },
  {
   "cell_type": "code",
   "execution_count": 9,
   "metadata": {},
   "outputs": [],
   "source": [
    "predicted_items = top_100_items.copy()\n",
    "interactions = train_interactions_sparse.copy()"
   ]
  },
  {
   "cell_type": "code",
   "execution_count": 10,
   "metadata": {},
   "outputs": [
    {
     "data": {
      "text/plain": [
       "(15739, 13369)"
      ]
     },
     "execution_count": 10,
     "metadata": {},
     "output_type": "execute_result"
    }
   ],
   "source": [
    "interactions.shape"
   ]
  },
  {
   "cell_type": "code",
   "execution_count": 11,
   "metadata": {},
   "outputs": [],
   "source": [
    "k = 100"
   ]
  },
  {
   "cell_type": "code",
   "execution_count": 12,
   "metadata": {},
   "outputs": [
    {
     "data": {
      "text/plain": [
       "(13369,)"
      ]
     },
     "execution_count": 12,
     "metadata": {},
     "output_type": "execute_result"
    }
   ],
   "source": [
    "np.array(interactions.sum(axis=0)).flatten().shape"
   ]
  },
  {
   "cell_type": "code",
   "execution_count": 14,
   "metadata": {},
   "outputs": [],
   "source": [
    "predicted_items = predicted_items[:, :k]\n",
    "popularity = np.array(interactions.sum(axis=0)).flatten() / interactions.shape[0]\n",
    "# Avoid division by zero in the log operation\n",
    "popularity = np.clip(popularity, 1e-12, None)\n",
    "item_novelty = -np.log2(popularity)\n",
    "# Calculate the novelty for the recommended items only\n",
    "recommended_item_novelties = item_novelty[predicted_items.flatten()]\n",
    "# Calculate the average novelty across all recommended items\n",
    "novelty_score = np.mean(recommended_item_novelties)\n"
   ]
  },
  {
   "cell_type": "code",
   "execution_count": 15,
   "metadata": {},
   "outputs": [],
   "source": [
    "from typing import Union\n",
    "from itertools import combinations\n",
    "\n",
    "import numpy as np\n",
    "import pandas as pd\n",
    "from scipy.special import comb\n",
    "import scipy.sparse as sps\n",
    "\n",
    "from tqdm.auto import tqdm"
   ]
  },
  {
   "cell_type": "code",
   "execution_count": 16,
   "metadata": {},
   "outputs": [
    {
     "name": "stderr",
     "output_type": "stream",
     "text": [
      "                                                                          \r"
     ]
    }
   ],
   "source": [
    "predicted_items = predicted_items[:, :k].astype(np.int32)\n",
    "cosin_sim_history = {}\n",
    "predicted_items.sort(1)\n",
    "total_cos_sim = 0.0\n",
    "for item_ids in tqdm(predicted_items, desc=\"Diversity calculation\", leave=False):\n",
    "    for i, j in combinations(item_ids, 2):\n",
    "        if (i, j) in cosin_sim_history:\n",
    "            total_cos_sim += cosin_sim_history[(i, j)]\n",
    "        else:\n",
    "            col1 = interactions[:, i].astype(np.float64)\n",
    "            col2 = interactions[:, j].astype(np.float64)\n",
    "            cos_sim = col1.T.dot(col2).sum() / (np.sqrt((col1.power(2)).sum()) * np.sqrt((col2.power(2)).sum()))\n",
    "            cosin_sim_history[(i, j)] = cos_sim\n",
    "            total_cos_sim += cos_sim\n",
    "            \n",
    "diversity_score = 1 - total_cos_sim / (predicted_items.shape[0] * comb(k, 2))"
   ]
  },
  {
   "cell_type": "code",
   "execution_count": null,
   "metadata": {},
   "outputs": [
    {
     "data": {
      "text/plain": [
       "0.9929829037930245"
      ]
     },
     "execution_count": 25,
     "metadata": {},
     "output_type": "execute_result"
    }
   ],
   "source": [
    "diversity_score"
   ]
  }
 ],
 "metadata": {
  "kernelspec": {
   "display_name": "rec_env",
   "language": "python",
   "name": "python3"
  },
  "language_info": {
   "codemirror_mode": {
    "name": "ipython",
    "version": 3
   },
   "file_extension": ".py",
   "mimetype": "text/x-python",
   "name": "python",
   "nbconvert_exporter": "python",
   "pygments_lexer": "ipython3",
   "version": "3.9.17"
  },
  "orig_nbformat": 4
 },
 "nbformat": 4,
 "nbformat_minor": 2
}
