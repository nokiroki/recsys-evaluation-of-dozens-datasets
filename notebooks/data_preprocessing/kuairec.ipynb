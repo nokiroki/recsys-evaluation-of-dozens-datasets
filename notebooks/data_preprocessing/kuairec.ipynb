{
 "cells": [
  {
   "cell_type": "code",
   "execution_count": 37,
   "metadata": {},
   "outputs": [],
   "source": [
    "import os\n",
    "\n",
    "import pandas as pd\n",
    "import numpy as np"
   ]
  },
  {
   "cell_type": "code",
   "execution_count": 38,
   "metadata": {},
   "outputs": [],
   "source": [
    "kuairec_small = pd.read_csv(\n",
    "    os.path.join(\"..\", \"..\", \"data\", \"kuairec\", \"data\", \"small_matrix.csv\"),\n",
    ")\n",
    "kuairec_full = pd.read_csv(\n",
    "    os.path.join(\"..\", \"..\", \"data\", \"kuairec\", \"data\", \"big_matrix.csv\"),\n",
    ")"
   ]
  },
  {
   "cell_type": "code",
   "execution_count": 31,
   "metadata": {},
   "outputs": [],
   "source": [
    "kuairec_small.dropna(inplace=True)"
   ]
  },
  {
   "cell_type": "code",
   "execution_count": 32,
   "metadata": {},
   "outputs": [],
   "source": [
    "kuairec_small = kuairec_small[['user_id', 'video_id', 'watch_ratio', 'time']]\n",
    "kuairec_full = kuairec_full[['user_id', 'video_id', 'watch_ratio', 'time']]"
   ]
  },
  {
   "cell_type": "code",
   "execution_count": 33,
   "metadata": {},
   "outputs": [],
   "source": [
    "kuairec_small.time = pd.to_datetime(kuairec_small.time).astype(int)\n",
    "kuairec_full.time = pd.to_datetime(kuairec_full.time).astype(int)"
   ]
  },
  {
   "cell_type": "code",
   "execution_count": 34,
   "metadata": {},
   "outputs": [],
   "source": [
    "# make maximum weight as 1 for watched item\n",
    "kuairec_small.watch_ratio = np.where(kuairec_small.watch_ratio > 1, 1, kuairec_small.watch_ratio)\n",
    "kuairec_full.watch_ratio = np.where(kuairec_full.watch_ratio > 1, 1, kuairec_full.watch_ratio)"
   ]
  },
  {
   "cell_type": "code",
   "execution_count": 35,
   "metadata": {},
   "outputs": [],
   "source": [
    "kuairec_small.to_parquet(\n",
    "    os.path.join(\"..\", \"..\", \"data\", \"kuairec\", \"data\", \"ratings_small.parquet\"), index=False\n",
    ")\n",
    "kuairec_full.to_parquet(\n",
    "    os.path.join(\"..\", \"..\", \"data\", \"kuairec\", \"data\", \"ratings_full.parquet\"), index=False\n",
    ")"
   ]
  }
 ],
 "metadata": {
  "kernelspec": {
   "display_name": "wind_kernel",
   "language": "python",
   "name": "wind_kernel"
  },
  "language_info": {
   "codemirror_mode": {
    "name": "ipython",
    "version": 3
   },
   "file_extension": ".py",
   "mimetype": "text/x-python",
   "name": "python",
   "nbconvert_exporter": "python",
   "pygments_lexer": "ipython3",
   "version": "3.10.6"
  },
  "orig_nbformat": 4
 },
 "nbformat": 4,
 "nbformat_minor": 2
}
