{
 "cells": [
  {
   "cell_type": "code",
   "execution_count": 1,
   "metadata": {},
   "outputs": [],
   "source": [
    "import os\n",
    "import json\n",
    "import pandas as pd"
   ]
  },
  {
   "cell_type": "code",
   "execution_count": 2,
   "metadata": {},
   "outputs": [],
   "source": [
    "def truncate_review_text(line):\n",
    "    # Find the index of \"review/text\" in the line\n",
    "    line = \"{\" + line[line.find('\"beer/beerId\"') :]\n",
    "    line = line[: line.find('\"beer/name\"')] + line[line.find('\"beer/beerId\"') + 1 :]\n",
    "    line = line[: line.find('\"review/text\"') - 2] + \"}\"\n",
    "    return line"
   ]
  },
  {
   "cell_type": "code",
   "execution_count": 3,
   "metadata": {},
   "outputs": [
    {
     "name": "stdout",
     "output_type": "stream",
     "text": [
      "JSONDecodeError: Expecting value: line 1 column 1 (char 0)\n",
      "Line: }\n"
     ]
    }
   ],
   "source": [
    "json_file_path = os.path.join(\"..\", \"..\", \"data\", \"ratebeer\", \"ratebeer.json\")\n",
    "prime = []\n",
    "count = 0\n",
    "count_1 = 0\n",
    "for line in open(json_file_path, \"r\"):\n",
    "    line = line.replace(\"'\", '\"')\n",
    "    line = truncate_review_text(line)\n",
    "    if line == \"{}\\n\":\n",
    "        continue\n",
    "    try:\n",
    "        val = json.loads(line)\n",
    "        prime.append(\n",
    "            [\n",
    "                val[\"review/profileName\"],\n",
    "                val[\"beer/beerId\"],\n",
    "                val[\"review/overall\"],\n",
    "                val[\"review/time\"],\n",
    "            ]\n",
    "        )\n",
    "    except json.JSONDecodeError as e:\n",
    "        print(f\"JSONDecodeError: {e}\")\n",
    "        print(f\"Line: {line}\")\n",
    "        continue"
   ]
  },
  {
   "cell_type": "code",
   "execution_count": 4,
   "metadata": {},
   "outputs": [],
   "source": [
    "ratings = pd.DataFrame(prime, columns=[\"userId\", \"itemId\", \"rating\", \"timestamp\"])"
   ]
  },
  {
   "cell_type": "code",
   "execution_count": 5,
   "metadata": {},
   "outputs": [],
   "source": [
    "ratings[\"rating\"] = ratings[\"rating\"].apply(\n",
    "    lambda rating_str: float(rating_str.split(\"/\")[0])\n",
    "    / float(rating_str.split(\"/\")[1])\n",
    "    * 5\n",
    ")\n",
    "ratings.timestamp = ratings.timestamp.astype(int)"
   ]
  },
  {
   "cell_type": "code",
   "execution_count": null,
   "metadata": {},
   "outputs": [],
   "source": [
    "ratings.to_parquet(\n",
    "    os.path.join(\"..\", \"..\", \"data\", \"ratebeer\", \"ratings.parquet\"), index=False\n",
    ")"
   ]
  }
 ],
 "metadata": {
  "kernelspec": {
   "display_name": "wind_kernel",
   "language": "python",
   "name": "wind_kernel"
  },
  "language_info": {
   "codemirror_mode": {
    "name": "ipython",
    "version": 3
   },
   "file_extension": ".py",
   "mimetype": "text/x-python",
   "name": "python",
   "nbconvert_exporter": "python",
   "pygments_lexer": "ipython3",
   "version": "3.10.6"
  },
  "orig_nbformat": 4
 },
 "nbformat": 4,
 "nbformat_minor": 2
}
