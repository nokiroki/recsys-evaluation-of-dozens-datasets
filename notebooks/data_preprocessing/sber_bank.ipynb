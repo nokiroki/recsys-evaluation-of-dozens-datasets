{
 "cells": [
  {
   "cell_type": "code",
   "execution_count": 10,
   "metadata": {},
   "outputs": [],
   "source": [
    "import os\n",
    "\n",
    "import pandas as pd\n",
    "import numpy as np\n",
    "import matplotlib.pyplot as plt"
   ]
  },
  {
   "cell_type": "code",
   "execution_count": 11,
   "metadata": {},
   "outputs": [],
   "source": [
    "data = pd.read_parquet('../../data/sber_bank/sbolpro.parquet')"
   ]
  },
  {
   "cell_type": "code",
   "execution_count": 12,
   "metadata": {},
   "outputs": [
    {
     "data": {
      "text/html": [
       "<div>\n",
       "<style scoped>\n",
       "    .dataframe tbody tr th:only-of-type {\n",
       "        vertical-align: middle;\n",
       "    }\n",
       "\n",
       "    .dataframe tbody tr th {\n",
       "        vertical-align: top;\n",
       "    }\n",
       "\n",
       "    .dataframe thead th {\n",
       "        text-align: right;\n",
       "    }\n",
       "</style>\n",
       "<table border=\"1\" class=\"dataframe\">\n",
       "  <thead>\n",
       "    <tr style=\"text-align: right;\">\n",
       "      <th></th>\n",
       "      <th>timestamp</th>\n",
       "      <th>user_id</th>\n",
       "      <th>product_id</th>\n",
       "      <th>is_sold</th>\n",
       "      <th>feature_0</th>\n",
       "      <th>feature_1</th>\n",
       "      <th>feature_2</th>\n",
       "      <th>feature_3</th>\n",
       "      <th>feature_4</th>\n",
       "      <th>feature_5</th>\n",
       "      <th>...</th>\n",
       "      <th>feature_1335</th>\n",
       "      <th>feature_1336</th>\n",
       "      <th>feature_1337</th>\n",
       "      <th>feature_1338</th>\n",
       "      <th>feature_1339</th>\n",
       "      <th>feature_1340</th>\n",
       "      <th>feature_1341</th>\n",
       "      <th>feature_1342</th>\n",
       "      <th>feature_1343</th>\n",
       "      <th>feature_1344</th>\n",
       "    </tr>\n",
       "  </thead>\n",
       "  <tbody>\n",
       "    <tr>\n",
       "      <th>0</th>\n",
       "      <td>2023-01-15</td>\n",
       "      <td>1010508</td>\n",
       "      <td>1</td>\n",
       "      <td>0</td>\n",
       "      <td>-0.361854</td>\n",
       "      <td>-0.172997</td>\n",
       "      <td>-0.134458</td>\n",
       "      <td>-0.18008</td>\n",
       "      <td>-0.230458</td>\n",
       "      <td>-0.201765</td>\n",
       "      <td>...</td>\n",
       "      <td>-0.330765</td>\n",
       "      <td>-0.155774</td>\n",
       "      <td>-0.123948</td>\n",
       "      <td>-0.188584</td>\n",
       "      <td>-0.372165</td>\n",
       "      <td>-0.325964</td>\n",
       "      <td>-1.030499</td>\n",
       "      <td>-0.234190</td>\n",
       "      <td>-0.244455</td>\n",
       "      <td>0.269814</td>\n",
       "    </tr>\n",
       "    <tr>\n",
       "      <th>1</th>\n",
       "      <td>2023-01-15</td>\n",
       "      <td>1010508</td>\n",
       "      <td>2</td>\n",
       "      <td>0</td>\n",
       "      <td>-0.361854</td>\n",
       "      <td>-0.172997</td>\n",
       "      <td>-0.134458</td>\n",
       "      <td>-0.18008</td>\n",
       "      <td>-0.230458</td>\n",
       "      <td>-0.201765</td>\n",
       "      <td>...</td>\n",
       "      <td>-0.330765</td>\n",
       "      <td>-0.155774</td>\n",
       "      <td>-0.123948</td>\n",
       "      <td>-0.188584</td>\n",
       "      <td>-0.372165</td>\n",
       "      <td>-0.325964</td>\n",
       "      <td>-1.030499</td>\n",
       "      <td>-0.234190</td>\n",
       "      <td>-0.244455</td>\n",
       "      <td>1.535497</td>\n",
       "    </tr>\n",
       "    <tr>\n",
       "      <th>2</th>\n",
       "      <td>2023-01-15</td>\n",
       "      <td>1010508</td>\n",
       "      <td>10</td>\n",
       "      <td>0</td>\n",
       "      <td>-0.361854</td>\n",
       "      <td>-0.172997</td>\n",
       "      <td>-0.134458</td>\n",
       "      <td>-0.18008</td>\n",
       "      <td>-0.230458</td>\n",
       "      <td>-0.201765</td>\n",
       "      <td>...</td>\n",
       "      <td>-0.330765</td>\n",
       "      <td>-0.155774</td>\n",
       "      <td>-0.123948</td>\n",
       "      <td>-0.188584</td>\n",
       "      <td>-0.372165</td>\n",
       "      <td>-0.325964</td>\n",
       "      <td>-1.030499</td>\n",
       "      <td>-0.234190</td>\n",
       "      <td>-0.244455</td>\n",
       "      <td>0.119081</td>\n",
       "    </tr>\n",
       "    <tr>\n",
       "      <th>3</th>\n",
       "      <td>2023-01-15</td>\n",
       "      <td>1025935</td>\n",
       "      <td>2</td>\n",
       "      <td>0</td>\n",
       "      <td>-0.361854</td>\n",
       "      <td>-0.172997</td>\n",
       "      <td>-0.134458</td>\n",
       "      <td>-0.18008</td>\n",
       "      <td>-0.230458</td>\n",
       "      <td>-0.201765</td>\n",
       "      <td>...</td>\n",
       "      <td>-0.330765</td>\n",
       "      <td>-0.155774</td>\n",
       "      <td>-0.123948</td>\n",
       "      <td>-0.188584</td>\n",
       "      <td>-0.372165</td>\n",
       "      <td>-0.325964</td>\n",
       "      <td>-0.863125</td>\n",
       "      <td>4.067207</td>\n",
       "      <td>-0.244455</td>\n",
       "      <td>1.535497</td>\n",
       "    </tr>\n",
       "    <tr>\n",
       "      <th>4</th>\n",
       "      <td>2023-01-15</td>\n",
       "      <td>1025935</td>\n",
       "      <td>10</td>\n",
       "      <td>0</td>\n",
       "      <td>-0.361854</td>\n",
       "      <td>-0.172997</td>\n",
       "      <td>-0.134458</td>\n",
       "      <td>-0.18008</td>\n",
       "      <td>-0.230458</td>\n",
       "      <td>-0.201765</td>\n",
       "      <td>...</td>\n",
       "      <td>-0.330765</td>\n",
       "      <td>-0.155774</td>\n",
       "      <td>-0.123948</td>\n",
       "      <td>-0.188584</td>\n",
       "      <td>-0.372165</td>\n",
       "      <td>-0.325964</td>\n",
       "      <td>-0.863125</td>\n",
       "      <td>4.067207</td>\n",
       "      <td>-0.244455</td>\n",
       "      <td>0.119081</td>\n",
       "    </tr>\n",
       "  </tbody>\n",
       "</table>\n",
       "<p>5 rows × 1349 columns</p>\n",
       "</div>"
      ],
      "text/plain": [
       "   timestamp  user_id  product_id  is_sold  feature_0  feature_1  feature_2  \\\n",
       "0 2023-01-15  1010508           1        0  -0.361854  -0.172997  -0.134458   \n",
       "1 2023-01-15  1010508           2        0  -0.361854  -0.172997  -0.134458   \n",
       "2 2023-01-15  1010508          10        0  -0.361854  -0.172997  -0.134458   \n",
       "3 2023-01-15  1025935           2        0  -0.361854  -0.172997  -0.134458   \n",
       "4 2023-01-15  1025935          10        0  -0.361854  -0.172997  -0.134458   \n",
       "\n",
       "   feature_3  feature_4  feature_5  ...  feature_1335  feature_1336  \\\n",
       "0   -0.18008  -0.230458  -0.201765  ...     -0.330765     -0.155774   \n",
       "1   -0.18008  -0.230458  -0.201765  ...     -0.330765     -0.155774   \n",
       "2   -0.18008  -0.230458  -0.201765  ...     -0.330765     -0.155774   \n",
       "3   -0.18008  -0.230458  -0.201765  ...     -0.330765     -0.155774   \n",
       "4   -0.18008  -0.230458  -0.201765  ...     -0.330765     -0.155774   \n",
       "\n",
       "   feature_1337  feature_1338  feature_1339  feature_1340  feature_1341  \\\n",
       "0     -0.123948     -0.188584     -0.372165     -0.325964     -1.030499   \n",
       "1     -0.123948     -0.188584     -0.372165     -0.325964     -1.030499   \n",
       "2     -0.123948     -0.188584     -0.372165     -0.325964     -1.030499   \n",
       "3     -0.123948     -0.188584     -0.372165     -0.325964     -0.863125   \n",
       "4     -0.123948     -0.188584     -0.372165     -0.325964     -0.863125   \n",
       "\n",
       "   feature_1342  feature_1343  feature_1344  \n",
       "0     -0.234190     -0.244455      0.269814  \n",
       "1     -0.234190     -0.244455      1.535497  \n",
       "2     -0.234190     -0.244455      0.119081  \n",
       "3      4.067207     -0.244455      1.535497  \n",
       "4      4.067207     -0.244455      0.119081  \n",
       "\n",
       "[5 rows x 1349 columns]"
      ]
     },
     "execution_count": 12,
     "metadata": {},
     "output_type": "execute_result"
    }
   ],
   "source": [
    "data.head()"
   ]
  },
  {
   "cell_type": "code",
   "execution_count": 13,
   "metadata": {},
   "outputs": [
    {
     "data": {
      "image/png": "[encoded data removed]",
      "text/plain": [
       "<Figure size 640x480 with 1 Axes>"
      ]
     },
     "metadata": {},
     "output_type": "display_data"
    }
   ],
   "source": [
    "data['is_sold'].hist()\n",
    "\n",
    "# Adding labels and title\n",
    "plt.xlabel('Sold')\n",
    "plt.ylabel('Frequency')\n",
    "plt.title('Histogram of Solds')\n",
    "\n",
    "# Show the plot\n",
    "plt.show()"
   ]
  },
  {
   "cell_type": "code",
   "execution_count": 14,
   "metadata": {},
   "outputs": [
    {
     "data": {
      "text/plain": [
       "19"
      ]
     },
     "execution_count": 14,
     "metadata": {},
     "output_type": "execute_result"
    }
   ],
   "source": [
    "data.product_id.nunique()"
   ]
  },
  {
   "cell_type": "code",
   "execution_count": 15,
   "metadata": {},
   "outputs": [
    {
     "data": {
      "text/plain": [
       "200000"
      ]
     },
     "execution_count": 15,
     "metadata": {},
     "output_type": "execute_result"
    }
   ],
   "source": [
    "data.user_id.nunique()"
   ]
  },
  {
   "cell_type": "code",
   "execution_count": 16,
   "metadata": {},
   "outputs": [],
   "source": [
    "data = data[['user_id', 'product_id', 'is_sold', 'timestamp']]"
   ]
  },
  {
   "cell_type": "code",
   "execution_count": 17,
   "metadata": {},
   "outputs": [],
   "source": [
    "# filter out non-sold items:\n",
    "data = data[data['is_sold'] == 1]"
   ]
  },
  {
   "cell_type": "code",
   "execution_count": 18,
   "metadata": {},
   "outputs": [],
   "source": [
    "data.timestamp = pd.to_datetime(data.timestamp, format='%Y%m%d').astype(int)"
   ]
  },
  {
   "cell_type": "code",
   "execution_count": 17,
   "metadata": {},
   "outputs": [],
   "source": [
    "data.to_parquet(os.path.join('..', '..', 'data', 'sber_bank', 'interactions.parquet'), index=False)"
   ]
  },
  {
   "cell_type": "code",
   "execution_count": 19,
   "metadata": {},
   "outputs": [
    {
     "data": {
      "text/html": [
       "<div>\n",
       "<style scoped>\n",
       "    .dataframe tbody tr th:only-of-type {\n",
       "        vertical-align: middle;\n",
       "    }\n",
       "\n",
       "    .dataframe tbody tr th {\n",
       "        vertical-align: top;\n",
       "    }\n",
       "\n",
       "    .dataframe thead th {\n",
       "        text-align: right;\n",
       "    }\n",
       "</style>\n",
       "<table border=\"1\" class=\"dataframe\">\n",
       "  <thead>\n",
       "    <tr style=\"text-align: right;\">\n",
       "      <th></th>\n",
       "      <th>user_id</th>\n",
       "      <th>product_id</th>\n",
       "      <th>is_sold</th>\n",
       "      <th>timestamp</th>\n",
       "    </tr>\n",
       "  </thead>\n",
       "  <tbody>\n",
       "    <tr>\n",
       "      <th>20</th>\n",
       "      <td>1200116</td>\n",
       "      <td>10</td>\n",
       "      <td>1</td>\n",
       "      <td>1673740800000000000</td>\n",
       "    </tr>\n",
       "    <tr>\n",
       "      <th>38</th>\n",
       "      <td>1542867</td>\n",
       "      <td>6</td>\n",
       "      <td>1</td>\n",
       "      <td>1673740800000000000</td>\n",
       "    </tr>\n",
       "    <tr>\n",
       "      <th>43</th>\n",
       "      <td>1625588</td>\n",
       "      <td>10</td>\n",
       "      <td>1</td>\n",
       "      <td>1673740800000000000</td>\n",
       "    </tr>\n",
       "    <tr>\n",
       "      <th>69</th>\n",
       "      <td>2625498</td>\n",
       "      <td>5</td>\n",
       "      <td>1</td>\n",
       "      <td>1673740800000000000</td>\n",
       "    </tr>\n",
       "    <tr>\n",
       "      <th>74</th>\n",
       "      <td>2913352</td>\n",
       "      <td>0</td>\n",
       "      <td>1</td>\n",
       "      <td>1673740800000000000</td>\n",
       "    </tr>\n",
       "    <tr>\n",
       "      <th>...</th>\n",
       "      <td>...</td>\n",
       "      <td>...</td>\n",
       "      <td>...</td>\n",
       "      <td>...</td>\n",
       "    </tr>\n",
       "    <tr>\n",
       "      <th>1306293</th>\n",
       "      <td>9811107</td>\n",
       "      <td>6</td>\n",
       "      <td>1</td>\n",
       "      <td>1684108800000000000</td>\n",
       "    </tr>\n",
       "    <tr>\n",
       "      <th>1306308</th>\n",
       "      <td>9818110</td>\n",
       "      <td>7</td>\n",
       "      <td>1</td>\n",
       "      <td>1684108800000000000</td>\n",
       "    </tr>\n",
       "    <tr>\n",
       "      <th>1306313</th>\n",
       "      <td>9822189</td>\n",
       "      <td>6</td>\n",
       "      <td>1</td>\n",
       "      <td>1684108800000000000</td>\n",
       "    </tr>\n",
       "    <tr>\n",
       "      <th>1306433</th>\n",
       "      <td>9957721</td>\n",
       "      <td>10</td>\n",
       "      <td>1</td>\n",
       "      <td>1684108800000000000</td>\n",
       "    </tr>\n",
       "    <tr>\n",
       "      <th>1306476</th>\n",
       "      <td>9979844</td>\n",
       "      <td>6</td>\n",
       "      <td>1</td>\n",
       "      <td>1684108800000000000</td>\n",
       "    </tr>\n",
       "  </tbody>\n",
       "</table>\n",
       "<p>73113 rows × 4 columns</p>\n",
       "</div>"
      ],
      "text/plain": [
       "         user_id  product_id  is_sold            timestamp\n",
       "20       1200116          10        1  1673740800000000000\n",
       "38       1542867           6        1  1673740800000000000\n",
       "43       1625588          10        1  1673740800000000000\n",
       "69       2625498           5        1  1673740800000000000\n",
       "74       2913352           0        1  1673740800000000000\n",
       "...          ...         ...      ...                  ...\n",
       "1306293  9811107           6        1  1684108800000000000\n",
       "1306308  9818110           7        1  1684108800000000000\n",
       "1306313  9822189           6        1  1684108800000000000\n",
       "1306433  9957721          10        1  1684108800000000000\n",
       "1306476  9979844           6        1  1684108800000000000\n",
       "\n",
       "[73113 rows x 4 columns]"
      ]
     },
     "execution_count": 19,
     "metadata": {},
     "output_type": "execute_result"
    }
   ],
   "source": [
    "data"
   ]
  },
  {
   "cell_type": "code",
   "execution_count": null,
   "metadata": {},
   "outputs": [],
   "source": [
    "from src.preprocessing import ClassicDataset\n",
    "from src.utils.processing import data_split\n",
    "\n",
    "\n",
    "# split data into samples\n",
    "(interactions_train, weights_train), \\\n",
    "(interactions_val, weights_val), \\\n",
    "(interactions_test, _) = data_split(\n",
    "    dataset.prepared_data, cfg_data, sparse_type='coo'\n",
    ")"
   ]
  }
 ],
 "metadata": {
  "kernelspec": {
   "display_name": "Python 3",
   "language": "python",
   "name": "python3"
  },
  "language_info": {
   "codemirror_mode": {
    "name": "ipython",
    "version": 3
   },
   "file_extension": ".py",
   "mimetype": "text/x-python",
   "name": "python",
   "nbconvert_exporter": "python",
   "pygments_lexer": "ipython3",
   "version": "3.9.17"
  },
  "orig_nbformat": 4
 },
 "nbformat": 4,
 "nbformat_minor": 2
}
