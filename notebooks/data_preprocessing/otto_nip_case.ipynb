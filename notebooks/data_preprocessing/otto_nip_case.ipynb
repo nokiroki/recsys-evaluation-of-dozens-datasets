{
 "cells": [
  {
   "cell_type": "code",
   "execution_count": 1,
   "id": "683ef813",
   "metadata": {},
   "outputs": [],
   "source": [
    "import numpy as np\n",
    "import pandas as pd"
   ]
  },
  {
   "cell_type": "code",
   "execution_count": 2,
   "id": "95f5e4bb",
   "metadata": {},
   "outputs": [],
   "source": [
    "ds_train = pd.read_parquet('../../data/otto/train.parquet')\n",
    "ds_test = pd.read_parquet('../../data/otto/test.parquet')"
   ]
  },
  {
   "cell_type": "code",
   "execution_count": 3,
   "id": "de4a67c9",
   "metadata": {},
   "outputs": [],
   "source": [
    "ds_train = pd.concat((ds_train, ds_test), axis=0)\n",
    "del ds_test"
   ]
  },
  {
   "cell_type": "code",
   "execution_count": 4,
   "id": "9cec1a6d",
   "metadata": {},
   "outputs": [
    {
     "data": {
      "text/plain": [
       "14571582"
      ]
     },
     "execution_count": 4,
     "metadata": {},
     "output_type": "execute_result"
    }
   ],
   "source": [
    "len(ds_train['session'].unique())"
   ]
  },
  {
   "cell_type": "code",
   "execution_count": 5,
   "id": "bdb1391c",
   "metadata": {},
   "outputs": [],
   "source": [
    "M = int(0.1 * len(ds_train['session'].unique())) # percentage of session len"
   ]
  },
  {
   "cell_type": "code",
   "execution_count": 6,
   "id": "ce4bc6fe",
   "metadata": {},
   "outputs": [],
   "source": [
    "sub_session = np.random.choice(ds_train['session'].unique(), M, replace=False)"
   ]
  },
  {
   "cell_type": "code",
   "execution_count": 7,
   "id": "94e4122f",
   "metadata": {},
   "outputs": [
    {
     "data": {
      "text/plain": [
       "array([10213520,  6127762,  8189439, ..., 12364747,  8581628,  5531863],\n",
       "      dtype=int32)"
      ]
     },
     "execution_count": 7,
     "metadata": {},
     "output_type": "execute_result"
    }
   ],
   "source": [
    "sub_session"
   ]
  },
  {
   "cell_type": "code",
   "execution_count": 8,
   "id": "784f1ad5",
   "metadata": {},
   "outputs": [
    {
     "data": {
      "text/html": [
       "<div>\n",
       "<style scoped>\n",
       "    .dataframe tbody tr th:only-of-type {\n",
       "        vertical-align: middle;\n",
       "    }\n",
       "\n",
       "    .dataframe tbody tr th {\n",
       "        vertical-align: top;\n",
       "    }\n",
       "\n",
       "    .dataframe thead th {\n",
       "        text-align: right;\n",
       "    }\n",
       "</style>\n",
       "<table border=\"1\" class=\"dataframe\">\n",
       "  <thead>\n",
       "    <tr style=\"text-align: right;\">\n",
       "      <th></th>\n",
       "      <th>index</th>\n",
       "      <th>session</th>\n",
       "      <th>aid</th>\n",
       "      <th>ts</th>\n",
       "      <th>type</th>\n",
       "    </tr>\n",
       "  </thead>\n",
       "  <tbody>\n",
       "    <tr>\n",
       "      <th>0</th>\n",
       "      <td>828</td>\n",
       "      <td>8</td>\n",
       "      <td>1814223</td>\n",
       "      <td>1659304800</td>\n",
       "      <td>0</td>\n",
       "    </tr>\n",
       "    <tr>\n",
       "      <th>1</th>\n",
       "      <td>829</td>\n",
       "      <td>8</td>\n",
       "      <td>324620</td>\n",
       "      <td>1659304815</td>\n",
       "      <td>0</td>\n",
       "    </tr>\n",
       "    <tr>\n",
       "      <th>2</th>\n",
       "      <td>830</td>\n",
       "      <td>8</td>\n",
       "      <td>1320098</td>\n",
       "      <td>1659304827</td>\n",
       "      <td>0</td>\n",
       "    </tr>\n",
       "    <tr>\n",
       "      <th>3</th>\n",
       "      <td>831</td>\n",
       "      <td>8</td>\n",
       "      <td>324620</td>\n",
       "      <td>1659304839</td>\n",
       "      <td>0</td>\n",
       "    </tr>\n",
       "    <tr>\n",
       "      <th>4</th>\n",
       "      <td>943</td>\n",
       "      <td>13</td>\n",
       "      <td>1674493</td>\n",
       "      <td>1659304800</td>\n",
       "      <td>0</td>\n",
       "    </tr>\n",
       "    <tr>\n",
       "      <th>...</th>\n",
       "      <td>...</td>\n",
       "      <td>...</td>\n",
       "      <td>...</td>\n",
       "      <td>...</td>\n",
       "      <td>...</td>\n",
       "    </tr>\n",
       "    <tr>\n",
       "      <th>22322580</th>\n",
       "      <td>6928068</td>\n",
       "      <td>14571533</td>\n",
       "      <td>893173</td>\n",
       "      <td>1662328754</td>\n",
       "      <td>0</td>\n",
       "    </tr>\n",
       "    <tr>\n",
       "      <th>22322581</th>\n",
       "      <td>6928075</td>\n",
       "      <td>14571537</td>\n",
       "      <td>629253</td>\n",
       "      <td>1662328713</td>\n",
       "      <td>0</td>\n",
       "    </tr>\n",
       "    <tr>\n",
       "      <th>22322582</th>\n",
       "      <td>6928082</td>\n",
       "      <td>14571543</td>\n",
       "      <td>460611</td>\n",
       "      <td>1662328722</td>\n",
       "      <td>0</td>\n",
       "    </tr>\n",
       "    <tr>\n",
       "      <th>22322583</th>\n",
       "      <td>6928100</td>\n",
       "      <td>14571559</td>\n",
       "      <td>1503039</td>\n",
       "      <td>1662328752</td>\n",
       "      <td>0</td>\n",
       "    </tr>\n",
       "    <tr>\n",
       "      <th>22322584</th>\n",
       "      <td>6928120</td>\n",
       "      <td>14571579</td>\n",
       "      <td>739876</td>\n",
       "      <td>1662328775</td>\n",
       "      <td>0</td>\n",
       "    </tr>\n",
       "  </tbody>\n",
       "</table>\n",
       "<p>22322585 rows × 5 columns</p>\n",
       "</div>"
      ],
      "text/plain": [
       "            index   session      aid          ts  type\n",
       "0             828         8  1814223  1659304800     0\n",
       "1             829         8   324620  1659304815     0\n",
       "2             830         8  1320098  1659304827     0\n",
       "3             831         8   324620  1659304839     0\n",
       "4             943        13  1674493  1659304800     0\n",
       "...           ...       ...      ...         ...   ...\n",
       "22322580  6928068  14571533   893173  1662328754     0\n",
       "22322581  6928075  14571537   629253  1662328713     0\n",
       "22322582  6928082  14571543   460611  1662328722     0\n",
       "22322583  6928100  14571559  1503039  1662328752     0\n",
       "22322584  6928120  14571579   739876  1662328775     0\n",
       "\n",
       "[22322585 rows x 5 columns]"
      ]
     },
     "execution_count": 8,
     "metadata": {},
     "output_type": "execute_result"
    }
   ],
   "source": [
    "sub_ds = ds_train[ds_train.session.isin(sub_session)]\n",
    "sub_ds.reset_index()"
   ]
  },
  {
   "cell_type": "code",
   "execution_count": 9,
   "id": "0bb3cff9",
   "metadata": {},
   "outputs": [],
   "source": [
    "sorted_ds_train = ds_train.sort_values(['session','ts'],ascending=True)#.groupby('job').head(3)"
   ]
  },
  {
   "cell_type": "code",
   "execution_count": 10,
   "id": "b2fbf253",
   "metadata": {},
   "outputs": [],
   "source": [
    "sorted_ds_train.to_parquet('../../data/otto/nip_interactions.parquet')"
   ]
  },
  {
   "cell_type": "code",
   "execution_count": null,
   "id": "6a82694b",
   "metadata": {},
   "outputs": [],
   "source": []
  }
 ],
 "metadata": {
  "kernelspec": {
   "display_name": "Python 3 (ipykernel)",
   "language": "python",
   "name": "python3"
  },
  "language_info": {
   "codemirror_mode": {
    "name": "ipython",
    "version": 3
   },
   "file_extension": ".py",
   "mimetype": "text/x-python",
   "name": "python",
   "nbconvert_exporter": "python",
   "pygments_lexer": "ipython3",
   "version": "3.9.16"
  }
 },
 "nbformat": 4,
 "nbformat_minor": 5
}
