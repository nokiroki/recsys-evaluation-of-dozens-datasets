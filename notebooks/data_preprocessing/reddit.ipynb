{
 "cells": [
  {
   "cell_type": "code",
   "execution_count": 1,
   "metadata": {},
   "outputs": [],
   "source": [
    "import os\n",
    "import pandas as pd"
   ]
  },
  {
   "cell_type": "code",
   "execution_count": 2,
   "metadata": {},
   "outputs": [],
   "source": [
    "# Path\n",
    "interactions_path = os.path.join(\n",
    "    \"..\", \"..\", \"data\", \"reddit\", \"soc-redditHyperlinks-body.tsv\"\n",
    ")\n",
    "\n",
    "# Read TSV files into a DataFrame\n",
    "interactions = pd.read_csv(interactions_path, sep=\"\\t\")\n",
    "\n",
    "# Rename columns\n",
    "interactions.rename(\n",
    "    columns={\n",
    "        \"SOURCE_SUBREDDIT\": \"userId\",\n",
    "        \"TARGET_SUBREDDIT\": \"itemId\",\n",
    "        \"TIMESTAMP\": \"timestamp\",\n",
    "        \"LINK_SENTIMENT\": \"rating\",\n",
    "    },\n",
    "    inplace=True,\n",
    ")\n",
    "\n",
    "# Drop columns\n",
    "interactions = interactions[[\"userId\", \"itemId\", \"rating\", \"timestamp\"]]\n",
    "\n",
    "# Timestamp to int\n",
    "interactions[\"timestamp\"] = pd.to_datetime(interactions[\"timestamp\"]).astype(int)"
   ]
  },
  {
   "cell_type": "code",
   "execution_count": 4,
   "metadata": {},
   "outputs": [],
   "source": [
    "interactions.to_parquet(\n",
    "    os.path.join(\"..\", \"..\", \"data\", \"reddit\", \"interactions.parquet\"), index=False\n",
    ")"
   ]
  }
 ],
 "metadata": {
  "kernelspec": {
   "display_name": "wind_kernel",
   "language": "python",
   "name": "wind_kernel"
  },
  "language_info": {
   "codemirror_mode": {
    "name": "ipython",
    "version": 3
   },
   "file_extension": ".py",
   "mimetype": "text/x-python",
   "name": "python",
   "nbconvert_exporter": "python",
   "pygments_lexer": "ipython3",
   "version": "3.10.6"
  },
  "orig_nbformat": 4
 },
 "nbformat": 4,
 "nbformat_minor": 2
}
