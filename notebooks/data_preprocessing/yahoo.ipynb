{
 "cells": [
  {
   "cell_type": "code",
   "execution_count": 1,
   "metadata": {},
   "outputs": [],
   "source": [
    "import os\n",
    "\n",
    "import matplotlib.pyplot as plt\n",
    "import numpy as np\n",
    "import pandas as pd\n",
    "import seaborn as sns\n",
    "from datetime import datetime, timedelta\n",
    "from scipy.sparse import coo_matrix, csr_matrix\n",
    "\n",
    "plt.style.use(\"ggplot\")"
   ]
  },
  {
   "cell_type": "code",
   "execution_count": 2,
   "metadata": {},
   "outputs": [],
   "source": [
    "def process_file(filename):\n",
    "    # Read data from the file and split it into lines\n",
    "    with open(filename, 'r') as file:\n",
    "        lines = file.read().splitlines()\n",
    "\n",
    "    # Initialize lists to store the extracted information\n",
    "    user_ids = []\n",
    "    item_ids = []\n",
    "    ratings = []\n",
    "    days = []\n",
    "    times = []\n",
    "\n",
    "    # Process the lines to extract the required information\n",
    "    for line in lines:\n",
    "        if '|' in line:\n",
    "            # Extract UserId from the first line for each user\n",
    "            user_id, _ = line.split('|')\n",
    "        else:\n",
    "            # Extract ItemId, Rating, and day and time\n",
    "            item_id, rating, day, time = line.split('\\t')\n",
    "            user_ids.append(user_id)\n",
    "            item_ids.append(item_id)\n",
    "            ratings.append(rating)\n",
    "            days.append(day)\n",
    "            times.append(time)\n",
    "\n",
    "    # Create dict\n",
    "    data = {\n",
    "        'userId': user_ids,\n",
    "        'itemId': item_ids,\n",
    "        'rating': ratings,\n",
    "        'day': days,\n",
    "        'time': times\n",
    "    }\n",
    "\n",
    "    return pd.DataFrame(data)"
   ]
  },
  {
   "cell_type": "code",
   "execution_count": 3,
   "metadata": {},
   "outputs": [],
   "source": [
    "# Process each file and concatenate the DataFrames\n",
    "train_df = process_file(os.path.join(\"..\", \"..\", \"data\", \"yahoo\", \"trainIdx1.txt\"))\n",
    "validation_df = process_file(os.path.join(\"..\", \"..\", \"data\", \"yahoo\", \"validationIdx1.txt\"))\n",
    "test_df = process_file(os.path.join(\"..\", \"..\", \"data\", \"yahoo\", \"testIdx1.txt\"))\n",
    "\n",
    "# Combine all DataFrames into a single DataFrame\n",
    "ratings = pd.concat([train_df, validation_df, test_df], ignore_index=True)"
   ]
  },
  {
   "cell_type": "code",
   "execution_count": null,
   "metadata": {},
   "outputs": [],
   "source": [
    "# Convert day to integer and make the min number of days as 0\n",
    "ratings['day'] = ratings['day'].astype(int)\n",
    "ratings['day'] = ratings['day'] - ratings.day.min()"
   ]
  },
  {
   "cell_type": "code",
   "execution_count": null,
   "metadata": {},
   "outputs": [],
   "source": [
    "# Convert the 'day' column to timedelta\n",
    "ratings['day'] = pd.to_timedelta(ratings['day'], unit='D')\n",
    "\n",
    "# Convert the 'timestamp' column to timedelta\n",
    "ratings['time'] = pd.to_timedelta(ratings['time'])\n",
    "\n",
    "# Add the 'day' and 'timestamp' columns to get the 'date' column\n",
    "# 1999-11-11 is the launch date of Yahoo!Music\n",
    "ratings['timestamp'] = pd.to_datetime('1999-11-11') + ratings['day'] + ratings['time']\n",
    "ratings[\"timestamp\"] = ratings[\"timestamp\"].astype(int)\n",
    "ratings[\"rating\"] = ratings[\"rating\"].astype(float)\n",
    "\n",
    "# Drop the individual 'day' and 'timestamp' columns if needed\n",
    "ratings.drop(['day', 'time'], axis=1, inplace=True)"
   ]
  },
  {
   "cell_type": "code",
   "execution_count": null,
   "metadata": {},
   "outputs": [],
   "source": [
    "# Save preprocessed dataset to csv file\n",
    "ratings.to_parquet(os.path.join(\"..\", \"..\", \"data\", \"yahoo\", \"ratings.parquet\"), index=False)"
   ]
  }
 ],
 "metadata": {
  "kernelspec": {
   "display_name": "wind_kernel",
   "language": "python",
   "name": "wind_kernel"
  },
  "language_info": {
   "codemirror_mode": {
    "name": "ipython",
    "version": 3
   },
   "file_extension": ".py",
   "mimetype": "text/x-python",
   "name": "python",
   "nbconvert_exporter": "python",
   "pygments_lexer": "ipython3",
   "version": "3.10.6"
  },
  "orig_nbformat": 4
 },
 "nbformat": 4,
 "nbformat_minor": 2
}
