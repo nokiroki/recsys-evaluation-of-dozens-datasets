{
 "cells": [
  {
   "cell_type": "code",
   "execution_count": 1,
   "metadata": {},
   "outputs": [],
   "source": [
    "import os\n",
    "\n",
    "import pandas as pd"
   ]
  },
  {
   "cell_type": "code",
   "execution_count": 2,
   "metadata": {},
   "outputs": [],
   "source": [
    "tafeng = pd.read_csv(\n",
    "    os.path.join(\"..\", \"..\", \"data\", \"tafeng\", \"ta_feng_all_months_merged.csv\"),\n",
    ")"
   ]
  },
  {
   "cell_type": "code",
   "execution_count": 5,
   "metadata": {},
   "outputs": [],
   "source": [
    "tafeng['timestamp'] = pd.to_datetime(tafeng.TRANSACTION_DT).astype(int)\n",
    "tafeng.drop(columns=['TRANSACTION_DT', 'AGE_GROUP', 'PIN_CODE', 'PRODUCT_SUBCLASS', 'ASSET', 'SALES_PRICE'], inplace=True)"
   ]
  },
  {
   "cell_type": "code",
   "execution_count": 8,
   "metadata": {},
   "outputs": [],
   "source": [
    "tafeng.to_parquet(\n",
    "    os.path.join(\"..\", \"..\", \"data\", \"tafeng\", \"interactions.parquet\"), index=False\n",
    ")"
   ]
  }
 ],
 "metadata": {
  "kernelspec": {
   "display_name": "wind_env",
   "language": "python",
   "name": "python3"
  },
  "language_info": {
   "codemirror_mode": {
    "name": "ipython",
    "version": 3
   },
   "file_extension": ".py",
   "mimetype": "text/x-python",
   "name": "python",
   "nbconvert_exporter": "python",
   "pygments_lexer": "ipython3",
   "version": "3.10.6"
  },
  "orig_nbformat": 4
 },
 "nbformat": 4,
 "nbformat_minor": 2
}
