{
 "cells": [
  {
   "cell_type": "code",
   "execution_count": 38,
   "metadata": {},
   "outputs": [],
   "source": [
    "import os\n",
    "\n",
    "import pandas as pd"
   ]
  },
  {
   "cell_type": "code",
   "execution_count": 39,
   "metadata": {},
   "outputs": [],
   "source": [
    "# Read the text file\n",
    "with open(\n",
    "    os.path.join(\"..\", \"..\", \"data\", \"amazon_finefoods\", \"foods.txt\"),\n",
    "    \"r\",\n",
    "    encoding=\"latin-1\",\n",
    ") as file:\n",
    "    data = file.read()"
   ]
  },
  {
   "cell_type": "code",
   "execution_count": 40,
   "metadata": {},
   "outputs": [],
   "source": [
    "# Split the data into individual reviews based on the blank line separator\n",
    "reviews = data.strip().split(\"\\n\\n\")\n",
    "\n",
    "# Initialize empty lists to store extracted information\n",
    "productIds = []\n",
    "userIds = []\n",
    "reviewScores = []\n",
    "reviewTimes = []\n",
    "\n",
    "# Parse each review to extract the required information\n",
    "for review in reviews:\n",
    "    lines = review.strip().split(\"\\n\")\n",
    "    extracted_data = {}\n",
    "    for line in lines:\n",
    "        if \": \" in line:\n",
    "            prefix, value = line.split(\": \", 1)\n",
    "            extracted_data[prefix] = value\n",
    "\n",
    "    if (\n",
    "        \"product/productId\" in extracted_data\n",
    "        and \"review/userId\" in extracted_data\n",
    "        and \"review/score\" in extracted_data\n",
    "        and \"review/time\" in extracted_data\n",
    "    ):\n",
    "        productIds.append(extracted_data[\"product/productId\"])\n",
    "        userIds.append(extracted_data[\"review/userId\"])\n",
    "        reviewScores.append(float(extracted_data[\"review/score\"]))\n",
    "        reviewTimes.append(int(extracted_data[\"review/time\"]))\n",
    "\n",
    "# Create the DataFrame\n",
    "amazon_finefoods = pd.DataFrame(\n",
    "    {\n",
    "        \"productId\": productIds,\n",
    "        \"userId\": userIds,\n",
    "        \"reviewscore\": reviewScores,\n",
    "        \"time\": reviewTimes,\n",
    "    }\n",
    ")"
   ]
  },
  {
   "cell_type": "code",
   "execution_count": 45,
   "metadata": {},
   "outputs": [],
   "source": [
    "amazon_finefoods.to_parquet(\n",
    "    os.path.join(\"..\", \"..\", \"data\", \"amazon_finefoods\", \"amazon_finefoods.parquet\"),\n",
    "    index=False,\n",
    ")"
   ]
  }
 ],
 "metadata": {
  "kernelspec": {
   "display_name": "wind_env",
   "language": "python",
   "name": "python3"
  },
  "language_info": {
   "codemirror_mode": {
    "name": "ipython",
    "version": 3
   },
   "file_extension": ".py",
   "mimetype": "text/x-python",
   "name": "python",
   "nbconvert_exporter": "python",
   "pygments_lexer": "ipython3",
   "version": "3.10.6"
  },
  "orig_nbformat": 4
 },
 "nbformat": 4,
 "nbformat_minor": 2
}
