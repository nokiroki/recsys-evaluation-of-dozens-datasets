{
 "cells": [
  {
   "cell_type": "code",
   "execution_count": 1,
   "metadata": {},
   "outputs": [],
   "source": [
    "import os\n",
    "\n",
    "import pandas as pd"
   ]
  },
  {
   "cell_type": "code",
   "execution_count": 2,
   "metadata": {},
   "outputs": [],
   "source": [
    "twitch = pd.read_csv(\n",
    "    os.path.join(\"..\", \"..\", \"data\", \"twitch\", \"twitch.csv\"),\n",
    "    header=None,\n",
    "    names=[\"userId\", \"itemId\", \"nickname\", \"timestart\", \"timefinish\"],\n",
    ")"
   ]
  },
  {
   "cell_type": "code",
   "execution_count": 4,
   "metadata": {},
   "outputs": [],
   "source": [
    "twitch['timestamp'] = twitch.timestart\n",
    "twitch['interaction'] = twitch.timefinish - twitch.timestart\n",
    "twitch.drop(columns=['nickname', 'timestart', 'timefinish'], inplace=True)\n"
   ]
  },
  {
   "cell_type": "code",
   "execution_count": 15,
   "metadata": {},
   "outputs": [],
   "source": [
    "twitch.to_parquet(\n",
    "    os.path.join(\"..\", \"..\", \"data\", \"twitch\", \"interactions.parquet\"), index=False\n",
    ")"
   ]
  }
 ],
 "metadata": {
  "kernelspec": {
   "display_name": "wind_env",
   "language": "python",
   "name": "python3"
  },
  "language_info": {
   "codemirror_mode": {
    "name": "ipython",
    "version": 3
   },
   "file_extension": ".py",
   "mimetype": "text/x-python",
   "name": "python",
   "nbconvert_exporter": "python",
   "pygments_lexer": "ipython3",
   "version": "3.10.6"
  },
  "orig_nbformat": 4
 },
 "nbformat": 4,
 "nbformat_minor": 2
}
