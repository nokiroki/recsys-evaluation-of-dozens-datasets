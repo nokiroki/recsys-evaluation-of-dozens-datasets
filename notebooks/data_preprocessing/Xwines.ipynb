{
 "cells": [
  {
   "cell_type": "code",
   "execution_count": 1,
   "metadata": {},
   "outputs": [],
   "source": [
    "import os\n",
    "\n",
    "import pandas as pd"
   ]
  },
  {
   "cell_type": "code",
   "execution_count": 2,
   "metadata": {},
   "outputs": [
    {
     "name": "stderr",
     "output_type": "stream",
     "text": [
      "/tmp/ipykernel_1342/2662137172.py:1: DtypeWarning: Columns (3) have mixed types. Specify dtype option on import or set low_memory=False.\n",
      "  xwines = pd.read_csv(\n"
     ]
    }
   ],
   "source": [
    "xwines = pd.read_csv(\n",
    "    os.path.join(\"..\", \"..\", \"data\", \"xwines\", \"XWines_Full_21M_ratings.csv\"),\n",
    ")"
   ]
  },
  {
   "cell_type": "code",
   "execution_count": 5,
   "metadata": {},
   "outputs": [],
   "source": [
    "xwines = xwines[[\"UserID\", \"WineID\", \"Rating\", \"Date\"]]\n",
    "xwines.Rating = xwines.Rating.astype(float)\n",
    "xwines.Date = pd.to_datetime(xwines.Date).astype(int)"
   ]
  },
  {
   "cell_type": "code",
   "execution_count": 3,
   "metadata": {},
   "outputs": [],
   "source": [
    "xwines.to_parquet(\n",
    "    os.path.join(\"..\", \"..\", \"data\", \"xwines\", \"ratings.parquet\"), index=False\n",
    ")"
   ]
  }
 ],
 "metadata": {
  "kernelspec": {
   "display_name": "wind_kernel",
   "language": "python",
   "name": "wind_kernel"
  },
  "language_info": {
   "codemirror_mode": {
    "name": "ipython",
    "version": 3
   },
   "file_extension": ".py",
   "mimetype": "text/x-python",
   "name": "python",
   "nbconvert_exporter": "python",
   "pygments_lexer": "ipython3",
   "version": "3.10.6"
  },
  "orig_nbformat": 4
 },
 "nbformat": 4,
 "nbformat_minor": 2
}
