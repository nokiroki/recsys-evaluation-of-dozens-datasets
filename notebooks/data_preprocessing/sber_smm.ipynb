{
 "cells": [
  {
   "cell_type": "code",
   "execution_count": 1,
   "id": "e9938c15-b5e3-4942-90a4-e327b9d2c832",
   "metadata": {},
   "outputs": [],
   "source": [
    "import numpy as np\n",
    "import pandas as pd"
   ]
  },
  {
   "cell_type": "code",
   "execution_count": 2,
   "id": "56fea62d-e1bc-4b79-b5fc-23d8a72d8ee5",
   "metadata": {},
   "outputs": [],
   "source": [
    "df = pd.read_parquet('../../data/sber_smm/smm-event.parquet')"
   ]
  },
  {
   "cell_type": "code",
   "execution_count": 3,
   "id": "170327fc-8845-4973-9609-27a8542e2fd4",
   "metadata": {},
   "outputs": [
    {
     "data": {
      "text/html": [
       "<div>\n",
       "<style scoped>\n",
       "    .dataframe tbody tr th:only-of-type {\n",
       "        vertical-align: middle;\n",
       "    }\n",
       "\n",
       "    .dataframe tbody tr th {\n",
       "        vertical-align: top;\n",
       "    }\n",
       "\n",
       "    .dataframe thead th {\n",
       "        text-align: right;\n",
       "    }\n",
       "</style>\n",
       "<table border=\"1\" class=\"dataframe\">\n",
       "  <thead>\n",
       "    <tr style=\"text-align: right;\">\n",
       "      <th></th>\n",
       "      <th>user_id</th>\n",
       "      <th>datetime</th>\n",
       "      <th>event</th>\n",
       "      <th>item_id</th>\n",
       "      <th>category_id</th>\n",
       "      <th>price</th>\n",
       "    </tr>\n",
       "  </thead>\n",
       "  <tbody>\n",
       "    <tr>\n",
       "      <th>0</th>\n",
       "      <td>1199174</td>\n",
       "      <td>2023-02-13 03:12:19.131</td>\n",
       "      <td>2</td>\n",
       "      <td>1861088</td>\n",
       "      <td>5395</td>\n",
       "      <td>-0.042062</td>\n",
       "    </tr>\n",
       "    <tr>\n",
       "      <th>1</th>\n",
       "      <td>3124963</td>\n",
       "      <td>2023-02-13 09:38:55.674</td>\n",
       "      <td>2</td>\n",
       "      <td>2084441</td>\n",
       "      <td>1531</td>\n",
       "      <td>0.079817</td>\n",
       "    </tr>\n",
       "    <tr>\n",
       "      <th>2</th>\n",
       "      <td>2106055</td>\n",
       "      <td>2023-02-13 08:26:05.004</td>\n",
       "      <td>2</td>\n",
       "      <td>2586689</td>\n",
       "      <td>9294</td>\n",
       "      <td>-0.038990</td>\n",
       "    </tr>\n",
       "    <tr>\n",
       "      <th>3</th>\n",
       "      <td>4169844</td>\n",
       "      <td>2023-02-13 16:55:08.470</td>\n",
       "      <td>2</td>\n",
       "      <td>2586689</td>\n",
       "      <td>9294</td>\n",
       "      <td>-0.038990</td>\n",
       "    </tr>\n",
       "    <tr>\n",
       "      <th>4</th>\n",
       "      <td>7472260</td>\n",
       "      <td>2023-02-13 03:30:13.093</td>\n",
       "      <td>2</td>\n",
       "      <td>2586689</td>\n",
       "      <td>9294</td>\n",
       "      <td>-0.038990</td>\n",
       "    </tr>\n",
       "    <tr>\n",
       "      <th>...</th>\n",
       "      <td>...</td>\n",
       "      <td>...</td>\n",
       "      <td>...</td>\n",
       "      <td>...</td>\n",
       "      <td>...</td>\n",
       "      <td>...</td>\n",
       "    </tr>\n",
       "    <tr>\n",
       "      <th>196644015</th>\n",
       "      <td>6406462</td>\n",
       "      <td>2023-04-02 16:45:42.712</td>\n",
       "      <td>2</td>\n",
       "      <td>2687047</td>\n",
       "      <td>6206</td>\n",
       "      <td>-0.041476</td>\n",
       "    </tr>\n",
       "    <tr>\n",
       "      <th>196644016</th>\n",
       "      <td>6406462</td>\n",
       "      <td>2023-04-02 16:45:42.323</td>\n",
       "      <td>2</td>\n",
       "      <td>2687047</td>\n",
       "      <td>6206</td>\n",
       "      <td>-0.041476</td>\n",
       "    </tr>\n",
       "    <tr>\n",
       "      <th>196644017</th>\n",
       "      <td>8726613</td>\n",
       "      <td>2023-04-02 09:41:37.348</td>\n",
       "      <td>2</td>\n",
       "      <td>1244056</td>\n",
       "      <td>9295</td>\n",
       "      <td>-0.030982</td>\n",
       "    </tr>\n",
       "    <tr>\n",
       "      <th>196644018</th>\n",
       "      <td>8726613</td>\n",
       "      <td>2023-04-02 09:41:39.692</td>\n",
       "      <td>2</td>\n",
       "      <td>1244056</td>\n",
       "      <td>9295</td>\n",
       "      <td>-0.030982</td>\n",
       "    </tr>\n",
       "    <tr>\n",
       "      <th>196644019</th>\n",
       "      <td>6888547</td>\n",
       "      <td>2023-04-02 12:56:12.449</td>\n",
       "      <td>2</td>\n",
       "      <td>1340625</td>\n",
       "      <td>6206</td>\n",
       "      <td>-0.041575</td>\n",
       "    </tr>\n",
       "  </tbody>\n",
       "</table>\n",
       "<p>196644020 rows × 6 columns</p>\n",
       "</div>"
      ],
      "text/plain": [
       "           user_id                datetime  event  item_id  category_id  \\\n",
       "0          1199174 2023-02-13 03:12:19.131      2  1861088         5395   \n",
       "1          3124963 2023-02-13 09:38:55.674      2  2084441         1531   \n",
       "2          2106055 2023-02-13 08:26:05.004      2  2586689         9294   \n",
       "3          4169844 2023-02-13 16:55:08.470      2  2586689         9294   \n",
       "4          7472260 2023-02-13 03:30:13.093      2  2586689         9294   \n",
       "...            ...                     ...    ...      ...          ...   \n",
       "196644015  6406462 2023-04-02 16:45:42.712      2  2687047         6206   \n",
       "196644016  6406462 2023-04-02 16:45:42.323      2  2687047         6206   \n",
       "196644017  8726613 2023-04-02 09:41:37.348      2  1244056         9295   \n",
       "196644018  8726613 2023-04-02 09:41:39.692      2  1244056         9295   \n",
       "196644019  6888547 2023-04-02 12:56:12.449      2  1340625         6206   \n",
       "\n",
       "              price  \n",
       "0         -0.042062  \n",
       "1          0.079817  \n",
       "2         -0.038990  \n",
       "3         -0.038990  \n",
       "4         -0.038990  \n",
       "...             ...  \n",
       "196644015 -0.041476  \n",
       "196644016 -0.041476  \n",
       "196644017 -0.030982  \n",
       "196644018 -0.030982  \n",
       "196644019 -0.041575  \n",
       "\n",
       "[196644020 rows x 6 columns]"
      ]
     },
     "execution_count": 3,
     "metadata": {},
     "output_type": "execute_result"
    }
   ],
   "source": [
    "df"
   ]
  },
  {
   "cell_type": "code",
   "execution_count": 4,
   "id": "99e18d21",
   "metadata": {},
   "outputs": [
    {
     "data": {
      "text/plain": [
       "<Axes: >"
      ]
     },
     "execution_count": 4,
     "metadata": {},
     "output_type": "execute_result"
    },
    {
     "data": {
      "image/png": "[encoded data removed]",
      "text/plain": [
       "<Figure size 640x480 with 1 Axes>"
      ]
     },
     "metadata": {},
     "output_type": "display_data"
    }
   ],
   "source": [
    "df.event.hist()"
   ]
  },
  {
   "cell_type": "code",
   "execution_count": 5,
   "id": "80a97896-316a-4c05-a95d-f0ea0fc93f42",
   "metadata": {},
   "outputs": [],
   "source": [
    "# drop favorite and cart. Since cart < purchase\n",
    "df = df[(df['event'] != 1) & (df['event'] != 3)]"
   ]
  },
  {
   "cell_type": "code",
   "execution_count": 6,
   "id": "42016df3",
   "metadata": {},
   "outputs": [
    {
     "name": "stderr",
     "output_type": "stream",
     "text": [
      "/home/jovyan/miniconda3/envs/recsys/lib/python3.9/site-packages/pandas/core/frame.py:4167: SettingWithCopyWarning: \n",
      "A value is trying to be set on a copy of a slice from a DataFrame\n",
      "\n",
      "See the caveats in the documentation: https://pandas.pydata.org/pandas-docs/stable/user_guide/indexing.html#returning-a-view-versus-a-copy\n",
      "  return super().drop(\n"
     ]
    }
   ],
   "source": [
    "df.drop(['category_id', 'price'], axis=1, inplace=True)"
   ]
  },
  {
   "cell_type": "code",
   "execution_count": 7,
   "id": "912017ad-7847-4507-bfcf-7fa4d3c6b35d",
   "metadata": {},
   "outputs": [
    {
     "name": "stderr",
     "output_type": "stream",
     "text": [
      "/home/jovyan/miniconda3/envs/recsys/lib/python3.9/site-packages/pandas/core/series.py:4576: SettingWithCopyWarning: \n",
      "A value is trying to be set on a copy of a slice from a DataFrame\n",
      "\n",
      "See the caveats in the documentation: https://pandas.pydata.org/pandas-docs/stable/user_guide/indexing.html#returning-a-view-versus-a-copy\n",
      "  return super().replace(\n"
     ]
    }
   ],
   "source": [
    "df.event.replace([0, 2], [1, 0], inplace=True)"
   ]
  },
  {
   "cell_type": "code",
   "execution_count": 8,
   "id": "03cfbdd4-f848-4ee7-af8b-9974b6d0eae0",
   "metadata": {},
   "outputs": [],
   "source": [
    "df = df[[\"user_id\", \"item_id\", \"datetime\", \"event\"]]"
   ]
  },
  {
   "cell_type": "code",
   "execution_count": 9,
   "id": "2feaf64f-98c3-49dd-a115-6bbf8b8c7d6c",
   "metadata": {},
   "outputs": [
    {
     "name": "stdout",
     "output_type": "stream",
     "text": [
      "Number of the unique event - 2.\n",
      "\n"
     ]
    }
   ],
   "source": [
    "print(\n",
    "    f\"Number of the unique event - {df['event'].nunique()}.\\n\"\n",
    ")"
   ]
  },
  {
   "cell_type": "code",
   "execution_count": 10,
   "id": "39c66a58-e878-46a5-824d-fde93d9337a8",
   "metadata": {},
   "outputs": [],
   "source": [
    "max_session_type = df.groupby(['user_id', 'item_id'])['event'].max().rename('max_type')"
   ]
  },
  {
   "cell_type": "code",
   "execution_count": 11,
   "id": "4d3afb28-ce6f-489f-8b5c-485d4f1a61ac",
   "metadata": {},
   "outputs": [],
   "source": [
    "df = df.join(max_session_type, ['user_id', 'item_id'])"
   ]
  },
  {
   "cell_type": "code",
   "execution_count": 12,
   "id": "72cf1839",
   "metadata": {},
   "outputs": [
    {
     "data": {
      "text/plain": [
       "(171304101, 5)"
      ]
     },
     "execution_count": 12,
     "metadata": {},
     "output_type": "execute_result"
    }
   ],
   "source": [
    "df.shape"
   ]
  },
  {
   "cell_type": "code",
   "execution_count": 13,
   "id": "2d1d0d6d-e672-455e-bb81-73f1501a929e",
   "metadata": {},
   "outputs": [],
   "source": [
    "df = df[df['event'] == df['max_type']]"
   ]
  },
  {
   "cell_type": "code",
   "execution_count": 14,
   "id": "f26026ff",
   "metadata": {},
   "outputs": [
    {
     "data": {
      "text/plain": [
       "(148419772, 5)"
      ]
     },
     "execution_count": 14,
     "metadata": {},
     "output_type": "execute_result"
    }
   ],
   "source": [
    "df.shape"
   ]
  },
  {
   "cell_type": "code",
   "execution_count": 15,
   "id": "bfd80a8c-cee7-4732-b6b3-f3ca1a3761b6",
   "metadata": {},
   "outputs": [],
   "source": [
    "df.reset_index(drop=True, inplace=True)\n",
    "df.drop(columns='max_type', inplace=True)"
   ]
  },
  {
   "cell_type": "code",
   "execution_count": 17,
   "id": "6d266e62-29b9-4e40-a5ab-8bc8ea3f2e2e",
   "metadata": {},
   "outputs": [],
   "source": [
    "click_weight, purchase_weight = \\\n",
    "    df.shape[0] / df['event'].value_counts()"
   ]
  },
  {
   "cell_type": "code",
   "execution_count": 19,
   "id": "b4c38fe4",
   "metadata": {},
   "outputs": [
    {
     "data": {
      "text/plain": [
       "0    1.554808\n",
       "1    2.802427\n",
       "Name: event, dtype: float64"
      ]
     },
     "execution_count": 19,
     "metadata": {},
     "output_type": "execute_result"
    }
   ],
   "source": [
    "df.shape[0] / df['event'].value_counts()"
   ]
  },
  {
   "cell_type": "code",
   "execution_count": 20,
   "id": "d64dcfb6-3b27-4e23-850d-05b8e86fedb3",
   "metadata": {},
   "outputs": [],
   "source": [
    "df = df.join(\n",
    "    df.groupby(['user_id', 'item_id'])['event'].count().rename('count'),\n",
    "    on=['user_id', 'item_id']\n",
    ")"
   ]
  },
  {
   "cell_type": "code",
   "execution_count": 21,
   "id": "cddf98c9-a954-4eb3-a614-85b46ddc766b",
   "metadata": {},
   "outputs": [],
   "source": [
    "df.drop_duplicates(['user_id', 'item_id'], inplace=True)"
   ]
  },
  {
   "cell_type": "code",
   "execution_count": 22,
   "id": "506e2e4a-6550-4769-9a27-3c3af8f68b75",
   "metadata": {},
   "outputs": [],
   "source": [
    "click_border = click_weight * (purchase_weight // click_weight)"
   ]
  },
  {
   "cell_type": "code",
   "execution_count": 23,
   "id": "6b0d3325-66e6-4365-9f34-42866403a055",
   "metadata": {},
   "outputs": [],
   "source": [
    "df['weight'] = np.where(\n",
    "    df['event'] == 0,\n",
    "    np.minimum(click_border, df['count'] * click_weight),\n",
    "    df['count'] * purchase_weight\n",
    ")"
   ]
  },
  {
   "cell_type": "code",
   "execution_count": 24,
   "id": "613db088-f368-424b-92ee-e3d995a97164",
   "metadata": {},
   "outputs": [],
   "source": [
    "df.drop(columns=['event', 'count'], inplace=True)"
   ]
  },
  {
   "cell_type": "code",
   "execution_count": 27,
   "id": "2d8311fa",
   "metadata": {},
   "outputs": [],
   "source": [
    "df.datetime = pd.to_datetime(df.datetime).astype(int)"
   ]
  },
  {
   "cell_type": "code",
   "execution_count": 25,
   "id": "99c1c3e1-08cd-4bf2-b011-b7844cd5d057",
   "metadata": {},
   "outputs": [],
   "source": [
    "df.to_parquet('../../data/sber_smm/interactions.parquet')"
   ]
  }
 ],
 "metadata": {
  "kernelspec": {
   "display_name": "Python 3 (ipykernel)",
   "language": "python",
   "name": "python3"
  },
  "language_info": {
   "codemirror_mode": {
    "name": "ipython",
    "version": 3
   },
   "file_extension": ".py",
   "mimetype": "text/x-python",
   "name": "python",
   "nbconvert_exporter": "python",
   "pygments_lexer": "ipython3",
   "version": "3.9.17"
  }
 },
 "nbformat": 4,
 "nbformat_minor": 5
}
