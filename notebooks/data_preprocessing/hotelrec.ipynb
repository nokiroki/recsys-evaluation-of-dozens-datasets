{
 "cells": [
  {
   "cell_type": "code",
   "execution_count": 5,
   "metadata": {},
   "outputs": [],
   "source": [
    "import os\n",
    "\n",
    "import pandas as pd"
   ]
  },
  {
   "cell_type": "code",
   "execution_count": 6,
   "metadata": {},
   "outputs": [],
   "source": [
    "file_path = os.path.join(\"..\", \"..\", \"data\", \"hotelrec\", \"HotelRec.txt\")"
   ]
  },
  {
   "cell_type": "code",
   "execution_count": 19,
   "metadata": {},
   "outputs": [],
   "source": [
    "# Define the column names you want to extract from the JSON objects\n",
    "column_names = ['hotel_url', 'author', 'date', 'rating']\n",
    "chunk_size = 100000\n",
    "\n",
    "# Create an empty list to store the chunks read from the file\n",
    "chunk_df = pd.DataFrame(columns=column_names)\n",
    "\n",
    "# Read the file in chunks and process each chunk\n",
    "for chunk in pd.read_json(file_path, lines=True, chunksize=chunk_size):\n",
    "    # Process the chunk if needed (e.g., data cleaning, filtering, etc.)\n",
    "    # For example: chunk = chunk.dropna(subset=column_names)\n",
    "    \n",
    "    # Normalize the nested data and extract specified columns\n",
    "    chunk = chunk[column_names]\n",
    "    \n",
    "    # Store the processed chunk in the list\n",
    "    chunk_df = pd.concat([chunk_df, chunk])"
   ]
  },
  {
   "cell_type": "code",
   "execution_count": 22,
   "metadata": {},
   "outputs": [],
   "source": [
    "chunk_df.date = pd.to_datetime(chunk_df.date).astype(int)"
   ]
  },
  {
   "cell_type": "code",
   "execution_count": 25,
   "metadata": {},
   "outputs": [],
   "source": [
    "chunk_df.to_parquet(\n",
    "    os.path.join(\"..\", \"..\", \"data\", \"hotelrec\", \"hotelrec.parquet\"), index=False\n",
    ")"
   ]
  },
  {
   "cell_type": "code",
   "execution_count": 26,
   "metadata": {},
   "outputs": [],
   "source": [
    "test = pd.read_parquet(os.path.join(\"..\", \"..\", \"data\", \"hotelrec\", \"hotelrec.parquet\"))"
   ]
  }
 ],
 "metadata": {
  "kernelspec": {
   "display_name": "wind_kernel",
   "language": "python",
   "name": "wind_kernel"
  },
  "language_info": {
   "codemirror_mode": {
    "name": "ipython",
    "version": 3
   },
   "file_extension": ".py",
   "mimetype": "text/x-python",
   "name": "python",
   "nbconvert_exporter": "python",
   "pygments_lexer": "ipython3",
   "version": "3.10.6"
  },
  "orig_nbformat": 4
 },
 "nbformat": 4,
 "nbformat_minor": 2
}
