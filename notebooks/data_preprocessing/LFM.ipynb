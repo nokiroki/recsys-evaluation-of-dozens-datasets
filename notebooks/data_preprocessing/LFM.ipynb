{
 "cells": [
  {
   "cell_type": "code",
   "execution_count": 1,
   "metadata": {},
   "outputs": [],
   "source": [
    "import os\n",
    "import mat73\n",
    "import h5py\n",
    "\n",
    "import numpy as np\n",
    "import pandas as pd\n",
    "import scipy.io as sio"
   ]
  },
  {
   "cell_type": "code",
   "execution_count": 2,
   "metadata": {},
   "outputs": [],
   "source": [
    "LFM = pd.read_csv(\n",
    "    os.path.join(\"..\", \"..\", \"data\", \"lfm\", \"LFM-1b_LEs.txt\"),\n",
    "    sep=\"\\t\",\n",
    "    header=None,\n",
    "    names=[\"userId\", \"artists\", \"albums\", \"tracks\", \"timestamp\"],\n",
    ")"
   ]
  },
  {
   "cell_type": "markdown",
   "metadata": {},
   "source": [
    "We have sevaral options to use as an ItemID - artist, album, track. \n",
    "\n",
    "Let's take tracks for now."
   ]
  },
  {
   "cell_type": "code",
   "execution_count": 3,
   "metadata": {},
   "outputs": [],
   "source": [
    "LFM.drop(columns=[\"artists\", \"albums\"], inplace=True)\n",
    "LFM.rename(columns={\"tracks\": \"itemId\"}, inplace=True)\n",
    "LFM['interaction'] = 1"
   ]
  },
  {
   "cell_type": "code",
   "execution_count": 4,
   "metadata": {},
   "outputs": [],
   "source": [
    "LFM = LFM.groupby(['userId', 'itemId']).agg({\n",
    "    'timestamp': 'max',     \n",
    "    'interaction': 'sum'       \n",
    "}).reset_index()"
   ]
  },
  {
   "cell_type": "code",
   "execution_count": 5,
   "metadata": {},
   "outputs": [],
   "source": [
    "LFM.to_parquet(\n",
    "    os.path.join(\"..\", \"..\", \"data\", \"lfm\", \"interactions.parquet\"), index=False\n",
    ")"
   ]
  }
 ],
 "metadata": {
  "kernelspec": {
   "display_name": "wind_env",
   "language": "python",
   "name": "python3"
  },
  "language_info": {
   "codemirror_mode": {
    "name": "ipython",
    "version": 3
   },
   "file_extension": ".py",
   "mimetype": "text/x-python",
   "name": "python",
   "nbconvert_exporter": "python",
   "pygments_lexer": "ipython3",
   "version": "3.10.6"
  },
  "orig_nbformat": 4
 },
 "nbformat": 4,
 "nbformat_minor": 2
}
