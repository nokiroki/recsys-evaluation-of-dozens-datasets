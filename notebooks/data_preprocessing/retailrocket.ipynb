{
 "cells": [
  {
   "cell_type": "code",
   "execution_count": 1,
   "metadata": {},
   "outputs": [],
   "source": [
    "import os\n",
    "\n",
    "import numpy as np\n",
    "import pandas as pd"
   ]
  },
  {
   "cell_type": "code",
   "execution_count": 2,
   "metadata": {},
   "outputs": [],
   "source": [
    "data = pd.read_csv(os.path.join(\"..\", \"..\", \"data\", \"retail\", \"events.csv\"))"
   ]
  },
  {
   "cell_type": "code",
   "execution_count": 3,
   "metadata": {},
   "outputs": [],
   "source": [
    "data.reset_index(drop=True, inplace=True)\n",
    "data[\"event\"].replace(\"view\", 0, inplace=True)\n",
    "data[\"event\"].replace(\"addtocart\", 1, inplace=True)\n",
    "data[\"event\"].replace(\"transaction\", 2, inplace=True)"
   ]
  },
  {
   "cell_type": "code",
   "execution_count": 6,
   "metadata": {},
   "outputs": [
    {
     "data": {
      "text/plain": [
       "0    2664312\n",
       "1      69332\n",
       "2      22457\n",
       "Name: event, dtype: int64"
      ]
     },
     "execution_count": 6,
     "metadata": {},
     "output_type": "execute_result"
    }
   ],
   "source": [
    "data.event.value_counts()"
   ]
  },
  {
   "cell_type": "code",
   "execution_count": null,
   "metadata": {},
   "outputs": [],
   "source": [
    "data.columns = data.columns.str.replace(\"ts\", \"timestamp\")\n",
    "data.columns = data.columns.str.replace(\"visitorid\", \"session\")\n",
    "data.columns = data.columns.str.replace(\"event\", \"type\")\n",
    "data.columns = data.columns.str.replace(\"itemid\", \"aid\")\n",
    "data = data[[\"session\", \"aid\", \"timestamp\", \"type\"]]"
   ]
  },
  {
   "cell_type": "code",
   "execution_count": null,
   "metadata": {},
   "outputs": [],
   "source": [
    "max_session_type = data.groupby([\"session\", \"aid\"])[\"type\"].max().rename(\"max_type\")"
   ]
  },
  {
   "cell_type": "code",
   "execution_count": null,
   "metadata": {},
   "outputs": [],
   "source": [
    "data = data.join(max_session_type, [\"session\", \"aid\"])"
   ]
  },
  {
   "cell_type": "code",
   "execution_count": null,
   "metadata": {},
   "outputs": [],
   "source": [
    "data = data[data[\"type\"] == data[\"max_type\"]]"
   ]
  },
  {
   "cell_type": "code",
   "execution_count": null,
   "metadata": {},
   "outputs": [],
   "source": [
    "data.reset_index(drop=True, inplace=True)\n",
    "data.drop(columns=\"max_type\", inplace=True)"
   ]
  },
  {
   "cell_type": "code",
   "execution_count": null,
   "metadata": {},
   "outputs": [],
   "source": [
    "click_weight, cart_weight, purchase_weight = data.shape[0] / data[\"type\"].value_counts()"
   ]
  },
  {
   "cell_type": "code",
   "execution_count": null,
   "metadata": {},
   "outputs": [],
   "source": [
    "data = data.join(\n",
    "    data.groupby([\"session\", \"aid\"])[\"type\"].count().rename(\"count\"),\n",
    "    on=[\"session\", \"aid\"],\n",
    ")"
   ]
  },
  {
   "cell_type": "code",
   "execution_count": null,
   "metadata": {},
   "outputs": [],
   "source": [
    "data.drop_duplicates([\"session\", \"aid\"], inplace=True)"
   ]
  },
  {
   "cell_type": "code",
   "execution_count": null,
   "metadata": {},
   "outputs": [],
   "source": [
    "click_border = click_weight * (cart_weight // click_weight)\n",
    "cart_border = cart_weight * (purchase_weight // cart_weight)"
   ]
  },
  {
   "cell_type": "code",
   "execution_count": null,
   "metadata": {},
   "outputs": [],
   "source": [
    "data[\"weight\"] = np.where(\n",
    "    data[\"type\"] == 0,\n",
    "    np.minimum(click_border, data[\"count\"] * click_weight),\n",
    "    np.where(\n",
    "        data[\"type\"] == 1,\n",
    "        np.minimum(cart_border, data[\"count\"] * cart_weight),\n",
    "        data[\"count\"] * purchase_weight,\n",
    "    ),\n",
    ")"
   ]
  },
  {
   "cell_type": "code",
   "execution_count": null,
   "metadata": {},
   "outputs": [],
   "source": [
    "data.drop(columns=[\"type\", \"count\"], inplace=True)"
   ]
  },
  {
   "cell_type": "code",
   "execution_count": null,
   "metadata": {},
   "outputs": [],
   "source": [
    "data.to_parquet(\n",
    "    os.path.join(\"..\", \"..\", \"data\", \"retail\", \"interactions.parquet\"), index=False\n",
    ")"
   ]
  }
 ],
 "metadata": {
  "kernelspec": {
   "display_name": "cuda10",
   "language": "python",
   "name": "python3"
  },
  "language_info": {
   "codemirror_mode": {
    "name": "ipython",
    "version": 3
   },
   "file_extension": ".py",
   "mimetype": "text/x-python",
   "name": "python",
   "nbconvert_exporter": "python",
   "pygments_lexer": "ipython3",
   "version": "3.9.17"
  },
  "orig_nbformat": 4
 },
 "nbformat": 4,
 "nbformat_minor": 2
}
