{
 "cells": [
  {
   "cell_type": "code",
   "execution_count": 1,
   "metadata": {},
   "outputs": [],
   "source": [
    "import numpy as np\n",
    "import pandas as pd"
   ]
  },
  {
   "cell_type": "code",
   "execution_count": 2,
   "metadata": {},
   "outputs": [],
   "source": [
    "df = pd.read_csv(\n",
    "    '../../data/brightkite/Brightkite_totalCheckins.txt',\n",
    "    sep='\\t',\n",
    "    header=None,\n",
    "    names=(\n",
    "        'userId',\n",
    "        'checkInTime',\n",
    "        'latitude',\n",
    "        'longtitude',\n",
    "        'locationId'\n",
    "    )\n",
    ")"
   ]
  },
  {
   "cell_type": "code",
   "execution_count": 3,
   "metadata": {},
   "outputs": [
    {
     "data": {
      "text/html": [
       "<div>\n",
       "<style scoped>\n",
       "    .dataframe tbody tr th:only-of-type {\n",
       "        vertical-align: middle;\n",
       "    }\n",
       "\n",
       "    .dataframe tbody tr th {\n",
       "        vertical-align: top;\n",
       "    }\n",
       "\n",
       "    .dataframe thead th {\n",
       "        text-align: right;\n",
       "    }\n",
       "</style>\n",
       "<table border=\"1\" class=\"dataframe\">\n",
       "  <thead>\n",
       "    <tr style=\"text-align: right;\">\n",
       "      <th></th>\n",
       "      <th>userId</th>\n",
       "      <th>checkInTime</th>\n",
       "      <th>latitude</th>\n",
       "      <th>longtitude</th>\n",
       "      <th>locationId</th>\n",
       "    </tr>\n",
       "  </thead>\n",
       "  <tbody>\n",
       "    <tr>\n",
       "      <th>0</th>\n",
       "      <td>0</td>\n",
       "      <td>2010-10-17T01:48:53Z</td>\n",
       "      <td>39.747652</td>\n",
       "      <td>-104.992510</td>\n",
       "      <td>88c46bf20db295831bd2d1718ad7e6f5</td>\n",
       "    </tr>\n",
       "    <tr>\n",
       "      <th>1</th>\n",
       "      <td>0</td>\n",
       "      <td>2010-10-16T06:02:04Z</td>\n",
       "      <td>39.891383</td>\n",
       "      <td>-105.070814</td>\n",
       "      <td>7a0f88982aa015062b95e3b4843f9ca2</td>\n",
       "    </tr>\n",
       "    <tr>\n",
       "      <th>2</th>\n",
       "      <td>0</td>\n",
       "      <td>2010-10-16T03:48:54Z</td>\n",
       "      <td>39.891077</td>\n",
       "      <td>-105.068532</td>\n",
       "      <td>dd7cd3d264c2d063832db506fba8bf79</td>\n",
       "    </tr>\n",
       "  </tbody>\n",
       "</table>\n",
       "</div>"
      ],
      "text/plain": [
       "   userId           checkInTime   latitude  longtitude  \\\n",
       "0       0  2010-10-17T01:48:53Z  39.747652 -104.992510   \n",
       "1       0  2010-10-16T06:02:04Z  39.891383 -105.070814   \n",
       "2       0  2010-10-16T03:48:54Z  39.891077 -105.068532   \n",
       "\n",
       "                         locationId  \n",
       "0  88c46bf20db295831bd2d1718ad7e6f5  \n",
       "1  7a0f88982aa015062b95e3b4843f9ca2  \n",
       "2  dd7cd3d264c2d063832db506fba8bf79  "
      ]
     },
     "execution_count": 3,
     "metadata": {},
     "output_type": "execute_result"
    }
   ],
   "source": [
    "df.head(3)"
   ]
  },
  {
   "cell_type": "code",
   "execution_count": 4,
   "metadata": {},
   "outputs": [],
   "source": [
    "df['checkInTime'] = pd.to_datetime(df['checkInTime'])"
   ]
  },
  {
   "cell_type": "code",
   "execution_count": 6,
   "metadata": {},
   "outputs": [],
   "source": [
    "df.dropna(inplace=True)"
   ]
  },
  {
   "cell_type": "code",
   "execution_count": 7,
   "metadata": {},
   "outputs": [],
   "source": [
    "df['checkInTime'] = df['checkInTime'].apply(lambda x: x.timestamp())"
   ]
  },
  {
   "cell_type": "code",
   "execution_count": 8,
   "metadata": {},
   "outputs": [],
   "source": [
    "df.drop(columns=['latitude', 'longtitude'], inplace=True)"
   ]
  },
  {
   "cell_type": "code",
   "execution_count": 9,
   "metadata": {},
   "outputs": [],
   "source": [
    "df['relevant'] = 1"
   ]
  },
  {
   "cell_type": "code",
   "execution_count": 12,
   "metadata": {},
   "outputs": [
    {
     "data": {
      "text/html": [
       "<div>\n",
       "<style scoped>\n",
       "    .dataframe tbody tr th:only-of-type {\n",
       "        vertical-align: middle;\n",
       "    }\n",
       "\n",
       "    .dataframe tbody tr th {\n",
       "        vertical-align: top;\n",
       "    }\n",
       "\n",
       "    .dataframe thead th {\n",
       "        text-align: right;\n",
       "    }\n",
       "</style>\n",
       "<table border=\"1\" class=\"dataframe\">\n",
       "  <thead>\n",
       "    <tr style=\"text-align: right;\">\n",
       "      <th></th>\n",
       "      <th>userId</th>\n",
       "      <th>checkInTime</th>\n",
       "      <th>locationId</th>\n",
       "      <th>relevant</th>\n",
       "    </tr>\n",
       "  </thead>\n",
       "  <tbody>\n",
       "    <tr>\n",
       "      <th>0</th>\n",
       "      <td>0</td>\n",
       "      <td>1.287280e+09</td>\n",
       "      <td>88c46bf20db295831bd2d1718ad7e6f5</td>\n",
       "      <td>1</td>\n",
       "    </tr>\n",
       "    <tr>\n",
       "      <th>1</th>\n",
       "      <td>0</td>\n",
       "      <td>1.287209e+09</td>\n",
       "      <td>7a0f88982aa015062b95e3b4843f9ca2</td>\n",
       "      <td>1</td>\n",
       "    </tr>\n",
       "    <tr>\n",
       "      <th>2</th>\n",
       "      <td>0</td>\n",
       "      <td>1.287201e+09</td>\n",
       "      <td>dd7cd3d264c2d063832db506fba8bf79</td>\n",
       "      <td>1</td>\n",
       "    </tr>\n",
       "    <tr>\n",
       "      <th>3</th>\n",
       "      <td>0</td>\n",
       "      <td>1.287081e+09</td>\n",
       "      <td>9848afcc62e500a01cf6fbf24b797732f8963683</td>\n",
       "      <td>1</td>\n",
       "    </tr>\n",
       "    <tr>\n",
       "      <th>4</th>\n",
       "      <td>0</td>\n",
       "      <td>1.287016e+09</td>\n",
       "      <td>2ef143e12038c870038df53e0478cefc</td>\n",
       "      <td>1</td>\n",
       "    </tr>\n",
       "    <tr>\n",
       "      <th>...</th>\n",
       "      <td>...</td>\n",
       "      <td>...</td>\n",
       "      <td>...</td>\n",
       "      <td>...</td>\n",
       "    </tr>\n",
       "    <tr>\n",
       "      <th>4747282</th>\n",
       "      <td>58222</td>\n",
       "      <td>1.232678e+09</td>\n",
       "      <td>9f6b83bca22411dd85460384f67fcdb0</td>\n",
       "      <td>1</td>\n",
       "    </tr>\n",
       "    <tr>\n",
       "      <th>4747283</th>\n",
       "      <td>58224</td>\n",
       "      <td>1.230995e+09</td>\n",
       "      <td>9f6b83bca22411dd85460384f67fcdb0</td>\n",
       "      <td>1</td>\n",
       "    </tr>\n",
       "    <tr>\n",
       "      <th>4747284</th>\n",
       "      <td>58225</td>\n",
       "      <td>1.232460e+09</td>\n",
       "      <td>9f6b83bca22411dd85460384f67fcdb0</td>\n",
       "      <td>1</td>\n",
       "    </tr>\n",
       "    <tr>\n",
       "      <th>4747285</th>\n",
       "      <td>58226</td>\n",
       "      <td>1.232458e+09</td>\n",
       "      <td>9f6b83bca22411dd85460384f67fcdb0</td>\n",
       "      <td>1</td>\n",
       "    </tr>\n",
       "    <tr>\n",
       "      <th>4747286</th>\n",
       "      <td>58227</td>\n",
       "      <td>1.232497e+09</td>\n",
       "      <td>9f6b83bca22411dd85460384f67fcdb0</td>\n",
       "      <td>1</td>\n",
       "    </tr>\n",
       "  </tbody>\n",
       "</table>\n",
       "<p>4747281 rows × 4 columns</p>\n",
       "</div>"
      ],
      "text/plain": [
       "         userId   checkInTime                                locationId  \\\n",
       "0             0  1.287280e+09          88c46bf20db295831bd2d1718ad7e6f5   \n",
       "1             0  1.287209e+09          7a0f88982aa015062b95e3b4843f9ca2   \n",
       "2             0  1.287201e+09          dd7cd3d264c2d063832db506fba8bf79   \n",
       "3             0  1.287081e+09  9848afcc62e500a01cf6fbf24b797732f8963683   \n",
       "4             0  1.287016e+09          2ef143e12038c870038df53e0478cefc   \n",
       "...         ...           ...                                       ...   \n",
       "4747282   58222  1.232678e+09          9f6b83bca22411dd85460384f67fcdb0   \n",
       "4747283   58224  1.230995e+09          9f6b83bca22411dd85460384f67fcdb0   \n",
       "4747284   58225  1.232460e+09          9f6b83bca22411dd85460384f67fcdb0   \n",
       "4747285   58226  1.232458e+09          9f6b83bca22411dd85460384f67fcdb0   \n",
       "4747286   58227  1.232497e+09          9f6b83bca22411dd85460384f67fcdb0   \n",
       "\n",
       "         relevant  \n",
       "0               1  \n",
       "1               1  \n",
       "2               1  \n",
       "3               1  \n",
       "4               1  \n",
       "...           ...  \n",
       "4747282         1  \n",
       "4747283         1  \n",
       "4747284         1  \n",
       "4747285         1  \n",
       "4747286         1  \n",
       "\n",
       "[4747281 rows x 4 columns]"
      ]
     },
     "execution_count": 12,
     "metadata": {},
     "output_type": "execute_result"
    }
   ],
   "source": [
    "df"
   ]
  },
  {
   "cell_type": "code",
   "execution_count": 11,
   "metadata": {},
   "outputs": [],
   "source": [
    "df.to_parquet('../../data/brightkite/interactions.parquet', index=False)"
   ]
  }
 ],
 "metadata": {
  "kernelspec": {
   "display_name": "sber-recsys",
   "language": "python",
   "name": "python3"
  },
  "language_info": {
   "codemirror_mode": {
    "name": "ipython",
    "version": 3
   },
   "file_extension": ".py",
   "mimetype": "text/x-python",
   "name": "python",
   "nbconvert_exporter": "python",
   "pygments_lexer": "ipython3",
   "version": "3.10.6"
  },
  "orig_nbformat": 4
 },
 "nbformat": 4,
 "nbformat_minor": 2
}
