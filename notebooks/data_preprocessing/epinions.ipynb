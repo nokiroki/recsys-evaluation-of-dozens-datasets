{
 "cells": [
  {
   "cell_type": "code",
   "execution_count": 1,
   "metadata": {},
   "outputs": [],
   "source": [
    "import os\n",
    "\n",
    "import pandas as pd\n",
    "import scipy.io as sio"
   ]
  },
  {
   "cell_type": "code",
   "execution_count": 2,
   "metadata": {},
   "outputs": [],
   "source": [
    "d = sio.loadmat(\n",
    "    os.path.join(\"..\", \"..\", \"data\", \"epinions\", \"rating_with_timestamp.mat\")\n",
    ")\n",
    "prime = []\n",
    "for val in d[\"rating_with_timestamp\"]:\n",
    "    user, item, rating, timestamp = val[0], val[1], val[3], val[5]\n",
    "    prime.append([user, item, rating, timestamp])\n",
    "epinions = pd.DataFrame(prime, columns=[\"userId\", \"itemId\", \"rating\", \"timestamp\"])"
   ]
  },
  {
   "cell_type": "code",
   "execution_count": 3,
   "metadata": {},
   "outputs": [],
   "source": [
    "epinions.to_parquet(\n",
    "    os.path.join(\"..\", \"..\", \"data\", \"epinions\", \"ratings.parquet\"), index=False\n",
    ")"
   ]
  }
 ],
 "metadata": {
  "kernelspec": {
   "display_name": "wind_kernel",
   "language": "python",
   "name": "wind_kernel"
  },
  "language_info": {
   "codemirror_mode": {
    "name": "ipython",
    "version": 3
   },
   "file_extension": ".py",
   "mimetype": "text/x-python",
   "name": "python",
   "nbconvert_exporter": "python",
   "pygments_lexer": "ipython3",
   "version": "3.10.6"
  },
  "orig_nbformat": 4
 },
 "nbformat": 4,
 "nbformat_minor": 2
}
