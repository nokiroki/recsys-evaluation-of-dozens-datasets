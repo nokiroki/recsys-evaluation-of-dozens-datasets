{
 "cells": [
  {
   "cell_type": "code",
   "execution_count": 1,
   "metadata": {},
   "outputs": [],
   "source": [
    "import os\n",
    "import pandas as pd"
   ]
  },
  {
   "cell_type": "code",
   "execution_count": 2,
   "metadata": {},
   "outputs": [],
   "source": [
    "# Paths\n",
    "books_ratings_path = os.path.join(\n",
    "    \"..\", \"..\", \"data\", \"douban\", \"bookreviews_cleaned.txt\"\n",
    ")\n",
    "movies_ratings_path = os.path.join(\n",
    "    \"..\", \"..\", \"data\", \"douban\", \"moviereviews_cleaned.txt\"\n",
    ")\n",
    "music_ratings_path = os.path.join(\n",
    "    \"..\", \"..\", \"data\", \"douban\", \"musicreviews_cleaned.txt\"\n",
    ")"
   ]
  },
  {
   "cell_type": "code",
   "execution_count": 3,
   "metadata": {},
   "outputs": [],
   "source": [
    "# Read TSV files into a DataFrame\n",
    "books_ratings = pd.read_csv(books_ratings_path, sep=\"\\t\")\n",
    "movies_ratings = pd.read_csv(movies_ratings_path, sep=\"\\t\")\n",
    "music_ratings = pd.read_csv(music_ratings_path, sep=\"\\t\")\n",
    "\n",
    "# Rename columns\n",
    "books_ratings.rename(\n",
    "    columns={\"user_id\": \"userId\", \"book_id\": \"itemId\", \"time\": \"timestamp\"},\n",
    "    inplace=True,\n",
    ")\n",
    "movies_ratings.rename(\n",
    "    columns={\"user_id\": \"userId\", \"movie_id\": \"itemId\", \"time\": \"timestamp\"},\n",
    "    inplace=True,\n",
    ")\n",
    "music_ratings.rename(\n",
    "    columns={\"user_id\": \"userId\", \"music_id\": \"itemId\", \"time\": \"timestamp\"},\n",
    "    inplace=True,\n",
    ")\n",
    "\n",
    "# Drop columns\n",
    "books_ratings = books_ratings[[\"userId\", \"itemId\", \"rating\", \"timestamp\"]]\n",
    "movies_ratings = movies_ratings[[\"userId\", \"itemId\", \"rating\", \"timestamp\"]]\n",
    "music_ratings = music_ratings[[\"userId\", \"itemId\", \"rating\", \"timestamp\"]]\n",
    "\n",
    "# Timestamp to int\n",
    "books_ratings[\"timestamp\"] = pd.to_datetime(books_ratings[\"timestamp\"]).astype(int)\n",
    "movies_ratings[\"timestamp\"] = pd.to_datetime(movies_ratings[\"timestamp\"]).astype(int)\n",
    "music_ratings[\"timestamp\"] = pd.to_datetime(music_ratings[\"timestamp\"]).astype(int)"
   ]
  },
  {
   "cell_type": "code",
   "execution_count": 4,
   "metadata": {},
   "outputs": [],
   "source": [
    "books_ratings.to_parquet(\n",
    "    os.path.join(\"..\", \"..\", \"data\", \"douban\", \"books_ratings.parquet\")\n",
    ")\n",
    "movies_ratings.to_parquet(\n",
    "    os.path.join(\"..\", \"..\", \"data\", \"douban\", \"movies_ratings.parquet\")\n",
    ")\n",
    "music_ratings.to_parquet(\n",
    "    os.path.join(\"..\", \"..\", \"data\", \"douban\", \"music_ratings.parquet\")\n",
    ")"
   ]
  }
 ],
 "metadata": {
  "kernelspec": {
   "display_name": "wind_kernel",
   "language": "python",
   "name": "wind_kernel"
  },
  "language_info": {
   "codemirror_mode": {
    "name": "ipython",
    "version": 3
   },
   "file_extension": ".py",
   "mimetype": "text/x-python",
   "name": "python",
   "nbconvert_exporter": "python",
   "pygments_lexer": "ipython3",
   "version": "3.10.6"
  },
  "orig_nbformat": 4
 },
 "nbformat": 4,
 "nbformat_minor": 2
}
