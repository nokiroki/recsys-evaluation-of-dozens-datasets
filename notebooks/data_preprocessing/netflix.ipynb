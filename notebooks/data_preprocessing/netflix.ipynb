{
 "cells": [
  {
   "cell_type": "code",
   "execution_count": 1,
   "metadata": {},
   "outputs": [
    {
     "name": "stderr",
     "output_type": "stream",
     "text": [
      "/cephfs/projects/psoker/.local/lib/python3.8/site-packages/pandas/core/computation/expressions.py:20: UserWarning: Pandas requires version '2.7.3' or newer of 'numexpr' (version '2.7.1' currently installed).\n",
      "  from pandas.core.computation.check import NUMEXPR_INSTALLED\n"
     ]
    }
   ],
   "source": [
    "import os\n",
    "\n",
    "import pandas as pd"
   ]
  },
  {
   "cell_type": "markdown",
   "metadata": {},
   "source": [
    "#### Load data and preprocess to common format"
   ]
  },
  {
   "cell_type": "code",
   "execution_count": 2,
   "metadata": {},
   "outputs": [
    {
     "name": "stdout",
     "output_type": "stream",
     "text": [
      "<class 'pandas.core.frame.DataFrame'>\n",
      "Index: 100480507 entries, 1 to 100498276\n",
      "Data columns (total 4 columns):\n",
      " #   Column     Dtype  \n",
      "---  ------     -----  \n",
      " 0   userId     int64  \n",
      " 1   movieId    int64  \n",
      " 2   rating     float64\n",
      " 3   timestamp  int64  \n",
      "dtypes: float64(1), int64(3)\n",
      "memory usage: 3.7 GB\n"
     ]
    }
   ],
   "source": [
    "# First time data load.\n",
    "ratings = pd.read_csv(\n",
    "    os.path.join(\"..\", \"..\", \"data\", \"netflix\", \"combined_data_1.txt\"),\n",
    "    header=None,\n",
    "    names=[\"userId\", \"rating\", \"timestamp\"],\n",
    ")\n",
    "ratings2 = pd.read_csv(\n",
    "    os.path.join(\"..\", \"..\", \"data\", \"netflix\", \"combined_data_2.txt\"),\n",
    "    header=None,\n",
    "    names=[\"userId\", \"rating\", \"timestamp\"],\n",
    ")\n",
    "ratings3 = pd.read_csv(\n",
    "    os.path.join(\"..\", \"..\", \"data\", \"netflix\", \"combined_data_3.txt\"),\n",
    "    header=None,\n",
    "    names=[\"userId\", \"rating\", \"timestamp\"],\n",
    ")\n",
    "ratings4 = pd.read_csv(\n",
    "    os.path.join(\"..\", \"..\", \"data\", \"netflix\", \"combined_data_4.txt\"),\n",
    "    header=None,\n",
    "    names=[\"userId\", \"rating\", \"timestamp\"],\n",
    ")\n",
    "\n",
    "# Append to the first dataframe\n",
    "ratings = pd.concat([ratings, ratings2])\n",
    "ratings = pd.concat([ratings, ratings3])\n",
    "ratings = pd.concat([ratings, ratings4])\n",
    "ratings.reset_index(drop=True, inplace=True)\n",
    "\n",
    "# Del from memory\n",
    "del ratings2, ratings3, ratings4\n",
    "\n",
    "# Making movieId column\n",
    "ratings[\"movieId\"] = ratings[ratings[\"rating\"].isna()][\"userId\"].str.replace(\":\", \"\")\n",
    "ratings[\"movieId\"].fillna(method=\"ffill\", inplace=True)\n",
    "ratings.dropna(subset=\"rating\", inplace=True)\n",
    "\n",
    "# Rearrange columns\n",
    "ratings = ratings[[\"userId\", \"movieId\", \"rating\", \"timestamp\"]]\n",
    "\n",
    "# Modify formats\n",
    "ratings[\"timestamp\"] = pd.to_datetime(ratings[\"timestamp\"]).astype(int)\n",
    "ratings[\"rating\"] = ratings[\"rating\"].astype(float)\n",
    "ratings[\"movieId\"] = ratings[\"movieId\"].astype(int)\n",
    "ratings[\"userId\"] = ratings[\"userId\"].astype(int)\n",
    "\n",
    "ratings.info()"
   ]
  },
  {
   "cell_type": "code",
   "execution_count": 3,
   "metadata": {},
   "outputs": [],
   "source": [
    "# Save preprocessed dataset to csv file\n",
    "ratings.to_parquet(os.path.join(\"..\", \"..\", \"data\", \"netflix\", \"ratings.parquet\"), index=False)"
   ]
  }
 ],
 "metadata": {
  "kernelspec": {
   "display_name": "base",
   "language": "python",
   "name": "python3"
  },
  "language_info": {
   "codemirror_mode": {
    "name": "ipython",
    "version": 3
   },
   "file_extension": ".py",
   "mimetype": "text/x-python",
   "name": "python",
   "nbconvert_exporter": "python",
   "pygments_lexer": "ipython3",
   "version": "3.8.5"
  },
  "orig_nbformat": 4
 },
 "nbformat": 4,
 "nbformat_minor": 2
}
