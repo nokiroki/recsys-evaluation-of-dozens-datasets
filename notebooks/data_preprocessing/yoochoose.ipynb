{
 "cells": [
  {
   "cell_type": "code",
   "execution_count": 3,
   "metadata": {},
   "outputs": [],
   "source": [
    "import os\n",
    "\n",
    "import numpy as np\n",
    "import pandas as pd\n",
    "import tqdm\n",
    "import time"
   ]
  },
  {
   "cell_type": "code",
   "execution_count": 4,
   "metadata": {},
   "outputs": [
    {
     "name": "stderr",
     "output_type": "stream",
     "text": [
      "/tmp/ipykernel_17890/2834650445.py:1: DtypeWarning: Columns (3) have mixed types. Specify dtype option on import or set low_memory=False.\n",
      "  clicks_data = pd.read_csv(\n"
     ]
    }
   ],
   "source": [
    "clicks_data = pd.read_csv(\n",
    "    os.path.join(\"..\", \"..\", \"data\", \"yoochoose\", \"yoochoose-clicks.dat\"),\n",
    "    names=['sessionID', 'timestamp', 'itemID', 'category'],\n",
    "    parse_dates=[\"timestamp\"],\n",
    ")\n",
    "\n",
    "buys_data = pd.read_csv(\n",
    "    os.path.join(\"..\", \"..\", \"data\", \"yoochoose\", \"yoochoose-buys.dat\"),\n",
    "    names=['sessionID', 'timestamp', 'itemID', 'price', 'qty'],\n",
    "    parse_dates=[\"timestamp\"]\n",
    ")"
   ]
  },
  {
   "cell_type": "code",
   "execution_count": 5,
   "metadata": {},
   "outputs": [],
   "source": [
    "buys_data.drop(columns=['price', 'qty'], inplace=True)\n",
    "clicks_data.drop(columns=['category'], inplace=True)"
   ]
  },
  {
   "cell_type": "code",
   "execution_count": 6,
   "metadata": {},
   "outputs": [],
   "source": [
    "buys_data['type'] = 1\n",
    "clicks_data['type'] = 0"
   ]
  },
  {
   "cell_type": "code",
   "execution_count": 7,
   "metadata": {},
   "outputs": [],
   "source": [
    "data = pd.concat((clicks_data, buys_data), axis=0, ignore_index=True)\n",
    "data = data[[\"sessionID\", \"itemID\", \"timestamp\", \"type\"]]"
   ]
  },
  {
   "cell_type": "code",
   "execution_count": 12,
   "metadata": {},
   "outputs": [],
   "source": [
    "max_session_type = data.groupby([\"sessionID\", \"itemID\"])[\"type\"].max().rename(\"max_type\")"
   ]
  },
  {
   "cell_type": "code",
   "execution_count": 13,
   "metadata": {},
   "outputs": [],
   "source": [
    "data = data.join(max_session_type, [\"sessionID\", \"itemID\"])"
   ]
  },
  {
   "cell_type": "code",
   "execution_count": 14,
   "metadata": {},
   "outputs": [],
   "source": [
    "data = data[data[\"type\"] == data[\"max_type\"]]"
   ]
  },
  {
   "cell_type": "code",
   "execution_count": 15,
   "metadata": {},
   "outputs": [],
   "source": [
    "data.reset_index(drop=True, inplace=True)\n",
    "data.drop(columns=\"max_type\", inplace=True)"
   ]
  },
  {
   "cell_type": "code",
   "execution_count": 18,
   "metadata": {},
   "outputs": [],
   "source": [
    "click_weight, purchase_weight = \\\n",
    "    data.shape[0] / data['type'].value_counts()"
   ]
  },
  {
   "cell_type": "code",
   "execution_count": 19,
   "metadata": {},
   "outputs": [],
   "source": [
    "data = data.join(\n",
    "    data.groupby(['sessionID', 'itemID'])['type'].count().rename('count'),\n",
    "    on=['sessionID', 'itemID']\n",
    ")"
   ]
  },
  {
   "cell_type": "code",
   "execution_count": 22,
   "metadata": {},
   "outputs": [],
   "source": [
    "data.sort_values(by='timestamp', inplace=True)\n",
    "data.drop_duplicates(['sessionID', 'itemID'], inplace=True)"
   ]
  },
  {
   "cell_type": "code",
   "execution_count": 24,
   "metadata": {},
   "outputs": [],
   "source": [
    "click_border = click_weight * (purchase_weight // click_weight)"
   ]
  },
  {
   "cell_type": "code",
   "execution_count": 25,
   "metadata": {},
   "outputs": [],
   "source": [
    "data['weight'] = np.where(\n",
    "    data['type'] == 0,\n",
    "    np.minimum(click_border, data['count'] * click_weight),\n",
    "    data['count'] * purchase_weight\n",
    ")"
   ]
  },
  {
   "cell_type": "code",
   "execution_count": 27,
   "metadata": {},
   "outputs": [],
   "source": [
    "data.drop(columns=['type', 'count'], inplace=True)"
   ]
  },
  {
   "cell_type": "code",
   "execution_count": 29,
   "metadata": {},
   "outputs": [],
   "source": [
    "data.timestamp = data.timestamp.astype(int)"
   ]
  },
  {
   "cell_type": "code",
   "execution_count": 31,
   "metadata": {},
   "outputs": [],
   "source": [
    "data.to_parquet(os.path.join('..', '..', 'data', 'yoochoose', 'interactions.parquet'), index=False)"
   ]
  }
 ],
 "metadata": {
  "kernelspec": {
   "display_name": "wind_kernel",
   "language": "python",
   "name": "wind_kernel"
  },
  "language_info": {
   "codemirror_mode": {
    "name": "ipython",
    "version": 3
   },
   "file_extension": ".py",
   "mimetype": "text/x-python",
   "name": "python",
   "nbconvert_exporter": "python",
   "pygments_lexer": "ipython3",
   "version": "3.10.6"
  },
  "orig_nbformat": 4
 },
 "nbformat": 4,
 "nbformat_minor": 2
}
