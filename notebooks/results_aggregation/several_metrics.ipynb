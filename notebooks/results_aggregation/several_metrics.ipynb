{
 "cells": [
  {
   "cell_type": "code",
   "execution_count": 1,
   "metadata": {},
   "outputs": [],
   "source": [
    "import os\n",
    "import sys\n",
    "\n",
    "dir2 = os.path.abspath(\"\")\n",
    "dir1 = os.path.dirname(dir2)\n",
    "if not dir1 in sys.path:\n",
    "    sys.path.append(dir1)\n",
    "os.chdir(\"../..\")\n",
    "os.environ['NUMEXPR_NUM_THREADS'] = '10'"
   ]
  },
  {
   "cell_type": "code",
   "execution_count": 2,
   "metadata": {},
   "outputs": [
    {
     "name": "stderr",
     "output_type": "stream",
     "text": [
      "Error.  nthreads cannot be larger than environment variable \"NUMEXPR_MAX_THREADS\" (0)"
     ]
    }
   ],
   "source": [
    "import pandas as pd"
   ]
  },
  {
   "cell_type": "code",
   "execution_count": 3,
   "metadata": {},
   "outputs": [],
   "source": [
    "file_paths = [\n",
    "    \"/home/jovyan/v.shevchenko/sber-recsys/results/aggregation/results_dolan_more_coverage_20.csv\",\n",
    "    \"/home/jovyan/v.shevchenko/sber-recsys//results/aggregation/results_dolan_more_hitrate_20.csv\",\n",
    "    \"/home/jovyan/v.shevchenko/sber-recsys//results/aggregation/results_dolan_more_ndcg_20.csv\"\n",
    "]"
   ]
  },
  {
   "cell_type": "code",
   "execution_count": 4,
   "metadata": {},
   "outputs": [
    {
     "name": "stdout",
     "output_type": "stream",
     "text": [
      "   Model_name      ranks\n",
      "2        EASE   2.666667\n",
      "5    LightGCL   2.666667\n",
      "6    LightGCN   3.333333\n",
      "8    MultiVAE   4.000000\n",
      "3     ItemKNN   5.333333\n",
      "0         ALS   6.333333\n",
      "4     LightFM   7.333333\n",
      "9      Random   7.666667\n",
      "1         BPR   8.000000\n",
      "10       SLIM   8.333333\n",
      "7     MostPop  10.333333\n"
     ]
    }
   ],
   "source": [
    "# Load the data from each CSV file into a DataFrame\n",
    "data_frames = [pd.read_csv(file_path) for file_path in file_paths]\n",
    "combined_df = pd.concat(data_frames)\n",
    "mean_ranks = combined_df.groupby('Model_name')['ranks'].mean().reset_index()\n",
    "\n",
    "# Sort the results by mean ranks in ascending order\n",
    "mean_ranks_sorted = mean_ranks.sort_values(by='ranks')\n",
    "\n",
    "print(mean_ranks_sorted)"
   ]
  }
 ],
 "metadata": {
  "kernelspec": {
   "display_name": "Python 3",
   "language": "python",
   "name": "python3"
  },
  "language_info": {
   "codemirror_mode": {
    "name": "ipython",
    "version": 3
   },
   "file_extension": ".py",
   "mimetype": "text/x-python",
   "name": "python",
   "nbconvert_exporter": "python",
   "pygments_lexer": "ipython3",
   "version": "3.9.17"
  }
 },
 "nbformat": 4,
 "nbformat_minor": 2
}
